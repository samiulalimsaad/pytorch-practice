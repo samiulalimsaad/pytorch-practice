{
  "cells": [
    {
      "cell_type": "markdown",
      "metadata": {
        "id": "view-in-github",
        "colab_type": "text"
      },
      "source": [
        "<a href=\"https://colab.research.google.com/github/samiulalimsaad/pytorch-practice/blob/main/00_pytorch_fundamentals_video.ipynb\" target=\"_parent\"><img src=\"https://colab.research.google.com/assets/colab-badge.svg\" alt=\"Open In Colab\"/></a>"
      ]
    },
    {
      "cell_type": "code",
      "execution_count": null,
      "metadata": {
        "id": "aeIX6Ql10QlH",
        "outputId": "ea85e1a0-3d3c-4c15-c33b-346d15b7b2cd"
      },
      "outputs": [
        {
          "name": "stdout",
          "output_type": "stream",
          "text": [
            "2.0.0+cpu\n"
          ]
        }
      ],
      "source": [
        "import torch\n",
        "import pandas as pd\n",
        "import numpy as np\n",
        "import matplotlib.pyplot as plt\n",
        "\n",
        "print(torch.__version__)\n"
      ]
    },
    {
      "cell_type": "markdown",
      "metadata": {
        "id": "Hv2TzYpx0QlI"
      },
      "source": [
        "## Introduction to PyTorch\n"
      ]
    },
    {
      "cell_type": "markdown",
      "metadata": {
        "id": "7k_pSFpB0QlJ"
      },
      "source": [
        "### Scaler\n"
      ]
    },
    {
      "cell_type": "code",
      "execution_count": null,
      "metadata": {
        "id": "dqbJhDi30QlJ",
        "outputId": "3584bfaf-2da9-487f-e4b9-22a337ff04c8"
      },
      "outputs": [
        {
          "data": {
            "text/plain": [
              "tensor(7)"
            ]
          },
          "execution_count": 2,
          "metadata": {},
          "output_type": "execute_result"
        }
      ],
      "source": [
        "scaler = torch.tensor(7)\n",
        "scaler\n"
      ]
    },
    {
      "cell_type": "code",
      "execution_count": null,
      "metadata": {
        "id": "JBKtV-050QlJ",
        "outputId": "35badba9-b1f1-4daf-93d3-6038e2ad44a8"
      },
      "outputs": [
        {
          "data": {
            "text/plain": [
              "0"
            ]
          },
          "execution_count": 3,
          "metadata": {},
          "output_type": "execute_result"
        }
      ],
      "source": [
        "scaler.ndim\n"
      ]
    },
    {
      "cell_type": "code",
      "execution_count": null,
      "metadata": {
        "id": "HrSnvh5l0QlJ",
        "outputId": "c768f937-fb10-4438-e34f-daa0936bb2e9"
      },
      "outputs": [
        {
          "data": {
            "text/plain": [
              "torch.Size([])"
            ]
          },
          "execution_count": 4,
          "metadata": {},
          "output_type": "execute_result"
        }
      ],
      "source": [
        "scaler.shape\n"
      ]
    },
    {
      "cell_type": "code",
      "execution_count": null,
      "metadata": {
        "id": "4rb-pgqx0QlJ",
        "outputId": "4e82dc0d-8ece-4b07-fa63-c73c49210c0e"
      },
      "outputs": [
        {
          "data": {
            "text/plain": [
              "7"
            ]
          },
          "execution_count": 5,
          "metadata": {},
          "output_type": "execute_result"
        }
      ],
      "source": [
        "scaler.item()\n"
      ]
    },
    {
      "cell_type": "markdown",
      "metadata": {
        "id": "SMDPltor0QlK"
      },
      "source": [
        "### Vector\n"
      ]
    },
    {
      "cell_type": "code",
      "execution_count": null,
      "metadata": {
        "id": "rEFKTuiB0QlK",
        "outputId": "21fe95f6-027a-42dd-cf42-eb3eeef79239"
      },
      "outputs": [
        {
          "data": {
            "text/plain": [
              "tensor([1, 2, 3, 4, 5])"
            ]
          },
          "execution_count": 6,
          "metadata": {},
          "output_type": "execute_result"
        }
      ],
      "source": [
        "vector = torch.tensor([1, 2, 3, 4, 5])\n",
        "vector\n"
      ]
    },
    {
      "cell_type": "code",
      "execution_count": null,
      "metadata": {
        "id": "W6uKjcmv0QlK",
        "outputId": "5734545d-86d5-4107-8786-9fc2f9eee182"
      },
      "outputs": [
        {
          "data": {
            "text/plain": [
              "1"
            ]
          },
          "execution_count": 7,
          "metadata": {},
          "output_type": "execute_result"
        }
      ],
      "source": [
        "vector.ndim\n"
      ]
    },
    {
      "cell_type": "code",
      "execution_count": null,
      "metadata": {
        "id": "R53LmK-60QlK",
        "outputId": "6487946f-043d-40c2-eb13-cf661165ecf0"
      },
      "outputs": [
        {
          "data": {
            "text/plain": [
              "torch.Size([5])"
            ]
          },
          "execution_count": 8,
          "metadata": {},
          "output_type": "execute_result"
        }
      ],
      "source": [
        "vector.shape\n"
      ]
    },
    {
      "cell_type": "markdown",
      "metadata": {
        "id": "vWoNJ7Cs0QlK"
      },
      "source": [
        "### Matrix\n"
      ]
    },
    {
      "cell_type": "code",
      "execution_count": null,
      "metadata": {
        "id": "ShFxCPIZ0QlK",
        "outputId": "2f5fbcaf-c9aa-4a9e-d7e6-5d8c9c76668a"
      },
      "outputs": [
        {
          "data": {
            "text/plain": [
              "tensor([[1, 2, 3],\n",
              "        [4, 5, 6]])"
            ]
          },
          "execution_count": 9,
          "metadata": {},
          "output_type": "execute_result"
        }
      ],
      "source": [
        "MATRIX = torch.tensor([[1, 2, 3], [4, 5, 6]])\n",
        "MATRIX\n"
      ]
    },
    {
      "cell_type": "code",
      "execution_count": null,
      "metadata": {
        "id": "bQlL3bSv0QlL",
        "outputId": "e42aa2dc-0404-4cdf-820f-c8522fd4a157"
      },
      "outputs": [
        {
          "data": {
            "text/plain": [
              "2"
            ]
          },
          "execution_count": 10,
          "metadata": {},
          "output_type": "execute_result"
        }
      ],
      "source": [
        "MATRIX.ndim\n"
      ]
    },
    {
      "cell_type": "code",
      "execution_count": null,
      "metadata": {
        "id": "g5rdmJxM0QlL",
        "outputId": "16eddc56-d74d-4352-9d3a-481056cbd7df"
      },
      "outputs": [
        {
          "data": {
            "text/plain": [
              "torch.Size([2, 3])"
            ]
          },
          "execution_count": 11,
          "metadata": {},
          "output_type": "execute_result"
        }
      ],
      "source": [
        "MATRIX.shape\n"
      ]
    },
    {
      "cell_type": "code",
      "execution_count": null,
      "metadata": {
        "id": "2G51AB3b0QlL",
        "outputId": "c99b1e7e-b3d7-4036-b9c4-eac8b78f0e8b"
      },
      "outputs": [
        {
          "data": {
            "text/plain": [
              "tensor([1, 2, 3])"
            ]
          },
          "execution_count": 12,
          "metadata": {},
          "output_type": "execute_result"
        }
      ],
      "source": [
        "MATRIX[0]\n"
      ]
    },
    {
      "cell_type": "code",
      "execution_count": null,
      "metadata": {
        "id": "ztVo_LYZ0QlL",
        "outputId": "1b4e0e0b-8600-468c-aa7d-a377fe6f2003"
      },
      "outputs": [
        {
          "data": {
            "text/plain": [
              "tensor([4, 5, 6])"
            ]
          },
          "execution_count": 13,
          "metadata": {},
          "output_type": "execute_result"
        }
      ],
      "source": [
        "MATRIX[1]\n"
      ]
    },
    {
      "cell_type": "markdown",
      "metadata": {
        "id": "VC_FuvRL0QlL"
      },
      "source": [
        "### Tensor\n"
      ]
    },
    {
      "cell_type": "code",
      "execution_count": null,
      "metadata": {
        "id": "9SEnM6ZA0QlL",
        "outputId": "7f8de5ff-91d0-4414-8c04-b9932b3ad580"
      },
      "outputs": [
        {
          "data": {
            "text/plain": [
              "tensor([[[ 1,  2,  3],\n",
              "         [ 4,  5,  6]],\n",
              "\n",
              "        [[ 7,  8,  9],\n",
              "         [10, 11, 12]]])"
            ]
          },
          "execution_count": 14,
          "metadata": {},
          "output_type": "execute_result"
        }
      ],
      "source": [
        "TENSOR = torch.tensor([[[1, 2, 3], [4, 5, 6]], [[7, 8, 9], [10, 11, 12]]])\n",
        "TENSOR\n"
      ]
    },
    {
      "cell_type": "code",
      "execution_count": null,
      "metadata": {
        "id": "2LAId9MW0QlM",
        "outputId": "79c9c4a2-2d9c-4a3e-84bf-a8f7e8a98ee1"
      },
      "outputs": [
        {
          "data": {
            "text/plain": [
              "3"
            ]
          },
          "execution_count": 15,
          "metadata": {},
          "output_type": "execute_result"
        }
      ],
      "source": [
        "TENSOR.ndim\n"
      ]
    },
    {
      "cell_type": "code",
      "execution_count": null,
      "metadata": {
        "id": "Z-EmC_uP0QlM",
        "outputId": "5d14f8f9-891d-46bc-83e6-f6509bb0e16c"
      },
      "outputs": [
        {
          "data": {
            "text/plain": [
              "torch.Size([2, 2, 3])"
            ]
          },
          "execution_count": 16,
          "metadata": {},
          "output_type": "execute_result"
        }
      ],
      "source": [
        "TENSOR.shape\n"
      ]
    },
    {
      "cell_type": "code",
      "execution_count": null,
      "metadata": {
        "id": "PNlL92hQ0QlM",
        "outputId": "b229f031-1288-420d-a30d-3b2455360bcb"
      },
      "outputs": [
        {
          "data": {
            "text/plain": [
              "tensor([[1, 2, 3],\n",
              "        [4, 5, 6]])"
            ]
          },
          "execution_count": 17,
          "metadata": {},
          "output_type": "execute_result"
        }
      ],
      "source": [
        "TENSOR[0]\n"
      ]
    },
    {
      "cell_type": "markdown",
      "metadata": {
        "id": "JeqPYBfY0QlM"
      },
      "source": [
        "### Random Tensors\n"
      ]
    },
    {
      "cell_type": "code",
      "execution_count": null,
      "metadata": {
        "id": "b3_Vfhgz0QlM",
        "outputId": "1cd8adcc-4dc4-49ad-c417-93e1e1e2e25b"
      },
      "outputs": [
        {
          "data": {
            "text/plain": [
              "tensor([[0.8030, 0.6401, 0.5138, 0.1421, 0.8260],\n",
              "        [0.9065, 0.7420, 0.4683, 0.5922, 0.9796],\n",
              "        [0.7512, 0.5726, 0.4839, 0.9965, 0.2629]])"
            ]
          },
          "execution_count": 18,
          "metadata": {},
          "output_type": "execute_result"
        }
      ],
      "source": [
        "# Create a random tensor of shape (3, 5)\n",
        "X = torch.rand(3, 5)\n",
        "X\n"
      ]
    },
    {
      "cell_type": "code",
      "execution_count": null,
      "metadata": {
        "id": "fiwu8Zb50QlM",
        "outputId": "a1b04c5f-484a-4e6f-8915-f1a1c1f65c02"
      },
      "outputs": [
        {
          "data": {
            "text/plain": [
              "(torch.Size([3, 224, 224]), 3)"
            ]
          },
          "execution_count": 19,
          "metadata": {},
          "output_type": "execute_result"
        }
      ],
      "source": [
        "# create a random tensor with similar shape to an image tensor\n",
        "random_image_size_tensor = torch.rand(\n",
        "    size=(3, 224, 224)\n",
        ")  # height, width, color channels (R, G, B)\n",
        "random_image_size_tensor.shape, random_image_size_tensor.ndim\n"
      ]
    },
    {
      "cell_type": "code",
      "execution_count": null,
      "metadata": {
        "id": "xXi5ueib0QlN",
        "outputId": "dd8808a3-a550-49af-b712-5a356f0f80f0"
      },
      "outputs": [
        {
          "data": {
            "text/plain": [
              "tensor([[0., 0., 0., 0., 0.],\n",
              "        [0., 0., 0., 0., 0.],\n",
              "        [0., 0., 0., 0., 0.]])"
            ]
          },
          "execution_count": 20,
          "metadata": {},
          "output_type": "execute_result"
        }
      ],
      "source": [
        "# create a tensor of all zeros\n",
        "zeros = torch.zeros(size=(3, 5))\n",
        "zeros\n"
      ]
    },
    {
      "cell_type": "code",
      "execution_count": null,
      "metadata": {
        "id": "Yodp-5g30QlN",
        "outputId": "6757264c-d283-4e75-986f-f374f4a4b946"
      },
      "outputs": [
        {
          "data": {
            "text/plain": [
              "tensor([[1., 1., 1., 1., 1.],\n",
              "        [1., 1., 1., 1., 1.],\n",
              "        [1., 1., 1., 1., 1.]])"
            ]
          },
          "execution_count": 21,
          "metadata": {},
          "output_type": "execute_result"
        }
      ],
      "source": [
        "# create a tensor of all ones\n",
        "ones = torch.ones(size=(3, 5))\n",
        "ones\n"
      ]
    },
    {
      "cell_type": "code",
      "execution_count": null,
      "metadata": {
        "id": "2moJkmsb0QlN",
        "outputId": "562bbc34-1e50-4c6c-8874-0521457bd03e"
      },
      "outputs": [
        {
          "data": {
            "text/plain": [
              "torch.float32"
            ]
          },
          "execution_count": 22,
          "metadata": {},
          "output_type": "execute_result"
        }
      ],
      "source": [
        "ones.dtype\n"
      ]
    },
    {
      "cell_type": "markdown",
      "metadata": {
        "id": "OcS2nd1O0QlN"
      },
      "source": [
        "### Creating a range of tensors and tensors-like\n"
      ]
    },
    {
      "cell_type": "code",
      "execution_count": null,
      "metadata": {
        "id": "lo8uCCIP0QlN",
        "outputId": "103e7383-81bc-4f67-e01d-8c2e894175a1"
      },
      "outputs": [
        {
          "data": {
            "text/plain": [
              "tensor([0, 1, 2, 3, 4, 5, 6, 7, 8, 9])"
            ]
          },
          "execution_count": 23,
          "metadata": {},
          "output_type": "execute_result"
        }
      ],
      "source": [
        "# Use torch.range and get deprecated warning, use torch.arange instead\n",
        "one_to_ten = torch.arange(0, 10)\n",
        "one_to_ten\n"
      ]
    },
    {
      "cell_type": "code",
      "execution_count": null,
      "metadata": {
        "id": "nq5X3UtC0QlN",
        "outputId": "2e2e90d6-391e-430a-c8b1-559f979c3df4"
      },
      "outputs": [
        {
          "data": {
            "text/plain": [
              "tensor([0.0000, 1.1000, 2.2000, 3.3000, 4.4000, 5.5000, 6.6000, 7.7000, 8.8000,\n",
              "        9.9000])"
            ]
          },
          "execution_count": 24,
          "metadata": {},
          "output_type": "execute_result"
        }
      ],
      "source": [
        "# Use torch.range\n",
        "one_to_ten2 = torch.arange(start=0, end=10, step=1.1)\n",
        "one_to_ten2\n"
      ]
    },
    {
      "cell_type": "code",
      "execution_count": null,
      "metadata": {
        "id": "a1leN0hY0QlN",
        "outputId": "5d23d38c-2534-42ea-e65d-24258310c632"
      },
      "outputs": [
        {
          "data": {
            "text/plain": [
              "tensor([0, 0, 0, 0, 0, 0, 0, 0, 0, 0])"
            ]
          },
          "execution_count": 25,
          "metadata": {},
          "output_type": "execute_result"
        }
      ],
      "source": [
        "# creating tensors like\n",
        "ten_zeros = torch.zeros_like(input=one_to_ten)\n",
        "ten_zeros\n"
      ]
    },
    {
      "cell_type": "markdown",
      "metadata": {
        "id": "rVD6gAFK0QlO"
      },
      "source": [
        "## Tensor Data types\n",
        "\n",
        "**Note:** Tensor data types is one of the 3 big errors you'll run into with PyTorch & Deep Learning :\n",
        "\n",
        "1. Tensor is not right data type\n",
        "2. Tensor is not right shape\n",
        "3. Tensor is not on right device\n"
      ]
    },
    {
      "cell_type": "code",
      "execution_count": null,
      "metadata": {
        "id": "hdOjuBkI0QlO",
        "outputId": "248c62bf-367a-44f5-b170-354365cb5d2e"
      },
      "outputs": [
        {
          "data": {
            "text/plain": [
              "(torch.float32, tensor([1.1000, 2.2000, 3.3000]))"
            ]
          },
          "execution_count": 26,
          "metadata": {},
          "output_type": "execute_result"
        }
      ],
      "source": [
        "# float 32 tensor\n",
        "float_32_tensor = torch.tensor(\n",
        "    data=[1.1, 2.2, 3.3],  # the data to store in the tensor\n",
        "    dtype=torch.float32,  # the data type of the tensor\n",
        "    device=None,  # what device to store the tensor on (CPU, GPU)\n",
        "    requires_grad=False,\n",
        ")  # whether or not the tensor should be tracked by the gradient descent algorithm\n",
        "float_32_tensor.dtype, float_32_tensor\n"
      ]
    },
    {
      "cell_type": "code",
      "execution_count": null,
      "metadata": {
        "id": "_dlnvyGq0QlO",
        "outputId": "dd55ae15-f8a2-435d-e70d-88499d9a8f04"
      },
      "outputs": [
        {
          "data": {
            "text/plain": [
              "(torch.float16, tensor([1.0996, 2.1992, 3.3008], dtype=torch.float16))"
            ]
          },
          "execution_count": 27,
          "metadata": {},
          "output_type": "execute_result"
        }
      ],
      "source": [
        "float_16_tensor = float_32_tensor.type(torch.float16)  # convert to float 16\n",
        "float_16_tensor.dtype, float_16_tensor\n"
      ]
    },
    {
      "cell_type": "code",
      "execution_count": null,
      "metadata": {
        "id": "1d43wv3p0QlO",
        "outputId": "d0c6798c-437c-48ce-c580-9b8231bb739e"
      },
      "outputs": [
        {
          "data": {
            "text/plain": [
              "tensor([ 1.2096,  4.8383, 10.8926])"
            ]
          },
          "execution_count": 28,
          "metadata": {},
          "output_type": "execute_result"
        }
      ],
      "source": [
        "float_32_tensor * float_16_tensor\n"
      ]
    },
    {
      "cell_type": "code",
      "execution_count": null,
      "metadata": {
        "id": "oy3Fg_iu0QlO",
        "outputId": "3e3606a1-69e8-422b-b198-46d0cc6d0a0f"
      },
      "outputs": [
        {
          "data": {
            "text/plain": [
              "(torch.int64, tensor([1, 2, 3]))"
            ]
          },
          "execution_count": 29,
          "metadata": {},
          "output_type": "execute_result"
        }
      ],
      "source": [
        "int_32_tensor = torch.tensor(data=[1, 2, 3])  # the data to store in the tensor\n",
        "int_32_tensor.dtype, int_32_tensor\n"
      ]
    },
    {
      "cell_type": "code",
      "execution_count": null,
      "metadata": {
        "id": "SyDa13dv0QlO",
        "outputId": "ff6777cb-ebfd-4a44-f053-eafce7acdc7c"
      },
      "outputs": [
        {
          "data": {
            "text/plain": [
              "tensor([1.1000, 4.4000, 9.9000])"
            ]
          },
          "execution_count": 30,
          "metadata": {},
          "output_type": "execute_result"
        }
      ],
      "source": [
        "float_32_tensor * int_32_tensor\n"
      ]
    },
    {
      "cell_type": "markdown",
      "metadata": {
        "id": "i54jIwV80QlO"
      },
      "source": [
        "## Getting information from tensors\n",
        "\n",
        "1. Tensor is not right data type - to get data type form a tensor, can use `tensor.dtype`\n",
        "2. Tensor is not right shape - to get data type form a tensor, can use `tensor.shape`\n",
        "3. Tensor is not on right device - to get data type form a tensor, can use `tensor.device`\n"
      ]
    },
    {
      "cell_type": "code",
      "execution_count": null,
      "metadata": {
        "id": "a_U19Jzc0QlP",
        "outputId": "66d7ea1f-5063-4407-bad4-b9c1bb70f84d"
      },
      "outputs": [
        {
          "data": {
            "text/plain": [
              "tensor([[5, 9, 9],\n",
              "        [2, 7, 4],\n",
              "        [5, 4, 8]])"
            ]
          },
          "execution_count": 31,
          "metadata": {},
          "output_type": "execute_result"
        }
      ],
      "source": [
        "# create a tensor of random integers\n",
        "random_int_tensor = torch.randint(low=0, high=10, size=(3, 3))\n",
        "random_int_tensor\n"
      ]
    },
    {
      "cell_type": "code",
      "execution_count": null,
      "metadata": {
        "id": "PLGggM-l0QlP",
        "outputId": "29f9933a-7dab-4a42-a648-30f0622ff48d"
      },
      "outputs": [
        {
          "name": "stdout",
          "output_type": "stream",
          "text": [
            "tensor([[5, 9, 9],\n",
            "        [2, 7, 4],\n",
            "        [5, 4, 8]])\n",
            "Data type of tensor: torch.int64\n",
            "Shape of tensor: torch.Size([3, 3])\n",
            "Size of tensor: torch.Size([3, 3])\n",
            "Device tensor is stored on: cpu\n",
            "Number of dimensions: 2\n"
          ]
        }
      ],
      "source": [
        "# find out details about a tensor\n",
        "print(random_int_tensor)\n",
        "print(f\"Data type of tensor: {random_int_tensor.dtype}\")\n",
        "print(f\"Shape of tensor: {random_int_tensor.shape}\")\n",
        "print(f\"Size of tensor: {random_int_tensor.size()}\")\n",
        "print(f\"Device tensor is stored on: {random_int_tensor.device}\")\n",
        "print(f\"Number of dimensions: {random_int_tensor.ndim}\")\n"
      ]
    },
    {
      "cell_type": "markdown",
      "metadata": {
        "id": "QI1tjTkr0QlP"
      },
      "source": [
        "### Manipulating tensors (tensor operations)\n",
        "\n",
        "Tensor operations include:\n",
        "\n",
        "1. Addition\n",
        "2. Subtraction\n",
        "3. Multiplication\n",
        "4. Division\n",
        "5. Matrix Multiplication\n"
      ]
    },
    {
      "cell_type": "code",
      "execution_count": null,
      "metadata": {
        "id": "FAC9nK3R0QlP",
        "outputId": "4dc4d99b-d075-47f0-c26d-f3e954767132"
      },
      "outputs": [
        {
          "data": {
            "text/plain": [
              "(tensor([[1, 2, 3],\n",
              "         [4, 5, 6]]),\n",
              " tensor([[11, 12, 13],\n",
              "         [14, 15, 16]]))"
            ]
          },
          "execution_count": 33,
          "metadata": {},
          "output_type": "execute_result"
        }
      ],
      "source": [
        "# create a tensor\n",
        "tensor = torch.tensor(data=[[1, 2, 3], [4, 5, 6]])\n",
        "tensor, tensor + 10\n"
      ]
    },
    {
      "cell_type": "code",
      "execution_count": null,
      "metadata": {
        "id": "ayTd5jsr0QlP",
        "outputId": "4825f4eb-0b59-4405-9ccb-491339efd7ae"
      },
      "outputs": [
        {
          "data": {
            "text/plain": [
              "tensor([[-9, -8, -7],\n",
              "        [-6, -5, -4]])"
            ]
          },
          "execution_count": 34,
          "metadata": {},
          "output_type": "execute_result"
        }
      ],
      "source": [
        "tensor - 10\n"
      ]
    },
    {
      "cell_type": "code",
      "execution_count": null,
      "metadata": {
        "id": "2Z0PoswA0QlP",
        "outputId": "07bb0928-22dc-4555-bd3b-fb741e36ce78"
      },
      "outputs": [
        {
          "data": {
            "text/plain": [
              "tensor([[10, 20, 30],\n",
              "        [40, 50, 60]])"
            ]
          },
          "execution_count": 35,
          "metadata": {},
          "output_type": "execute_result"
        }
      ],
      "source": [
        "tensor * 10\n"
      ]
    },
    {
      "cell_type": "code",
      "execution_count": null,
      "metadata": {
        "id": "yvVAAbaJ0QlP",
        "outputId": "5c576d35-8107-42bc-f611-6a327698d512"
      },
      "outputs": [
        {
          "data": {
            "text/plain": [
              "tensor([[0.1000, 0.2000, 0.3000],\n",
              "        [0.4000, 0.5000, 0.6000]])"
            ]
          },
          "execution_count": 36,
          "metadata": {},
          "output_type": "execute_result"
        }
      ],
      "source": [
        "tensor / 10\n"
      ]
    },
    {
      "cell_type": "code",
      "execution_count": null,
      "metadata": {
        "id": "ZrumRS_10QlQ",
        "outputId": "9e1a8d70-34bb-4b3d-9843-5405304ddf6f"
      },
      "outputs": [
        {
          "data": {
            "text/plain": [
              "tensor([[10, 20, 30],\n",
              "        [40, 50, 60]])"
            ]
          },
          "execution_count": 37,
          "metadata": {},
          "output_type": "execute_result"
        }
      ],
      "source": [
        "# Try out PyTorch built-in functions\n",
        "\n",
        "torch.mul(tensor, 10)\n"
      ]
    },
    {
      "cell_type": "code",
      "execution_count": null,
      "metadata": {
        "id": "DqZMf9D40QlQ",
        "outputId": "d14bc73d-6f4c-49d7-846a-5a7371e40ea6"
      },
      "outputs": [
        {
          "data": {
            "text/plain": [
              "tensor([[ 1,  4,  9],\n",
              "        [16, 25, 36]])"
            ]
          },
          "execution_count": 38,
          "metadata": {},
          "output_type": "execute_result"
        }
      ],
      "source": [
        "tensor**2\n"
      ]
    },
    {
      "cell_type": "markdown",
      "metadata": {
        "id": "uMuwz_bB0QlQ"
      },
      "source": [
        "### Matrix Multiplication\n",
        "\n",
        "Two main ways to perform matrix multiplication in PyTorch:\n",
        "\n",
        "1. Element-wise multiplication\n",
        "2. Matrix multiplication (dot product)\n",
        "\n",
        "There are two main rules that perform matrix multiplication:\n",
        "\n",
        "1. The inner dimensions must match\n",
        "    - `(3,2) @ (3,2)` won't work\n",
        "    - `(3,2) @ (2,3)` will work\n",
        "    - `(2,3) @ (3,2)` will work\n",
        "2. The resulting matrix has the shape of the outer dimensions\n",
        "    - `(3,2) @ (2,3)` will result in a `(3,3)` matrix\n",
        "    - `(2,3) @ (3,2)` will result in a `(2,2)` matrix\n"
      ]
    },
    {
      "cell_type": "code",
      "execution_count": null,
      "metadata": {
        "id": "TKBWop6u0QlQ",
        "outputId": "f2674c4e-8473-46b1-cf00-73a91f05da6b"
      },
      "outputs": [
        {
          "data": {
            "text/plain": [
              "tensor([[1.1017, 1.0073, 0.9080],\n",
              "        [1.3178, 1.1731, 1.0798],\n",
              "        [1.1488, 1.0005, 0.9369]])"
            ]
          },
          "execution_count": 39,
          "metadata": {},
          "output_type": "execute_result"
        }
      ],
      "source": [
        "torch.matmul(torch.rand(size=(3, 2)), torch.rand(size=(2, 3)))\n"
      ]
    },
    {
      "cell_type": "code",
      "execution_count": null,
      "metadata": {
        "id": "AVxBhouo0QlQ",
        "outputId": "5263e473-5dd9-4fa5-a6d1-039a575b295f"
      },
      "outputs": [
        {
          "name": "stdout",
          "output_type": "stream",
          "text": [
            "tensor([[1, 2, 3],\n",
            "        [4, 5, 6]]) * tensor([[1, 2, 3],\n",
            "        [4, 5, 6]]) = tensor([[ 1,  4,  9],\n",
            "        [16, 25, 36]])\n"
          ]
        }
      ],
      "source": [
        "# Element-wise multiplication\n",
        "print(tensor, \"*\", tensor, \"=\", torch.mul(tensor, tensor))\n"
      ]
    },
    {
      "cell_type": "code",
      "execution_count": null,
      "metadata": {
        "id": "4N9aco5Y0QlQ",
        "outputId": "3e15f975-c431-4b58-d4d9-03d8d68ddb5b"
      },
      "outputs": [
        {
          "data": {
            "text/plain": [
              "tensor([[14, 32],\n",
              "        [32, 77]])"
            ]
          },
          "execution_count": 41,
          "metadata": {},
          "output_type": "execute_result"
        }
      ],
      "source": [
        "# matrix multiplication\n",
        "torch.matmul(tensor, tensor.T)\n"
      ]
    },
    {
      "cell_type": "code",
      "execution_count": null,
      "metadata": {
        "id": "Ye8tezFA0QlQ",
        "outputId": "c4a3ee8c-1c24-487d-fdd1-21005763174d"
      },
      "outputs": [
        {
          "data": {
            "text/plain": [
              "(tensor([[1, 2, 3],\n",
              "         [4, 5, 6]]),\n",
              " tensor([[1, 4],\n",
              "         [2, 5],\n",
              "         [3, 6]]))"
            ]
          },
          "execution_count": 42,
          "metadata": {},
          "output_type": "execute_result"
        }
      ],
      "source": [
        "tensor, tensor.T\n"
      ]
    },
    {
      "cell_type": "code",
      "execution_count": null,
      "metadata": {
        "id": "9JvllFKx0QlQ",
        "outputId": "6fc5528c-3624-4fc8-f147-eb43812d5023"
      },
      "outputs": [
        {
          "data": {
            "text/plain": [
              "([14, 32], [32, 77])"
            ]
          },
          "execution_count": 43,
          "metadata": {},
          "output_type": "execute_result"
        }
      ],
      "source": [
        "# matrix multiplication by hand\n",
        "[1 * 1 + 2 * 2 + 3 * 3, 1 * 4 + 2 * 5 + 3 * 6], [\n",
        "    4 * 1 + 5 * 2 + 6 * 3,\n",
        "    4 * 4 + 5 * 5 + 6 * 6,\n",
        "]\n"
      ]
    },
    {
      "cell_type": "code",
      "execution_count": null,
      "metadata": {
        "id": "PvcJ363B0QlR",
        "outputId": "447f119e-79fc-4f55-bfa0-a8a4beaf0da5"
      },
      "outputs": [
        {
          "name": "stdout",
          "output_type": "stream",
          "text": [
            "shell  0.00s user 0.01s system 2250% cpu 0.000 total\n",
            "children  0.00s user 0.00s system 0% cpu 0.000 total\n",
            "tensor(14)\n"
          ]
        }
      ],
      "source": [
        "!time\n",
        "t = torch.tensor([1,2,3])\n",
        "m =[]\n",
        "value =0\n",
        "for i in range(len(t)):\n",
        "    value += t[i]*t[i]\n",
        "    \n",
        "\n",
        "print(value)"
      ]
    },
    {
      "cell_type": "code",
      "execution_count": null,
      "metadata": {
        "id": "E8CYVneM0QlR",
        "outputId": "c9896aef-8ddd-47fc-e82a-f2f4cec68dd1"
      },
      "outputs": [
        {
          "name": "stdout",
          "output_type": "stream",
          "text": [
            "shell  0.00s user 0.01s system 2523% cpu 0.000 total\n",
            "children  0.00s user 0.00s system 0% cpu 0.000 total\n"
          ]
        },
        {
          "data": {
            "text/plain": [
              "tensor(14)"
            ]
          },
          "execution_count": 45,
          "metadata": {},
          "output_type": "execute_result"
        }
      ],
      "source": [
        "!time\n",
        "\n",
        "torch.matmul(t,t)"
      ]
    },
    {
      "cell_type": "code",
      "execution_count": null,
      "metadata": {
        "id": "UztSQ6JJ0QlR",
        "outputId": "088a3008-4437-485a-e6b0-5165196af72e"
      },
      "outputs": [
        {
          "name": "stdout",
          "output_type": "stream",
          "text": [
            "shell  0.00s user 0.01s system 2132% cpu 0.000 total\n",
            "children  0.00s user 0.00s system 0% cpu 0.000 total\n"
          ]
        },
        {
          "data": {
            "text/plain": [
              "tensor([[14, 32],\n",
              "        [32, 77]])"
            ]
          },
          "execution_count": 46,
          "metadata": {},
          "output_type": "execute_result"
        }
      ],
      "source": [
        "!time \n",
        "\n",
        "torch.matmul(tensor, tensor.T)"
      ]
    },
    {
      "cell_type": "code",
      "execution_count": null,
      "metadata": {
        "id": "zTJ0jvyr0QlR",
        "outputId": "a7074501-dbb7-4424-9822-d7b80bbdc5aa"
      },
      "outputs": [
        {
          "data": {
            "text/plain": [
              "tensor([[14, 32],\n",
              "        [32, 77]])"
            ]
          },
          "execution_count": 47,
          "metadata": {},
          "output_type": "execute_result"
        }
      ],
      "source": [
        "# @ operator for matrix multiplication\n",
        "tensor @ tensor.T\n"
      ]
    },
    {
      "cell_type": "markdown",
      "metadata": {
        "id": "1Kfe4dur0QlR"
      },
      "source": [
        "### One of the most common error in deep learning: shape error\n"
      ]
    },
    {
      "cell_type": "code",
      "execution_count": null,
      "metadata": {
        "id": "4xl4ofGf0QlR",
        "outputId": "2d97fb77-de05-4d73-f86e-ae0f2f1d0886"
      },
      "outputs": [
        {
          "data": {
            "text/plain": [
              "(tensor([[ 76, 103],\n",
              "         [100, 136]]),\n",
              " tensor([[ 27,  30,  33],\n",
              "         [ 61,  68,  75],\n",
              "         [ 95, 106, 117]]))"
            ]
          },
          "execution_count": 48,
          "metadata": {},
          "output_type": "execute_result"
        }
      ],
      "source": [
        "# Shape for matrix multiplication\n",
        "tensor_A = torch.tensor([[1, 2], [3, 4], [5, 6]])\n",
        "tensor_B = torch.tensor([[7, 10], [8, 11], [9, 12]])\n",
        "# torch.matmul(tensor_A, tensor_B) # error because of shape\n",
        "torch.matmul(tensor_A.T, tensor_B), torch.matmul(tensor_A, tensor_B.T)\n"
      ]
    },
    {
      "cell_type": "markdown",
      "metadata": {
        "id": "pJHYUQv70QlR"
      },
      "source": [
        "## Finding min, max, sum, mean, absolute value, standard deviation (tensor aggregation)\n"
      ]
    },
    {
      "cell_type": "code",
      "execution_count": null,
      "metadata": {
        "id": "JIVWqaH10QlR",
        "outputId": "fea82a6f-3607-4155-a7c4-19dc869e235d"
      },
      "outputs": [
        {
          "data": {
            "text/plain": [
              "tensor([ 0, 10, 20, 30, 40, 50, 60, 70, 80, 90])"
            ]
          },
          "execution_count": 49,
          "metadata": {},
          "output_type": "execute_result"
        }
      ],
      "source": [
        "# create a tensor\n",
        "x = torch.arange(0, 100, 10)\n",
        "x\n"
      ]
    },
    {
      "cell_type": "code",
      "execution_count": null,
      "metadata": {
        "id": "NVtMdX1M0QlS",
        "outputId": "3f75f88e-3b9a-45ca-972a-48e5c01b9b42"
      },
      "outputs": [
        {
          "data": {
            "text/plain": [
              "(tensor(0), tensor(0))"
            ]
          },
          "execution_count": 50,
          "metadata": {},
          "output_type": "execute_result"
        }
      ],
      "source": [
        "# find the min\n",
        "torch.min(x), x.min()\n"
      ]
    },
    {
      "cell_type": "code",
      "execution_count": null,
      "metadata": {
        "id": "1ierlOX00QlS",
        "outputId": "6acd2c4c-7fac-408d-f166-2c6b56d5ab87"
      },
      "outputs": [
        {
          "data": {
            "text/plain": [
              "(tensor(90), tensor(90))"
            ]
          },
          "execution_count": 51,
          "metadata": {},
          "output_type": "execute_result"
        }
      ],
      "source": [
        "# find the max\n",
        "torch.max(x), x.max()\n"
      ]
    },
    {
      "cell_type": "code",
      "execution_count": null,
      "metadata": {
        "id": "lwsQOWbj0QlS",
        "outputId": "d4e4356f-2a0b-49b1-ee32-17dade7841af"
      },
      "outputs": [
        {
          "data": {
            "text/plain": [
              "(tensor(45.), tensor(45.))"
            ]
          },
          "execution_count": 52,
          "metadata": {},
          "output_type": "execute_result"
        }
      ],
      "source": [
        "# find the mean. note that the torch.mean() function requires a float32 tensor\n",
        "torch.mean(x.type(torch.float32)), x.type(torch.float32).mean()\n"
      ]
    },
    {
      "cell_type": "code",
      "execution_count": null,
      "metadata": {
        "id": "CFpJlFgE0QlS",
        "outputId": "99bed710-8c22-4286-957b-fc5f66e8e731"
      },
      "outputs": [
        {
          "data": {
            "text/plain": [
              "(tensor(450), tensor(450))"
            ]
          },
          "execution_count": 53,
          "metadata": {},
          "output_type": "execute_result"
        }
      ],
      "source": [
        "# find the sum\n",
        "torch.sum(x), x.sum()\n"
      ]
    },
    {
      "cell_type": "markdown",
      "metadata": {
        "id": "QZSBb8_N0QlS"
      },
      "source": [
        "### finding the positional maximum and minimum\n"
      ]
    },
    {
      "cell_type": "code",
      "execution_count": null,
      "metadata": {
        "id": "8U2kFiuQ0QlS",
        "outputId": "94cb2e29-0ffd-4ed3-cfbe-00140c84e603"
      },
      "outputs": [
        {
          "data": {
            "text/plain": [
              "tensor([ 0, 10, 20, 30, 40, 50, 60, 70, 80, 90])"
            ]
          },
          "execution_count": 54,
          "metadata": {},
          "output_type": "execute_result"
        }
      ],
      "source": [
        "x\n"
      ]
    },
    {
      "cell_type": "code",
      "execution_count": null,
      "metadata": {
        "id": "8TRf1gNd0QlS",
        "outputId": "e5b0a545-c4f6-4c47-93e2-5fe5dadab5e3"
      },
      "outputs": [
        {
          "data": {
            "text/plain": [
              "(tensor(0), tensor(0))"
            ]
          },
          "execution_count": 55,
          "metadata": {},
          "output_type": "execute_result"
        }
      ],
      "source": [
        "# find the position in tensor that has the minimum value\n",
        "\n",
        "x.argmin(), x.min()\n"
      ]
    },
    {
      "cell_type": "code",
      "execution_count": null,
      "metadata": {
        "id": "MN-bEO0V0QlT",
        "outputId": "3482f4a0-2bec-488f-fd63-90b585ab0413"
      },
      "outputs": [
        {
          "data": {
            "text/plain": [
              "(tensor(9), tensor(90))"
            ]
          },
          "execution_count": 56,
          "metadata": {},
          "output_type": "execute_result"
        }
      ],
      "source": [
        "# find the position in tensor that has the maximum value\n",
        "\n",
        "x.argmax(), x.max()\n"
      ]
    },
    {
      "cell_type": "code",
      "execution_count": null,
      "metadata": {
        "id": "_gpDYkx_0QlT",
        "outputId": "fa087002-0168-40eb-9cf0-d00ad884946d"
      },
      "outputs": [
        {
          "data": {
            "text/plain": [
              "(tensor([[1, 2],\n",
              "         [3, 4],\n",
              "         [5, 6]]),\n",
              " tensor(5))"
            ]
          },
          "execution_count": 57,
          "metadata": {},
          "output_type": "execute_result"
        }
      ],
      "source": [
        "tensor_A, tensor_A.argmax()\n"
      ]
    },
    {
      "cell_type": "markdown",
      "metadata": {
        "id": "i580cMOa0QlT"
      },
      "source": [
        "## Reshaping, stacking, squeezing, un-squeezing\n",
        "\n",
        "-   Reshaping - reshape an input tensor to a defined shape\n",
        "-   view - return a view of an input tensor of certain shape but keep the same memory as the original tensor\n",
        "-   stack - combine multiple tensors on top of each other (vertically - vstack) or side by side (horizontally h-stack)\n",
        "-   squeeze - remove all `1` dimensions from a tensor\n",
        "-   unsqueeze - add a dimension of size `1` to a tensor\n",
        "-   permute - return a view of an input tensor with its dimensions permuted (swapper) in a certain order\n"
      ]
    },
    {
      "cell_type": "code",
      "execution_count": null,
      "metadata": {
        "id": "nQor0tPf0QlT",
        "outputId": "c06fb67d-2c62-435f-d80d-39824c25e407"
      },
      "outputs": [
        {
          "data": {
            "text/plain": [
              "(tensor([1., 2., 3., 4., 5., 6., 7., 8., 9.]), torch.Size([9]))"
            ]
          },
          "execution_count": 58,
          "metadata": {},
          "output_type": "execute_result"
        }
      ],
      "source": [
        "x = torch.arange(1.0, 10.0)\n",
        "x, x.shape\n"
      ]
    },
    {
      "cell_type": "code",
      "execution_count": null,
      "metadata": {
        "id": "cxi-wtdE0QlT",
        "outputId": "92a7fa9e-09f4-4054-e126-83dd759b6c34"
      },
      "outputs": [
        {
          "data": {
            "text/plain": [
              "(tensor([[1., 2., 3., 4., 5., 6., 7., 8., 9.]]), torch.Size([1, 9]))"
            ]
          },
          "execution_count": 59,
          "metadata": {},
          "output_type": "execute_result"
        }
      ],
      "source": [
        "# add a dimension to the tensor\n",
        "x_reshaped = x.reshape(1, 9)\n",
        "x_reshaped, x_reshaped.shape\n"
      ]
    },
    {
      "cell_type": "code",
      "execution_count": null,
      "metadata": {
        "id": "zmi95ibF0QlT",
        "outputId": "14b7a33b-ab7d-4cfa-e9e6-9d2fc0fda564"
      },
      "outputs": [
        {
          "data": {
            "text/plain": [
              "(tensor([[1.],\n",
              "         [2.],\n",
              "         [3.],\n",
              "         [4.],\n",
              "         [5.],\n",
              "         [6.],\n",
              "         [7.],\n",
              "         [8.],\n",
              "         [9.]]),\n",
              " torch.Size([9, 1]))"
            ]
          },
          "execution_count": 60,
          "metadata": {},
          "output_type": "execute_result"
        }
      ],
      "source": [
        "x_reshaped2 = x.reshape(9, 1)\n",
        "x_reshaped2, x_reshaped2.shape\n"
      ]
    },
    {
      "cell_type": "code",
      "execution_count": null,
      "metadata": {
        "id": "Fj2yDHY40QlT",
        "outputId": "70735751-1e6a-4397-d828-ed428e756d2c"
      },
      "outputs": [
        {
          "data": {
            "text/plain": [
              "(tensor([[1., 2., 3., 4., 5., 6., 7., 8., 9.]]), torch.Size([1, 9]))"
            ]
          },
          "execution_count": 61,
          "metadata": {},
          "output_type": "execute_result"
        }
      ],
      "source": [
        "# change the view\n",
        "z = x.view(1, 9)\n",
        "z, z.shape\n"
      ]
    },
    {
      "cell_type": "code",
      "execution_count": null,
      "metadata": {
        "id": "sa3kXv6W0QlT",
        "outputId": "2d59f2ee-4680-4391-c15c-c59fc278dcb6"
      },
      "outputs": [
        {
          "data": {
            "text/plain": [
              "(tensor([[5., 2., 3., 4., 5., 6., 7., 8., 9.]]),\n",
              " tensor([5., 2., 3., 4., 5., 6., 7., 8., 9.]))"
            ]
          },
          "execution_count": 62,
          "metadata": {},
          "output_type": "execute_result"
        }
      ],
      "source": [
        "# changing z changes x (because they are the same tensor and shares the same memory)\n",
        "z[:, 0] = 5\n",
        "z, x\n"
      ]
    },
    {
      "cell_type": "code",
      "execution_count": null,
      "metadata": {
        "id": "FPWXGIOg0QlU",
        "outputId": "03324912-5ef6-4285-fc09-d2181173f071"
      },
      "outputs": [
        {
          "data": {
            "text/plain": [
              "tensor([[5., 2., 3., 4., 5., 6., 7., 8., 9.],\n",
              "        [5., 2., 3., 4., 5., 6., 7., 8., 9.],\n",
              "        [5., 2., 3., 4., 5., 6., 7., 8., 9.],\n",
              "        [5., 2., 3., 4., 5., 6., 7., 8., 9.]])"
            ]
          },
          "execution_count": 63,
          "metadata": {},
          "output_type": "execute_result"
        }
      ],
      "source": [
        "# stack tensors on top of each other\n",
        "x_stacked = torch.stack([x, x, x, x], dim=0)\n",
        "x_stacked\n"
      ]
    },
    {
      "cell_type": "code",
      "execution_count": null,
      "metadata": {
        "id": "jGm9ElfP0QlU",
        "outputId": "c7a5a5f5-1363-4de4-80b7-5f5a5c705518"
      },
      "outputs": [
        {
          "data": {
            "text/plain": [
              "tensor([[5., 5., 5., 5.],\n",
              "        [2., 2., 2., 2.],\n",
              "        [3., 3., 3., 3.],\n",
              "        [4., 4., 4., 4.],\n",
              "        [5., 5., 5., 5.],\n",
              "        [6., 6., 6., 6.],\n",
              "        [7., 7., 7., 7.],\n",
              "        [8., 8., 8., 8.],\n",
              "        [9., 9., 9., 9.]])"
            ]
          },
          "execution_count": 64,
          "metadata": {},
          "output_type": "execute_result"
        }
      ],
      "source": [
        "x_stacked = torch.stack([x, x, x, x], dim=1)\n",
        "x_stacked\n"
      ]
    },
    {
      "cell_type": "code",
      "execution_count": null,
      "metadata": {
        "id": "PjYZOjOC0QlU",
        "outputId": "429cdf65-e769-44a2-ce6a-ee7b50e9ff58"
      },
      "outputs": [
        {
          "data": {
            "text/plain": [
              "(tensor([[5., 2., 3., 4., 5., 6., 7., 8., 9.]]), torch.Size([1, 9]))"
            ]
          },
          "execution_count": 65,
          "metadata": {},
          "output_type": "execute_result"
        }
      ],
      "source": [
        "# squeeze the tensor - remove all dimensions of size 1\n",
        "x_reshaped, x_reshaped.shape\n"
      ]
    },
    {
      "cell_type": "code",
      "execution_count": null,
      "metadata": {
        "id": "64ke9TiH0QlU",
        "outputId": "e640be03-d478-451a-b236-0e0a2020dec8"
      },
      "outputs": [
        {
          "data": {
            "text/plain": [
              "(tensor([5., 2., 3., 4., 5., 6., 7., 8., 9.]), torch.Size([9]))"
            ]
          },
          "execution_count": 66,
          "metadata": {},
          "output_type": "execute_result"
        }
      ],
      "source": [
        "x_reshaped.squeeze(), x_reshaped.squeeze().shape\n"
      ]
    },
    {
      "cell_type": "code",
      "execution_count": null,
      "metadata": {
        "id": "MgkGYU250QlU",
        "outputId": "cd83aa47-fe59-4727-bc2a-6c4a96e4c428"
      },
      "outputs": [
        {
          "data": {
            "text/plain": [
              "(tensor([[5., 2., 3., 4., 5., 6., 7., 8., 9.]]), torch.Size([1, 9]))"
            ]
          },
          "execution_count": 67,
          "metadata": {},
          "output_type": "execute_result"
        }
      ],
      "source": [
        "# unsqueeze the tensor - add a dimension of size 1\n",
        "\n",
        "x_reshaped, x_reshaped.shape\n"
      ]
    },
    {
      "cell_type": "code",
      "execution_count": null,
      "metadata": {
        "id": "uNIQXisD0QlU",
        "outputId": "caa05b7c-af78-4177-92b4-a345cfbe93a1"
      },
      "outputs": [
        {
          "data": {
            "text/plain": [
              "(tensor([[[5., 2., 3., 4., 5., 6., 7., 8., 9.]]]), torch.Size([1, 1, 9]))"
            ]
          },
          "execution_count": 68,
          "metadata": {},
          "output_type": "execute_result"
        }
      ],
      "source": [
        "x_reshaped.unsqueeze(dim=0), x_reshaped.unsqueeze(dim=0).shape\n"
      ]
    },
    {
      "cell_type": "code",
      "execution_count": null,
      "metadata": {
        "id": "ZMW6lR940QlU",
        "outputId": "52bafd39-8493-4d41-bcff-5c50f4f40ee6"
      },
      "outputs": [
        {
          "data": {
            "text/plain": [
              "(tensor(0.1763), torch.Size([224, 224, 3]))"
            ]
          },
          "execution_count": 69,
          "metadata": {},
          "output_type": "execute_result"
        }
      ],
      "source": [
        "# permute  - rearranges the dimensions of a tensor in a specified order\n",
        "x_original = torch.rand(size=(224, 224, 3))  # (height, width, channels)\n",
        "x_original[0][0][0], x_original.shape\n"
      ]
    },
    {
      "cell_type": "code",
      "execution_count": null,
      "metadata": {
        "id": "h0kqwtEm0QlV",
        "outputId": "d3a65237-16b6-461d-9cb9-2e31288a0b68"
      },
      "outputs": [
        {
          "data": {
            "text/plain": [
              "(tensor(0.1763), torch.Size([3, 224, 224]))"
            ]
          },
          "execution_count": 70,
          "metadata": {},
          "output_type": "execute_result"
        }
      ],
      "source": [
        "# permute the tensor to rearrange the dimensions\n",
        "x_permuted = x_original.permute(2, 0, 1)  # (channels, height, width)\n",
        "x_permuted[0][0][0], x_permuted.shape\n"
      ]
    },
    {
      "cell_type": "code",
      "execution_count": null,
      "metadata": {
        "id": "G83XESQO0QlV",
        "outputId": "a26a5893-90c2-44a4-9e45-bba84e41d196"
      },
      "outputs": [
        {
          "data": {
            "text/plain": [
              "(tensor(0.1763), torch.Size([3, 224, 224]))"
            ]
          },
          "execution_count": 71,
          "metadata": {},
          "output_type": "execute_result"
        }
      ],
      "source": [
        "x_permuted[0, 0, 0], x_permuted.shape\n"
      ]
    },
    {
      "cell_type": "markdown",
      "metadata": {
        "id": "BZS0Xrq_0QlV"
      },
      "source": [
        "## Indexing (selecting data from tensors)\n",
        "\n",
        "-   indexing with PyTorch is similar with numpy\n"
      ]
    },
    {
      "cell_type": "code",
      "execution_count": null,
      "metadata": {
        "id": "N4RaIzKR0QlV",
        "outputId": "bc4a8a17-a400-469e-b204-a2a347bf13d8"
      },
      "outputs": [
        {
          "data": {
            "text/plain": [
              "(tensor([[[1, 2, 3],\n",
              "          [4, 5, 6],\n",
              "          [7, 8, 9]]]),\n",
              " torch.Size([1, 3, 3]))"
            ]
          },
          "execution_count": 72,
          "metadata": {},
          "output_type": "execute_result"
        }
      ],
      "source": [
        "# creating a tensor\n",
        "x = torch.arange(1, 10).reshape(1, 3, 3)\n",
        "x, x.shape\n"
      ]
    },
    {
      "cell_type": "code",
      "execution_count": null,
      "metadata": {
        "id": "SGYEFd6f0QlV",
        "outputId": "67364ff6-1c35-403f-af06-d8e936f175cd"
      },
      "outputs": [
        {
          "data": {
            "text/plain": [
              "tensor([[1, 2, 3],\n",
              "        [4, 5, 6],\n",
              "        [7, 8, 9]])"
            ]
          },
          "execution_count": 73,
          "metadata": {},
          "output_type": "execute_result"
        }
      ],
      "source": [
        "# lets index on our new tensor\n",
        "\n",
        "x[0]\n"
      ]
    },
    {
      "cell_type": "code",
      "execution_count": null,
      "metadata": {
        "id": "OZhx2n9U0QlV",
        "outputId": "c372a4b3-9470-4fb3-f889-72ffe18f13a9"
      },
      "outputs": [
        {
          "data": {
            "text/plain": [
              "(tensor([1, 2, 3]), tensor([1, 2, 3]))"
            ]
          },
          "execution_count": 74,
          "metadata": {},
          "output_type": "execute_result"
        }
      ],
      "source": [
        "# lets index on middle bracket (dim=1)\n",
        "x[0, 0], x[0][0]  # both are same\n"
      ]
    },
    {
      "cell_type": "code",
      "execution_count": null,
      "metadata": {
        "id": "KldS_I040QlV",
        "outputId": "a6aeb58d-4d18-4b89-aaeb-e37cfd299477"
      },
      "outputs": [
        {
          "data": {
            "text/plain": [
              "(tensor(1), tensor(1))"
            ]
          },
          "execution_count": 75,
          "metadata": {},
          "output_type": "execute_result"
        }
      ],
      "source": [
        "#  lets index on the most inner bracket (last dimension)\n",
        "x[0, 0, 0], x[0][0][0]\n"
      ]
    },
    {
      "cell_type": "code",
      "execution_count": null,
      "metadata": {
        "id": "9uxh8JlH0QlW",
        "outputId": "ff8c0f75-5762-41e4-fa07-2edd2c1e5376"
      },
      "outputs": [
        {
          "data": {
            "text/plain": [
              "(tensor([[[1, 2, 3],\n",
              "          [4, 5, 6],\n",
              "          [7, 8, 9]]]),\n",
              " tensor([[1, 2, 3]]),\n",
              " tensor([1]),\n",
              " tensor(1))"
            ]
          },
          "execution_count": 76,
          "metadata": {},
          "output_type": "execute_result"
        }
      ],
      "source": [
        "#  you can use \":\" to select \"all\" of a target dimension\n",
        "\n",
        "x, x[:, 0], x[:, 0, 0], x[:, 0, 0][0]\n"
      ]
    },
    {
      "cell_type": "code",
      "execution_count": null,
      "metadata": {
        "id": "UHFYL9nV0QlW",
        "outputId": "4a56fdf3-3afe-4c07-d429-2478464ae9fc"
      },
      "outputs": [
        {
          "data": {
            "text/plain": [
              "(tensor([[[1, 2, 3],\n",
              "          [4, 5, 6],\n",
              "          [7, 8, 9]]]),\n",
              " tensor([[2, 5, 8]]))"
            ]
          },
          "execution_count": 77,
          "metadata": {},
          "output_type": "execute_result"
        }
      ],
      "source": [
        "# get all values of 0th and 1st dimensions but only index 1 of 2nd dimension\n",
        "\n",
        "x, x[:, :, 1]\n"
      ]
    },
    {
      "cell_type": "code",
      "execution_count": null,
      "metadata": {
        "id": "g0Sjn7Hi0QlW",
        "outputId": "2e678d10-22ba-48bc-fa41-603141774459"
      },
      "outputs": [
        {
          "data": {
            "text/plain": [
              "(tensor([[[1, 2, 3],\n",
              "          [4, 5, 6],\n",
              "          [7, 8, 9]]]),\n",
              " tensor([5]),\n",
              " tensor(5))"
            ]
          },
          "execution_count": 78,
          "metadata": {},
          "output_type": "execute_result"
        }
      ],
      "source": [
        "#  get all values of the 0 dimension but only 1 index of 1st and 2nd dimensions\n",
        "x, x[:, 1, 1], x[0, 1, 1]\n"
      ]
    },
    {
      "cell_type": "code",
      "execution_count": null,
      "metadata": {
        "id": "y6KjeS4A0QlW",
        "outputId": "5d38ee8a-b59a-4048-9fec-4a3c91e4cedb"
      },
      "outputs": [
        {
          "data": {
            "text/plain": [
              "(tensor([[[1, 2, 3],\n",
              "          [4, 5, 6],\n",
              "          [7, 8, 9]]]),\n",
              " tensor([1, 2, 3]),\n",
              " tensor([1, 2, 3]),\n",
              " tensor([1, 2, 3]))"
            ]
          },
          "execution_count": 79,
          "metadata": {},
          "output_type": "execute_result"
        }
      ],
      "source": [
        "# get index 0 of 0th and 1st dimension and all values of 2nd dimension\n",
        "x, x[0, 0, :], x[0, 0], x[0][0]\n"
      ]
    },
    {
      "cell_type": "code",
      "execution_count": null,
      "metadata": {
        "id": "qtwJpLTX0QlW",
        "outputId": "4ce1887d-be1d-42c3-8e2d-7c0b19dfb258"
      },
      "outputs": [
        {
          "name": "stdout",
          "output_type": "stream",
          "text": [
            "tensor([[[1, 2, 3],\n",
            "         [4, 5, 6],\n",
            "         [7, 8, 9]]]) tensor([9]) tensor(9)\n",
            "tensor([[[1, 2, 3],\n",
            "         [4, 5, 6],\n",
            "         [7, 8, 9]]]) tensor([[3, 6, 9]])\n"
          ]
        }
      ],
      "source": [
        "# index on x to return 9\n",
        "\n",
        "print(x, x[:, 2, 2], x[0, 2, 2])\n",
        "\n",
        "# index on x to return 3, 6, 9\n",
        "\n",
        "print(x, x[:, :, 2])\n"
      ]
    },
    {
      "cell_type": "markdown",
      "metadata": {
        "id": "_yUsbBZq0QlW"
      },
      "source": [
        "## PyTorch tensors and NumPy\n",
        "\n",
        "NumPy is a popular scientific numerical computing library for Python.\n",
        "\n",
        "And because of this, PyTorch has functionality to interact with NumPy.\n",
        "\n",
        "-   Data in NumPy, want in PyTorch tensors -> `torch.from_numpy(ndarray)`\n",
        "-   PyTorch tensor -> NumPy -> `torch.Tensor.numpy()`\n"
      ]
    },
    {
      "cell_type": "code",
      "execution_count": null,
      "metadata": {
        "id": "WFi7kL8H0QlW",
        "outputId": "d580dce6-f621-47b0-f4d6-07ba5f61321a"
      },
      "outputs": [
        {
          "data": {
            "text/plain": [
              "(array([1., 2., 3., 4., 5., 6., 7.]),\n",
              " tensor([1., 2., 3., 4., 5., 6., 7.], dtype=torch.float64))"
            ]
          },
          "execution_count": 82,
          "metadata": {},
          "output_type": "execute_result"
        }
      ],
      "source": [
        "#  Numpy Array to Tensor\n",
        "\n",
        "array = np.arange(1.0, 8.0)\n",
        "tensor = torch.from_numpy(array)\n",
        "array, tensor\n"
      ]
    },
    {
      "cell_type": "code",
      "execution_count": null,
      "metadata": {
        "id": "lnSkwl190QlW",
        "outputId": "a31ac038-f5b9-4909-a594-0dcd2e92f3ee"
      },
      "outputs": [
        {
          "name": "stdout",
          "output_type": "stream",
          "text": [
            "[ 7.  8.  9. 10. 11. 12. 13.] tensor([2., 3., 4., 5., 6., 7., 8.], dtype=torch.float64)\n",
            "[ 7.  8.  9. 10. 11. 12. 13.] tensor([3., 4., 5., 6., 7., 8., 9.], dtype=torch.float64)\n"
          ]
        }
      ],
      "source": [
        "# Change th evalue of array and waht will this do to `tensor`\n",
        "\n",
        "array = array + 1\n",
        "print(array, tensor)\n",
        "\n",
        "tensor = tensor + 1\n",
        "\n",
        "print(array, tensor)\n"
      ]
    },
    {
      "cell_type": "code",
      "execution_count": null,
      "metadata": {
        "id": "IvdPl1ii0QlX",
        "outputId": "1beb545c-774b-49ff-faf0-268d91bcbea9"
      },
      "outputs": [
        {
          "data": {
            "text/plain": [
              "(tensor([1., 2., 3., 4., 5., 6., 7.]),\n",
              " array([1., 2., 3., 4., 5., 6., 7.], dtype=float32))"
            ]
          },
          "execution_count": 90,
          "metadata": {},
          "output_type": "execute_result"
        }
      ],
      "source": [
        "#  tensor to numpy array\n",
        "tensor = torch.arange(1.0, 8.0)\n",
        "array = tensor.numpy()\n",
        "tensor, array\n"
      ]
    },
    {
      "cell_type": "code",
      "execution_count": null,
      "metadata": {
        "id": "ehFrOSGF0QlX",
        "outputId": "b121bd40-8b71-4b17-99ee-3c46ea3cf117"
      },
      "outputs": [
        {
          "name": "stdout",
          "output_type": "stream",
          "text": [
            "tensor([2., 3., 4., 5., 6., 7., 8.]) [1. 2. 3. 4. 5. 6. 7.]\n"
          ]
        }
      ],
      "source": [
        "# Change the tensor and what will this do to `array`\n",
        "tensor = tensor + 1\n",
        "print(tensor, array)\n"
      ]
    },
    {
      "cell_type": "code",
      "execution_count": null,
      "metadata": {
        "id": "fk5naFrd0QlX",
        "outputId": "8daa3cfa-420b-441e-8e3e-59fa1c64d9b8"
      },
      "outputs": [
        {
          "name": "stdout",
          "output_type": "stream",
          "text": [
            "tensor([2., 3., 4., 5., 6., 7., 8.]) [3. 4. 5. 6. 7. 8. 9.]\n"
          ]
        }
      ],
      "source": [
        "# Change the array and what will this do to `tensor`\n",
        "array = array + 1\n",
        "print(tensor, array)\n"
      ]
    },
    {
      "cell_type": "markdown",
      "metadata": {
        "id": "NX6lva3P0QlX"
      },
      "source": [
        "## Reproducibility (trying to take random out of random)\n",
        "\n",
        "In short how a neural network learns:\n",
        "\n",
        "`start with random numbers -> tensor operations -> update random numbers to try and make them better representation of the data ->again -> again -> again`\n",
        "\n",
        "To reduce the randomness in neural networks and PyTorch comes the concept of a **random seed**\n",
        "\n",
        "Essentially what the random seed does is \"flavor\" the randomness.\n"
      ]
    },
    {
      "cell_type": "code",
      "execution_count": null,
      "metadata": {
        "id": "Nq4uHMYF0QlX",
        "outputId": "2459c824-5179-4661-ff6c-edc981242ddd"
      },
      "outputs": [
        {
          "data": {
            "text/plain": [
              "tensor([[0.3489, 0.9981, 0.8182],\n",
              "        [0.3984, 0.0352, 0.4393],\n",
              "        [0.8154, 0.2663, 0.7201]])"
            ]
          },
          "execution_count": 101,
          "metadata": {},
          "output_type": "execute_result"
        }
      ],
      "source": [
        "torch.rand(3, 3)  # will create always random numbers between 0 and 1\n"
      ]
    },
    {
      "cell_type": "code",
      "execution_count": null,
      "metadata": {
        "id": "2xUL5Zsu0QlX",
        "outputId": "62a4e644-c201-4799-8c71-0052d9164b0a"
      },
      "outputs": [
        {
          "data": {
            "text/plain": [
              "(tensor([[0.2962, 0.1049, 0.8422],\n",
              "         [0.2231, 0.4661, 0.0894],\n",
              "         [0.6148, 0.0865, 0.0531]]),\n",
              " tensor([[4.2539e-01, 9.5411e-01, 2.8765e-04],\n",
              "         [4.8304e-01, 6.6858e-01, 3.7690e-01],\n",
              "         [9.6109e-01, 4.4466e-01, 3.5286e-01]]),\n",
              " tensor([[False, False, False],\n",
              "         [False, False, False],\n",
              "         [False, False, False]]))"
            ]
          },
          "execution_count": 102,
          "metadata": {},
          "output_type": "execute_result"
        }
      ],
      "source": [
        "# create two random tensors\n",
        "random_tensor_a = torch.rand(3, 3)\n",
        "random_tensor_b = torch.rand(3, 3)\n",
        "\n",
        "\n",
        "random_tensor_a, random_tensor_b, random_tensor_a == random_tensor_b\n"
      ]
    },
    {
      "cell_type": "code",
      "execution_count": null,
      "metadata": {
        "id": "Fukmn8O70QlX",
        "outputId": "5200c296-182f-4bec-d728-1845de02a867"
      },
      "outputs": [
        {
          "data": {
            "text/plain": [
              "(tensor([[0.8823, 0.9150, 0.3829],\n",
              "         [0.9593, 0.3904, 0.6009],\n",
              "         [0.2566, 0.7936, 0.9408]]),\n",
              " tensor([[0.8823, 0.9150, 0.3829],\n",
              "         [0.9593, 0.3904, 0.6009],\n",
              "         [0.2566, 0.7936, 0.9408]]),\n",
              " tensor([[True, True, True],\n",
              "         [True, True, True],\n",
              "         [True, True, True]]))"
            ]
          },
          "execution_count": 108,
          "metadata": {},
          "output_type": "execute_result"
        }
      ],
      "source": [
        "# Let's make some random but reproducible tensors\n",
        "\n",
        "# set the random seed\n",
        "RANDOM_SEED = 42\n",
        "\n",
        "torch.manual_seed(RANDOM_SEED)\n",
        "random_tensor_c = torch.rand(3, 3)\n",
        "\n",
        "torch.manual_seed(RANDOM_SEED)\n",
        "random_tensor_d = torch.rand(3, 3)\n",
        "\n",
        "random_tensor_c, random_tensor_d, random_tensor_c == random_tensor_d\n"
      ]
    },
    {
      "cell_type": "code",
      "execution_count": null,
      "metadata": {
        "id": "RX9xK1BG0QlX",
        "outputId": "872e9655-5e72-481d-ea6d-9e217db20849"
      },
      "outputs": [
        {
          "name": "stdout",
          "output_type": "stream",
          "text": [
            "zsh:1: command not found: nvidia-smi\n"
          ]
        }
      ],
      "source": [
        "!nvidia-smi"
      ]
    },
    {
      "cell_type": "code",
      "execution_count": null,
      "metadata": {
        "id": "VBYsv8ai0QlY"
      },
      "outputs": [],
      "source": []
    }
  ],
  "metadata": {
    "kernelspec": {
      "display_name": "env",
      "language": "python",
      "name": "python3"
    },
    "language_info": {
      "codemirror_mode": {
        "name": "ipython",
        "version": 3
      },
      "file_extension": ".py",
      "mimetype": "text/x-python",
      "name": "python",
      "nbconvert_exporter": "python",
      "pygments_lexer": "ipython3",
      "version": "3.10.6"
    },
    "orig_nbformat": 4,
    "colab": {
      "provenance": [],
      "include_colab_link": true
    },
    "accelerator": "GPU",
    "gpuClass": "standard"
  },
  "nbformat": 4,
  "nbformat_minor": 0
}