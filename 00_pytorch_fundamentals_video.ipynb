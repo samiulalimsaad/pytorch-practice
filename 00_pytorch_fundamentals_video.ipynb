{
  "cells": [
    {
      "cell_type": "code",
      "execution_count": 1,
      "metadata": {
        "colab": {
          "base_uri": "https://localhost:8080/"
        },
        "id": "aeIX6Ql10QlH",
        "outputId": "b1d918af-a3a9-42ab-b320-505f31f7ba6a"
      },
      "outputs": [
        {
          "output_type": "stream",
          "name": "stdout",
          "text": [
            "2.0.0+cu118\n"
          ]
        }
      ],
      "source": [
        "import torch\n",
        "import pandas as pd\n",
        "import numpy as np\n",
        "import matplotlib.pyplot as plt\n",
        "\n",
        "print(torch.__version__)\n"
      ]
    },
    {
      "cell_type": "markdown",
      "metadata": {
        "id": "Hv2TzYpx0QlI"
      },
      "source": [
        "## Introduction to PyTorch\n"
      ]
    },
    {
      "cell_type": "markdown",
      "metadata": {
        "id": "7k_pSFpB0QlJ"
      },
      "source": [
        "### Scaler\n"
      ]
    },
    {
      "cell_type": "code",
      "execution_count": 2,
      "metadata": {
        "colab": {
          "base_uri": "https://localhost:8080/"
        },
        "id": "dqbJhDi30QlJ",
        "outputId": "11ff699b-6488-4064-9471-b96d826ac571"
      },
      "outputs": [
        {
          "output_type": "execute_result",
          "data": {
            "text/plain": [
              "tensor(7)"
            ]
          },
          "metadata": {},
          "execution_count": 2
        }
      ],
      "source": [
        "scaler = torch.tensor(7)\n",
        "scaler\n"
      ]
    },
    {
      "cell_type": "code",
      "execution_count": 3,
      "metadata": {
        "colab": {
          "base_uri": "https://localhost:8080/"
        },
        "id": "JBKtV-050QlJ",
        "outputId": "6bccbddb-ed64-4648-fc82-f32c31f1fd24"
      },
      "outputs": [
        {
          "output_type": "execute_result",
          "data": {
            "text/plain": [
              "0"
            ]
          },
          "metadata": {},
          "execution_count": 3
        }
      ],
      "source": [
        "scaler.ndim\n"
      ]
    },
    {
      "cell_type": "code",
      "execution_count": 4,
      "metadata": {
        "colab": {
          "base_uri": "https://localhost:8080/"
        },
        "id": "HrSnvh5l0QlJ",
        "outputId": "f1369a77-5d75-49ea-a95e-8b88864a9619"
      },
      "outputs": [
        {
          "output_type": "execute_result",
          "data": {
            "text/plain": [
              "torch.Size([])"
            ]
          },
          "metadata": {},
          "execution_count": 4
        }
      ],
      "source": [
        "scaler.shape\n"
      ]
    },
    {
      "cell_type": "code",
      "execution_count": 5,
      "metadata": {
        "colab": {
          "base_uri": "https://localhost:8080/"
        },
        "id": "4rb-pgqx0QlJ",
        "outputId": "337a9f06-15d5-4d02-dd52-a096a975f161"
      },
      "outputs": [
        {
          "output_type": "execute_result",
          "data": {
            "text/plain": [
              "7"
            ]
          },
          "metadata": {},
          "execution_count": 5
        }
      ],
      "source": [
        "scaler.item()\n"
      ]
    },
    {
      "cell_type": "markdown",
      "metadata": {
        "id": "SMDPltor0QlK"
      },
      "source": [
        "### Vector\n"
      ]
    },
    {
      "cell_type": "code",
      "execution_count": 6,
      "metadata": {
        "colab": {
          "base_uri": "https://localhost:8080/"
        },
        "id": "rEFKTuiB0QlK",
        "outputId": "1c75f994-01da-4cc0-ddb1-9e60325f6abd"
      },
      "outputs": [
        {
          "output_type": "execute_result",
          "data": {
            "text/plain": [
              "tensor([1, 2, 3, 4, 5])"
            ]
          },
          "metadata": {},
          "execution_count": 6
        }
      ],
      "source": [
        "vector = torch.tensor([1, 2, 3, 4, 5])\n",
        "vector\n"
      ]
    },
    {
      "cell_type": "code",
      "execution_count": 7,
      "metadata": {
        "colab": {
          "base_uri": "https://localhost:8080/"
        },
        "id": "W6uKjcmv0QlK",
        "outputId": "94de131b-fdba-47f9-be41-0c7b11171126"
      },
      "outputs": [
        {
          "output_type": "execute_result",
          "data": {
            "text/plain": [
              "1"
            ]
          },
          "metadata": {},
          "execution_count": 7
        }
      ],
      "source": [
        "vector.ndim\n"
      ]
    },
    {
      "cell_type": "code",
      "execution_count": 8,
      "metadata": {
        "colab": {
          "base_uri": "https://localhost:8080/"
        },
        "id": "R53LmK-60QlK",
        "outputId": "faaa4b37-d668-4d5b-90b7-ee0185e79fc5"
      },
      "outputs": [
        {
          "output_type": "execute_result",
          "data": {
            "text/plain": [
              "torch.Size([5])"
            ]
          },
          "metadata": {},
          "execution_count": 8
        }
      ],
      "source": [
        "vector.shape\n"
      ]
    },
    {
      "cell_type": "markdown",
      "metadata": {
        "id": "vWoNJ7Cs0QlK"
      },
      "source": [
        "### Matrix\n"
      ]
    },
    {
      "cell_type": "code",
      "execution_count": 9,
      "metadata": {
        "colab": {
          "base_uri": "https://localhost:8080/"
        },
        "id": "ShFxCPIZ0QlK",
        "outputId": "50b30540-ad55-4704-c672-e7bb2a06617c"
      },
      "outputs": [
        {
          "output_type": "execute_result",
          "data": {
            "text/plain": [
              "tensor([[1, 2, 3],\n",
              "        [4, 5, 6]])"
            ]
          },
          "metadata": {},
          "execution_count": 9
        }
      ],
      "source": [
        "MATRIX = torch.tensor([[1, 2, 3], [4, 5, 6]])\n",
        "MATRIX\n"
      ]
    },
    {
      "cell_type": "code",
      "execution_count": 10,
      "metadata": {
        "colab": {
          "base_uri": "https://localhost:8080/"
        },
        "id": "bQlL3bSv0QlL",
        "outputId": "196352d6-26bb-4951-e815-0e730c6f857e"
      },
      "outputs": [
        {
          "output_type": "execute_result",
          "data": {
            "text/plain": [
              "2"
            ]
          },
          "metadata": {},
          "execution_count": 10
        }
      ],
      "source": [
        "MATRIX.ndim\n"
      ]
    },
    {
      "cell_type": "code",
      "execution_count": 11,
      "metadata": {
        "colab": {
          "base_uri": "https://localhost:8080/"
        },
        "id": "g5rdmJxM0QlL",
        "outputId": "d828790f-65f0-4e70-fe4b-86a02655a236"
      },
      "outputs": [
        {
          "output_type": "execute_result",
          "data": {
            "text/plain": [
              "torch.Size([2, 3])"
            ]
          },
          "metadata": {},
          "execution_count": 11
        }
      ],
      "source": [
        "MATRIX.shape\n"
      ]
    },
    {
      "cell_type": "code",
      "execution_count": 12,
      "metadata": {
        "colab": {
          "base_uri": "https://localhost:8080/"
        },
        "id": "2G51AB3b0QlL",
        "outputId": "76405d5b-5983-4e57-b0a6-9ea33b412c44"
      },
      "outputs": [
        {
          "output_type": "execute_result",
          "data": {
            "text/plain": [
              "tensor([1, 2, 3])"
            ]
          },
          "metadata": {},
          "execution_count": 12
        }
      ],
      "source": [
        "MATRIX[0]\n"
      ]
    },
    {
      "cell_type": "code",
      "execution_count": 13,
      "metadata": {
        "colab": {
          "base_uri": "https://localhost:8080/"
        },
        "id": "ztVo_LYZ0QlL",
        "outputId": "4f3be7de-f28d-4448-d374-62f6e289317f"
      },
      "outputs": [
        {
          "output_type": "execute_result",
          "data": {
            "text/plain": [
              "tensor([4, 5, 6])"
            ]
          },
          "metadata": {},
          "execution_count": 13
        }
      ],
      "source": [
        "MATRIX[1]\n"
      ]
    },
    {
      "cell_type": "markdown",
      "metadata": {
        "id": "VC_FuvRL0QlL"
      },
      "source": [
        "### Tensor\n"
      ]
    },
    {
      "cell_type": "code",
      "execution_count": 14,
      "metadata": {
        "colab": {
          "base_uri": "https://localhost:8080/"
        },
        "id": "9SEnM6ZA0QlL",
        "outputId": "e7ab1382-9827-4a5b-8641-c69efe42a783"
      },
      "outputs": [
        {
          "output_type": "execute_result",
          "data": {
            "text/plain": [
              "tensor([[[ 1,  2,  3],\n",
              "         [ 4,  5,  6]],\n",
              "\n",
              "        [[ 7,  8,  9],\n",
              "         [10, 11, 12]]])"
            ]
          },
          "metadata": {},
          "execution_count": 14
        }
      ],
      "source": [
        "TENSOR = torch.tensor([[[1, 2, 3], [4, 5, 6]], [[7, 8, 9], [10, 11, 12]]])\n",
        "TENSOR\n"
      ]
    },
    {
      "cell_type": "code",
      "execution_count": 15,
      "metadata": {
        "colab": {
          "base_uri": "https://localhost:8080/"
        },
        "id": "2LAId9MW0QlM",
        "outputId": "36cf9fdd-7610-4e2b-9ade-5a6ad31cdbcf"
      },
      "outputs": [
        {
          "output_type": "execute_result",
          "data": {
            "text/plain": [
              "3"
            ]
          },
          "metadata": {},
          "execution_count": 15
        }
      ],
      "source": [
        "TENSOR.ndim\n"
      ]
    },
    {
      "cell_type": "code",
      "execution_count": 16,
      "metadata": {
        "colab": {
          "base_uri": "https://localhost:8080/"
        },
        "id": "Z-EmC_uP0QlM",
        "outputId": "5fc9941e-a9f9-4573-fec3-f92544801d0b"
      },
      "outputs": [
        {
          "output_type": "execute_result",
          "data": {
            "text/plain": [
              "torch.Size([2, 2, 3])"
            ]
          },
          "metadata": {},
          "execution_count": 16
        }
      ],
      "source": [
        "TENSOR.shape\n"
      ]
    },
    {
      "cell_type": "code",
      "execution_count": 17,
      "metadata": {
        "colab": {
          "base_uri": "https://localhost:8080/"
        },
        "id": "PNlL92hQ0QlM",
        "outputId": "02e09a2c-64a4-4dbc-f39d-2ffc94b860bd"
      },
      "outputs": [
        {
          "output_type": "execute_result",
          "data": {
            "text/plain": [
              "tensor([[1, 2, 3],\n",
              "        [4, 5, 6]])"
            ]
          },
          "metadata": {},
          "execution_count": 17
        }
      ],
      "source": [
        "TENSOR[0]\n"
      ]
    },
    {
      "cell_type": "markdown",
      "metadata": {
        "id": "JeqPYBfY0QlM"
      },
      "source": [
        "### Random Tensors\n"
      ]
    },
    {
      "cell_type": "code",
      "execution_count": 18,
      "metadata": {
        "colab": {
          "base_uri": "https://localhost:8080/"
        },
        "id": "b3_Vfhgz0QlM",
        "outputId": "d822abc7-e752-407e-dd3a-c2afae0430f1"
      },
      "outputs": [
        {
          "output_type": "execute_result",
          "data": {
            "text/plain": [
              "tensor([[0.0422, 0.3224, 0.1041, 0.1887, 0.0651],\n",
              "        [0.9220, 0.9168, 0.9673, 0.4932, 0.5869],\n",
              "        [0.9611, 0.8964, 0.5340, 0.4625, 0.4638]])"
            ]
          },
          "metadata": {},
          "execution_count": 18
        }
      ],
      "source": [
        "# Create a random tensor of shape (3, 5)\n",
        "X = torch.rand(3, 5)\n",
        "X\n"
      ]
    },
    {
      "cell_type": "code",
      "execution_count": 19,
      "metadata": {
        "colab": {
          "base_uri": "https://localhost:8080/"
        },
        "id": "fiwu8Zb50QlM",
        "outputId": "4409b4ea-a11c-4030-d81c-164afea60454"
      },
      "outputs": [
        {
          "output_type": "execute_result",
          "data": {
            "text/plain": [
              "(torch.Size([3, 224, 224]), 3)"
            ]
          },
          "metadata": {},
          "execution_count": 19
        }
      ],
      "source": [
        "# create a random tensor with similar shape to an image tensor\n",
        "random_image_size_tensor = torch.rand(\n",
        "    size=(3, 224, 224)\n",
        ")  # height, width, color channels (R, G, B)\n",
        "random_image_size_tensor.shape, random_image_size_tensor.ndim\n"
      ]
    },
    {
      "cell_type": "code",
      "execution_count": 20,
      "metadata": {
        "colab": {
          "base_uri": "https://localhost:8080/"
        },
        "id": "xXi5ueib0QlN",
        "outputId": "46a7586a-bf9c-4660-eda3-600d80d14eb5"
      },
      "outputs": [
        {
          "output_type": "execute_result",
          "data": {
            "text/plain": [
              "tensor([[0., 0., 0., 0., 0.],\n",
              "        [0., 0., 0., 0., 0.],\n",
              "        [0., 0., 0., 0., 0.]])"
            ]
          },
          "metadata": {},
          "execution_count": 20
        }
      ],
      "source": [
        "# create a tensor of all zeros\n",
        "zeros = torch.zeros(size=(3, 5))\n",
        "zeros\n"
      ]
    },
    {
      "cell_type": "code",
      "execution_count": 21,
      "metadata": {
        "colab": {
          "base_uri": "https://localhost:8080/"
        },
        "id": "Yodp-5g30QlN",
        "outputId": "7df6c633-7e4c-4e1c-a221-18c43d84e113"
      },
      "outputs": [
        {
          "output_type": "execute_result",
          "data": {
            "text/plain": [
              "tensor([[1., 1., 1., 1., 1.],\n",
              "        [1., 1., 1., 1., 1.],\n",
              "        [1., 1., 1., 1., 1.]])"
            ]
          },
          "metadata": {},
          "execution_count": 21
        }
      ],
      "source": [
        "# create a tensor of all ones\n",
        "ones = torch.ones(size=(3, 5))\n",
        "ones\n"
      ]
    },
    {
      "cell_type": "code",
      "execution_count": 22,
      "metadata": {
        "colab": {
          "base_uri": "https://localhost:8080/"
        },
        "id": "2moJkmsb0QlN",
        "outputId": "b7cad7ca-e893-47d5-bf83-50975d130c87"
      },
      "outputs": [
        {
          "output_type": "execute_result",
          "data": {
            "text/plain": [
              "torch.float32"
            ]
          },
          "metadata": {},
          "execution_count": 22
        }
      ],
      "source": [
        "ones.dtype\n"
      ]
    },
    {
      "cell_type": "markdown",
      "metadata": {
        "id": "OcS2nd1O0QlN"
      },
      "source": [
        "### Creating a range of tensors and tensors-like\n"
      ]
    },
    {
      "cell_type": "code",
      "execution_count": 23,
      "metadata": {
        "colab": {
          "base_uri": "https://localhost:8080/"
        },
        "id": "lo8uCCIP0QlN",
        "outputId": "106d0b95-f11a-4f0a-9b09-9204e79517ae"
      },
      "outputs": [
        {
          "output_type": "execute_result",
          "data": {
            "text/plain": [
              "tensor([0, 1, 2, 3, 4, 5, 6, 7, 8, 9])"
            ]
          },
          "metadata": {},
          "execution_count": 23
        }
      ],
      "source": [
        "# Use torch.range and get deprecated warning, use torch.arange instead\n",
        "one_to_ten = torch.arange(0, 10)\n",
        "one_to_ten\n"
      ]
    },
    {
      "cell_type": "code",
      "execution_count": 24,
      "metadata": {
        "colab": {
          "base_uri": "https://localhost:8080/"
        },
        "id": "nq5X3UtC0QlN",
        "outputId": "44c27e57-1fbc-4280-86ba-99a3b01f86eb"
      },
      "outputs": [
        {
          "output_type": "execute_result",
          "data": {
            "text/plain": [
              "tensor([0.0000, 1.1000, 2.2000, 3.3000, 4.4000, 5.5000, 6.6000, 7.7000, 8.8000,\n",
              "        9.9000])"
            ]
          },
          "metadata": {},
          "execution_count": 24
        }
      ],
      "source": [
        "# Use torch.range\n",
        "one_to_ten2 = torch.arange(start=0, end=10, step=1.1)\n",
        "one_to_ten2\n"
      ]
    },
    {
      "cell_type": "code",
      "execution_count": 25,
      "metadata": {
        "colab": {
          "base_uri": "https://localhost:8080/"
        },
        "id": "a1leN0hY0QlN",
        "outputId": "1ff26515-0198-49d5-ccc0-3a7cbe9bfa4c"
      },
      "outputs": [
        {
          "output_type": "execute_result",
          "data": {
            "text/plain": [
              "tensor([0, 0, 0, 0, 0, 0, 0, 0, 0, 0])"
            ]
          },
          "metadata": {},
          "execution_count": 25
        }
      ],
      "source": [
        "# creating tensors like\n",
        "ten_zeros = torch.zeros_like(input=one_to_ten)\n",
        "ten_zeros\n"
      ]
    },
    {
      "cell_type": "markdown",
      "metadata": {
        "id": "rVD6gAFK0QlO"
      },
      "source": [
        "## Tensor Data types\n",
        "\n",
        "**Note:** Tensor data types is one of the 3 big errors you'll run into with PyTorch & Deep Learning :\n",
        "\n",
        "1. Tensor is not right data type\n",
        "2. Tensor is not right shape\n",
        "3. Tensor is not on right device\n"
      ]
    },
    {
      "cell_type": "code",
      "execution_count": 26,
      "metadata": {
        "colab": {
          "base_uri": "https://localhost:8080/"
        },
        "id": "hdOjuBkI0QlO",
        "outputId": "7090d3e3-b178-4459-962a-89a01f82166c"
      },
      "outputs": [
        {
          "output_type": "execute_result",
          "data": {
            "text/plain": [
              "(torch.float32, tensor([1.1000, 2.2000, 3.3000]))"
            ]
          },
          "metadata": {},
          "execution_count": 26
        }
      ],
      "source": [
        "# float 32 tensor\n",
        "float_32_tensor = torch.tensor(\n",
        "    data=[1.1, 2.2, 3.3],  # the data to store in the tensor\n",
        "    dtype=torch.float32,  # the data type of the tensor\n",
        "    device=None,  # what device to store the tensor on (CPU, GPU)\n",
        "    requires_grad=False,\n",
        ")  # whether or not the tensor should be tracked by the gradient descent algorithm\n",
        "float_32_tensor.dtype, float_32_tensor\n"
      ]
    },
    {
      "cell_type": "code",
      "execution_count": 27,
      "metadata": {
        "colab": {
          "base_uri": "https://localhost:8080/"
        },
        "id": "_dlnvyGq0QlO",
        "outputId": "8cfbec89-e3aa-47f0-a1fc-d6094ba9ebbe"
      },
      "outputs": [
        {
          "output_type": "execute_result",
          "data": {
            "text/plain": [
              "(torch.float16, tensor([1.0996, 2.1992, 3.3008], dtype=torch.float16))"
            ]
          },
          "metadata": {},
          "execution_count": 27
        }
      ],
      "source": [
        "float_16_tensor = float_32_tensor.type(torch.float16)  # convert to float 16\n",
        "float_16_tensor.dtype, float_16_tensor\n"
      ]
    },
    {
      "cell_type": "code",
      "execution_count": 28,
      "metadata": {
        "colab": {
          "base_uri": "https://localhost:8080/"
        },
        "id": "1d43wv3p0QlO",
        "outputId": "e49cd6ef-33ce-44a5-d3f5-ab971d7bbc54"
      },
      "outputs": [
        {
          "output_type": "execute_result",
          "data": {
            "text/plain": [
              "tensor([ 1.2096,  4.8383, 10.8926])"
            ]
          },
          "metadata": {},
          "execution_count": 28
        }
      ],
      "source": [
        "float_32_tensor * float_16_tensor\n"
      ]
    },
    {
      "cell_type": "code",
      "execution_count": 29,
      "metadata": {
        "colab": {
          "base_uri": "https://localhost:8080/"
        },
        "id": "oy3Fg_iu0QlO",
        "outputId": "a8e55c72-9109-482f-a58a-f3ceabc96dac"
      },
      "outputs": [
        {
          "output_type": "execute_result",
          "data": {
            "text/plain": [
              "(torch.int64, tensor([1, 2, 3]))"
            ]
          },
          "metadata": {},
          "execution_count": 29
        }
      ],
      "source": [
        "int_32_tensor = torch.tensor(data=[1, 2, 3])  # the data to store in the tensor\n",
        "int_32_tensor.dtype, int_32_tensor\n"
      ]
    },
    {
      "cell_type": "code",
      "execution_count": 30,
      "metadata": {
        "colab": {
          "base_uri": "https://localhost:8080/"
        },
        "id": "SyDa13dv0QlO",
        "outputId": "f068d6b3-91ed-4ee0-b7d8-c8694b718543"
      },
      "outputs": [
        {
          "output_type": "execute_result",
          "data": {
            "text/plain": [
              "tensor([1.1000, 4.4000, 9.9000])"
            ]
          },
          "metadata": {},
          "execution_count": 30
        }
      ],
      "source": [
        "float_32_tensor * int_32_tensor\n"
      ]
    },
    {
      "cell_type": "markdown",
      "metadata": {
        "id": "i54jIwV80QlO"
      },
      "source": [
        "## Getting information from tensors\n",
        "\n",
        "1. Tensor is not right data type - to get data type form a tensor, can use `tensor.dtype`\n",
        "2. Tensor is not right shape - to get data type form a tensor, can use `tensor.shape`\n",
        "3. Tensor is not on right device - to get data type form a tensor, can use `tensor.device`\n"
      ]
    },
    {
      "cell_type": "code",
      "execution_count": 31,
      "metadata": {
        "colab": {
          "base_uri": "https://localhost:8080/"
        },
        "id": "a_U19Jzc0QlP",
        "outputId": "396ddb86-1e71-41be-cd37-c9314feea642"
      },
      "outputs": [
        {
          "output_type": "execute_result",
          "data": {
            "text/plain": [
              "tensor([[8, 0, 0],\n",
              "        [8, 4, 2],\n",
              "        [0, 3, 2]])"
            ]
          },
          "metadata": {},
          "execution_count": 31
        }
      ],
      "source": [
        "# create a tensor of random integers\n",
        "random_int_tensor = torch.randint(low=0, high=10, size=(3, 3))\n",
        "random_int_tensor\n"
      ]
    },
    {
      "cell_type": "code",
      "execution_count": 32,
      "metadata": {
        "colab": {
          "base_uri": "https://localhost:8080/"
        },
        "id": "PLGggM-l0QlP",
        "outputId": "8626af25-fb11-4e03-9185-1f25f2f2fb17"
      },
      "outputs": [
        {
          "output_type": "stream",
          "name": "stdout",
          "text": [
            "tensor([[8, 0, 0],\n",
            "        [8, 4, 2],\n",
            "        [0, 3, 2]])\n",
            "Data type of tensor: torch.int64\n",
            "Shape of tensor: torch.Size([3, 3])\n",
            "Size of tensor: torch.Size([3, 3])\n",
            "Device tensor is stored on: cpu\n",
            "Number of dimensions: 2\n"
          ]
        }
      ],
      "source": [
        "# find out details about a tensor\n",
        "print(random_int_tensor)\n",
        "print(f\"Data type of tensor: {random_int_tensor.dtype}\")\n",
        "print(f\"Shape of tensor: {random_int_tensor.shape}\")\n",
        "print(f\"Size of tensor: {random_int_tensor.size()}\")\n",
        "print(f\"Device tensor is stored on: {random_int_tensor.device}\")\n",
        "print(f\"Number of dimensions: {random_int_tensor.ndim}\")\n"
      ]
    },
    {
      "cell_type": "markdown",
      "metadata": {
        "id": "QI1tjTkr0QlP"
      },
      "source": [
        "### Manipulating tensors (tensor operations)\n",
        "\n",
        "Tensor operations include:\n",
        "\n",
        "1. Addition\n",
        "2. Subtraction\n",
        "3. Multiplication\n",
        "4. Division\n",
        "5. Matrix Multiplication\n"
      ]
    },
    {
      "cell_type": "code",
      "execution_count": 33,
      "metadata": {
        "colab": {
          "base_uri": "https://localhost:8080/"
        },
        "id": "FAC9nK3R0QlP",
        "outputId": "fa657aa4-22f7-4835-f9e1-27f043d88f0d"
      },
      "outputs": [
        {
          "output_type": "execute_result",
          "data": {
            "text/plain": [
              "(tensor([[1, 2, 3],\n",
              "         [4, 5, 6]]),\n",
              " tensor([[11, 12, 13],\n",
              "         [14, 15, 16]]))"
            ]
          },
          "metadata": {},
          "execution_count": 33
        }
      ],
      "source": [
        "# create a tensor\n",
        "tensor = torch.tensor(data=[[1, 2, 3], [4, 5, 6]])\n",
        "tensor, tensor + 10\n"
      ]
    },
    {
      "cell_type": "code",
      "execution_count": 34,
      "metadata": {
        "colab": {
          "base_uri": "https://localhost:8080/"
        },
        "id": "ayTd5jsr0QlP",
        "outputId": "4793dbe3-7600-475d-fc1d-db859b53b951"
      },
      "outputs": [
        {
          "output_type": "execute_result",
          "data": {
            "text/plain": [
              "tensor([[-9, -8, -7],\n",
              "        [-6, -5, -4]])"
            ]
          },
          "metadata": {},
          "execution_count": 34
        }
      ],
      "source": [
        "tensor - 10\n"
      ]
    },
    {
      "cell_type": "code",
      "execution_count": 35,
      "metadata": {
        "colab": {
          "base_uri": "https://localhost:8080/"
        },
        "id": "2Z0PoswA0QlP",
        "outputId": "e33070f4-b823-496b-eea9-57eca9b75a48"
      },
      "outputs": [
        {
          "output_type": "execute_result",
          "data": {
            "text/plain": [
              "tensor([[10, 20, 30],\n",
              "        [40, 50, 60]])"
            ]
          },
          "metadata": {},
          "execution_count": 35
        }
      ],
      "source": [
        "tensor * 10\n"
      ]
    },
    {
      "cell_type": "code",
      "execution_count": 36,
      "metadata": {
        "colab": {
          "base_uri": "https://localhost:8080/"
        },
        "id": "yvVAAbaJ0QlP",
        "outputId": "b602e30b-19c4-44e5-8ddf-bf6ef022d3ee"
      },
      "outputs": [
        {
          "output_type": "execute_result",
          "data": {
            "text/plain": [
              "tensor([[0.1000, 0.2000, 0.3000],\n",
              "        [0.4000, 0.5000, 0.6000]])"
            ]
          },
          "metadata": {},
          "execution_count": 36
        }
      ],
      "source": [
        "tensor / 10\n"
      ]
    },
    {
      "cell_type": "code",
      "execution_count": 37,
      "metadata": {
        "colab": {
          "base_uri": "https://localhost:8080/"
        },
        "id": "ZrumRS_10QlQ",
        "outputId": "81b9e356-c2c3-432a-bac2-11a447b48dd9"
      },
      "outputs": [
        {
          "output_type": "execute_result",
          "data": {
            "text/plain": [
              "tensor([[10, 20, 30],\n",
              "        [40, 50, 60]])"
            ]
          },
          "metadata": {},
          "execution_count": 37
        }
      ],
      "source": [
        "# Try out PyTorch built-in functions\n",
        "\n",
        "torch.mul(tensor, 10)\n"
      ]
    },
    {
      "cell_type": "code",
      "execution_count": 38,
      "metadata": {
        "colab": {
          "base_uri": "https://localhost:8080/"
        },
        "id": "DqZMf9D40QlQ",
        "outputId": "dd34bdb5-6a92-4707-a9a0-fa8a10a5e2af"
      },
      "outputs": [
        {
          "output_type": "execute_result",
          "data": {
            "text/plain": [
              "tensor([[ 1,  4,  9],\n",
              "        [16, 25, 36]])"
            ]
          },
          "metadata": {},
          "execution_count": 38
        }
      ],
      "source": [
        "tensor**2\n"
      ]
    },
    {
      "cell_type": "markdown",
      "metadata": {
        "id": "uMuwz_bB0QlQ"
      },
      "source": [
        "### Matrix Multiplication\n",
        "\n",
        "Two main ways to perform matrix multiplication in PyTorch:\n",
        "\n",
        "1. Element-wise multiplication\n",
        "2. Matrix multiplication (dot product)\n",
        "\n",
        "There are two main rules that perform matrix multiplication:\n",
        "\n",
        "1. The inner dimensions must match\n",
        "    - `(3,2) @ (3,2)` won't work\n",
        "    - `(3,2) @ (2,3)` will work\n",
        "    - `(2,3) @ (3,2)` will work\n",
        "2. The resulting matrix has the shape of the outer dimensions\n",
        "    - `(3,2) @ (2,3)` will result in a `(3,3)` matrix\n",
        "    - `(2,3) @ (3,2)` will result in a `(2,2)` matrix\n"
      ]
    },
    {
      "cell_type": "code",
      "execution_count": 39,
      "metadata": {
        "colab": {
          "base_uri": "https://localhost:8080/"
        },
        "id": "TKBWop6u0QlQ",
        "outputId": "91b58eb7-e7c5-4a0a-f1a2-e05c2feafd07"
      },
      "outputs": [
        {
          "output_type": "execute_result",
          "data": {
            "text/plain": [
              "tensor([[0.5806, 0.2857, 0.2135],\n",
              "        [0.4420, 0.3494, 0.5090],\n",
              "        [0.5670, 0.2714, 0.1883]])"
            ]
          },
          "metadata": {},
          "execution_count": 39
        }
      ],
      "source": [
        "torch.matmul(torch.rand(size=(3, 2)), torch.rand(size=(2, 3)))\n"
      ]
    },
    {
      "cell_type": "code",
      "execution_count": 40,
      "metadata": {
        "colab": {
          "base_uri": "https://localhost:8080/"
        },
        "id": "AVxBhouo0QlQ",
        "outputId": "b15e9916-2114-4ffd-a6ee-d33a9fb6c070"
      },
      "outputs": [
        {
          "output_type": "stream",
          "name": "stdout",
          "text": [
            "tensor([[1, 2, 3],\n",
            "        [4, 5, 6]]) * tensor([[1, 2, 3],\n",
            "        [4, 5, 6]]) = tensor([[ 1,  4,  9],\n",
            "        [16, 25, 36]])\n"
          ]
        }
      ],
      "source": [
        "# Element-wise multiplication\n",
        "print(tensor, \"*\", tensor, \"=\", torch.mul(tensor, tensor))\n"
      ]
    },
    {
      "cell_type": "code",
      "execution_count": 41,
      "metadata": {
        "colab": {
          "base_uri": "https://localhost:8080/"
        },
        "id": "4N9aco5Y0QlQ",
        "outputId": "5332286a-819c-48e2-f6e0-b255c523e74a"
      },
      "outputs": [
        {
          "output_type": "execute_result",
          "data": {
            "text/plain": [
              "tensor([[14, 32],\n",
              "        [32, 77]])"
            ]
          },
          "metadata": {},
          "execution_count": 41
        }
      ],
      "source": [
        "# matrix multiplication\n",
        "torch.matmul(tensor, tensor.T)\n"
      ]
    },
    {
      "cell_type": "code",
      "execution_count": 42,
      "metadata": {
        "colab": {
          "base_uri": "https://localhost:8080/"
        },
        "id": "Ye8tezFA0QlQ",
        "outputId": "c6a2ad5f-f6be-4298-9864-19846ea7fa95"
      },
      "outputs": [
        {
          "output_type": "execute_result",
          "data": {
            "text/plain": [
              "(tensor([[1, 2, 3],\n",
              "         [4, 5, 6]]),\n",
              " tensor([[1, 4],\n",
              "         [2, 5],\n",
              "         [3, 6]]))"
            ]
          },
          "metadata": {},
          "execution_count": 42
        }
      ],
      "source": [
        "tensor, tensor.T\n"
      ]
    },
    {
      "cell_type": "code",
      "execution_count": 43,
      "metadata": {
        "colab": {
          "base_uri": "https://localhost:8080/"
        },
        "id": "9JvllFKx0QlQ",
        "outputId": "beccca63-6753-461f-d0c4-870af28e4c1a"
      },
      "outputs": [
        {
          "output_type": "execute_result",
          "data": {
            "text/plain": [
              "([14, 32], [32, 77])"
            ]
          },
          "metadata": {},
          "execution_count": 43
        }
      ],
      "source": [
        "# matrix multiplication by hand\n",
        "[1 * 1 + 2 * 2 + 3 * 3, 1 * 4 + 2 * 5 + 3 * 6], [\n",
        "    4 * 1 + 5 * 2 + 6 * 3,\n",
        "    4 * 4 + 5 * 5 + 6 * 6,\n",
        "]\n"
      ]
    },
    {
      "cell_type": "code",
      "execution_count": 44,
      "metadata": {
        "colab": {
          "base_uri": "https://localhost:8080/"
        },
        "id": "PvcJ363B0QlR",
        "outputId": "7594aa5b-e36d-4e54-f680-38896c8a253d"
      },
      "outputs": [
        {
          "output_type": "stream",
          "name": "stdout",
          "text": [
            "\n",
            "real\t0m0.000s\n",
            "user\t0m0.000s\n",
            "sys\t0m0.000s\n",
            "tensor(14)\n"
          ]
        }
      ],
      "source": [
        "!time\n",
        "t = torch.tensor([1,2,3])\n",
        "m =[]\n",
        "value =0\n",
        "for i in range(len(t)):\n",
        "    value += t[i]*t[i]\n",
        "    \n",
        "\n",
        "print(value)"
      ]
    },
    {
      "cell_type": "code",
      "execution_count": 45,
      "metadata": {
        "colab": {
          "base_uri": "https://localhost:8080/"
        },
        "id": "E8CYVneM0QlR",
        "outputId": "9aa2e605-c67f-4314-fa5d-d2178c201696"
      },
      "outputs": [
        {
          "output_type": "stream",
          "name": "stdout",
          "text": [
            "\n",
            "real\t0m0.000s\n",
            "user\t0m0.000s\n",
            "sys\t0m0.000s\n"
          ]
        },
        {
          "output_type": "execute_result",
          "data": {
            "text/plain": [
              "tensor(14)"
            ]
          },
          "metadata": {},
          "execution_count": 45
        }
      ],
      "source": [
        "!time\n",
        "\n",
        "torch.matmul(t,t)"
      ]
    },
    {
      "cell_type": "code",
      "execution_count": 46,
      "metadata": {
        "colab": {
          "base_uri": "https://localhost:8080/"
        },
        "id": "UztSQ6JJ0QlR",
        "outputId": "c3871fb6-f9e9-4abf-b86e-20e9d16f915f"
      },
      "outputs": [
        {
          "output_type": "stream",
          "name": "stdout",
          "text": [
            "\n",
            "real\t0m0.000s\n",
            "user\t0m0.000s\n",
            "sys\t0m0.000s\n"
          ]
        },
        {
          "output_type": "execute_result",
          "data": {
            "text/plain": [
              "tensor([[14, 32],\n",
              "        [32, 77]])"
            ]
          },
          "metadata": {},
          "execution_count": 46
        }
      ],
      "source": [
        "!time \n",
        "\n",
        "torch.matmul(tensor, tensor.T)"
      ]
    },
    {
      "cell_type": "code",
      "execution_count": 47,
      "metadata": {
        "colab": {
          "base_uri": "https://localhost:8080/"
        },
        "id": "zTJ0jvyr0QlR",
        "outputId": "d3327b12-1d46-4c71-e957-ea0b38859762"
      },
      "outputs": [
        {
          "output_type": "execute_result",
          "data": {
            "text/plain": [
              "tensor([[14, 32],\n",
              "        [32, 77]])"
            ]
          },
          "metadata": {},
          "execution_count": 47
        }
      ],
      "source": [
        "# @ operator for matrix multiplication\n",
        "tensor @ tensor.T\n"
      ]
    },
    {
      "cell_type": "markdown",
      "metadata": {
        "id": "1Kfe4dur0QlR"
      },
      "source": [
        "### One of the most common error in deep learning: shape error\n"
      ]
    },
    {
      "cell_type": "code",
      "execution_count": 48,
      "metadata": {
        "colab": {
          "base_uri": "https://localhost:8080/"
        },
        "id": "4xl4ofGf0QlR",
        "outputId": "16277ab2-df1f-43b9-ec75-26fadbdba2e6"
      },
      "outputs": [
        {
          "output_type": "execute_result",
          "data": {
            "text/plain": [
              "(tensor([[ 76, 103],\n",
              "         [100, 136]]),\n",
              " tensor([[ 27,  30,  33],\n",
              "         [ 61,  68,  75],\n",
              "         [ 95, 106, 117]]))"
            ]
          },
          "metadata": {},
          "execution_count": 48
        }
      ],
      "source": [
        "# Shape for matrix multiplication\n",
        "tensor_A = torch.tensor([[1, 2], [3, 4], [5, 6]])\n",
        "tensor_B = torch.tensor([[7, 10], [8, 11], [9, 12]])\n",
        "# torch.matmul(tensor_A, tensor_B) # error because of shape\n",
        "torch.matmul(tensor_A.T, tensor_B), torch.matmul(tensor_A, tensor_B.T)\n"
      ]
    },
    {
      "cell_type": "markdown",
      "metadata": {
        "id": "pJHYUQv70QlR"
      },
      "source": [
        "## Finding min, max, sum, mean, absolute value, standard deviation (tensor aggregation)\n"
      ]
    },
    {
      "cell_type": "code",
      "execution_count": 49,
      "metadata": {
        "colab": {
          "base_uri": "https://localhost:8080/"
        },
        "id": "JIVWqaH10QlR",
        "outputId": "f07001d1-ae7a-4b23-93c1-936e8bcf3364"
      },
      "outputs": [
        {
          "output_type": "execute_result",
          "data": {
            "text/plain": [
              "tensor([ 0, 10, 20, 30, 40, 50, 60, 70, 80, 90])"
            ]
          },
          "metadata": {},
          "execution_count": 49
        }
      ],
      "source": [
        "# create a tensor\n",
        "x = torch.arange(0, 100, 10)\n",
        "x\n"
      ]
    },
    {
      "cell_type": "code",
      "execution_count": 50,
      "metadata": {
        "colab": {
          "base_uri": "https://localhost:8080/"
        },
        "id": "NVtMdX1M0QlS",
        "outputId": "8aa9d91d-a95b-48ae-e1a2-93f34050ac1d"
      },
      "outputs": [
        {
          "output_type": "execute_result",
          "data": {
            "text/plain": [
              "(tensor(0), tensor(0))"
            ]
          },
          "metadata": {},
          "execution_count": 50
        }
      ],
      "source": [
        "# find the min\n",
        "torch.min(x), x.min()\n"
      ]
    },
    {
      "cell_type": "code",
      "execution_count": 51,
      "metadata": {
        "colab": {
          "base_uri": "https://localhost:8080/"
        },
        "id": "1ierlOX00QlS",
        "outputId": "f65b3009-a061-4ffa-9f21-b43e8e8b6bae"
      },
      "outputs": [
        {
          "output_type": "execute_result",
          "data": {
            "text/plain": [
              "(tensor(90), tensor(90))"
            ]
          },
          "metadata": {},
          "execution_count": 51
        }
      ],
      "source": [
        "# find the max\n",
        "torch.max(x), x.max()\n"
      ]
    },
    {
      "cell_type": "code",
      "execution_count": 52,
      "metadata": {
        "colab": {
          "base_uri": "https://localhost:8080/"
        },
        "id": "lwsQOWbj0QlS",
        "outputId": "45d990ad-22c0-42da-ed20-9a2c99151a3d"
      },
      "outputs": [
        {
          "output_type": "execute_result",
          "data": {
            "text/plain": [
              "(tensor(45.), tensor(45.))"
            ]
          },
          "metadata": {},
          "execution_count": 52
        }
      ],
      "source": [
        "# find the mean. note that the torch.mean() function requires a float32 tensor\n",
        "torch.mean(x.type(torch.float32)), x.type(torch.float32).mean()\n"
      ]
    },
    {
      "cell_type": "code",
      "execution_count": 53,
      "metadata": {
        "colab": {
          "base_uri": "https://localhost:8080/"
        },
        "id": "CFpJlFgE0QlS",
        "outputId": "33170a4c-6c8f-4572-9663-3b910c5a3def"
      },
      "outputs": [
        {
          "output_type": "execute_result",
          "data": {
            "text/plain": [
              "(tensor(450), tensor(450))"
            ]
          },
          "metadata": {},
          "execution_count": 53
        }
      ],
      "source": [
        "# find the sum\n",
        "torch.sum(x), x.sum()\n"
      ]
    },
    {
      "cell_type": "markdown",
      "metadata": {
        "id": "QZSBb8_N0QlS"
      },
      "source": [
        "### finding the positional maximum and minimum\n"
      ]
    },
    {
      "cell_type": "code",
      "execution_count": 54,
      "metadata": {
        "colab": {
          "base_uri": "https://localhost:8080/"
        },
        "id": "8U2kFiuQ0QlS",
        "outputId": "719efacb-8c67-4b00-c746-cbadf7b7f504"
      },
      "outputs": [
        {
          "output_type": "execute_result",
          "data": {
            "text/plain": [
              "tensor([ 0, 10, 20, 30, 40, 50, 60, 70, 80, 90])"
            ]
          },
          "metadata": {},
          "execution_count": 54
        }
      ],
      "source": [
        "x\n"
      ]
    },
    {
      "cell_type": "code",
      "execution_count": 55,
      "metadata": {
        "colab": {
          "base_uri": "https://localhost:8080/"
        },
        "id": "8TRf1gNd0QlS",
        "outputId": "79c33038-c9e8-455d-fcec-976605e03885"
      },
      "outputs": [
        {
          "output_type": "execute_result",
          "data": {
            "text/plain": [
              "(tensor(0), tensor(0))"
            ]
          },
          "metadata": {},
          "execution_count": 55
        }
      ],
      "source": [
        "# find the position in tensor that has the minimum value\n",
        "\n",
        "x.argmin(), x.min()\n"
      ]
    },
    {
      "cell_type": "code",
      "execution_count": 56,
      "metadata": {
        "colab": {
          "base_uri": "https://localhost:8080/"
        },
        "id": "MN-bEO0V0QlT",
        "outputId": "7319528c-1fec-4b63-9e26-c1de183791d6"
      },
      "outputs": [
        {
          "output_type": "execute_result",
          "data": {
            "text/plain": [
              "(tensor(9), tensor(90))"
            ]
          },
          "metadata": {},
          "execution_count": 56
        }
      ],
      "source": [
        "# find the position in tensor that has the maximum value\n",
        "\n",
        "x.argmax(), x.max()\n"
      ]
    },
    {
      "cell_type": "code",
      "execution_count": 57,
      "metadata": {
        "colab": {
          "base_uri": "https://localhost:8080/"
        },
        "id": "_gpDYkx_0QlT",
        "outputId": "3103db0b-f327-4ae3-f9bf-ee39e2de8825"
      },
      "outputs": [
        {
          "output_type": "execute_result",
          "data": {
            "text/plain": [
              "(tensor([[1, 2],\n",
              "         [3, 4],\n",
              "         [5, 6]]),\n",
              " tensor(5))"
            ]
          },
          "metadata": {},
          "execution_count": 57
        }
      ],
      "source": [
        "tensor_A, tensor_A.argmax()\n"
      ]
    },
    {
      "cell_type": "markdown",
      "metadata": {
        "id": "i580cMOa0QlT"
      },
      "source": [
        "## Reshaping, stacking, squeezing, un-squeezing\n",
        "\n",
        "-   Reshaping - reshape an input tensor to a defined shape\n",
        "-   view - return a view of an input tensor of certain shape but keep the same memory as the original tensor\n",
        "-   stack - combine multiple tensors on top of each other (vertically - vstack) or side by side (horizontally h-stack)\n",
        "-   squeeze - remove all `1` dimensions from a tensor\n",
        "-   unsqueeze - add a dimension of size `1` to a tensor\n",
        "-   permute - return a view of an input tensor with its dimensions permuted (swapper) in a certain order\n"
      ]
    },
    {
      "cell_type": "code",
      "execution_count": 58,
      "metadata": {
        "colab": {
          "base_uri": "https://localhost:8080/"
        },
        "id": "nQor0tPf0QlT",
        "outputId": "f27377f2-d8bb-43c8-9e52-edfcd075d6c7"
      },
      "outputs": [
        {
          "output_type": "execute_result",
          "data": {
            "text/plain": [
              "(tensor([1., 2., 3., 4., 5., 6., 7., 8., 9.]), torch.Size([9]))"
            ]
          },
          "metadata": {},
          "execution_count": 58
        }
      ],
      "source": [
        "x = torch.arange(1.0, 10.0)\n",
        "x, x.shape\n"
      ]
    },
    {
      "cell_type": "code",
      "execution_count": 59,
      "metadata": {
        "colab": {
          "base_uri": "https://localhost:8080/"
        },
        "id": "cxi-wtdE0QlT",
        "outputId": "218055fb-7e36-4291-9200-7c5533ffc2fb"
      },
      "outputs": [
        {
          "output_type": "execute_result",
          "data": {
            "text/plain": [
              "(tensor([[1., 2., 3., 4., 5., 6., 7., 8., 9.]]), torch.Size([1, 9]))"
            ]
          },
          "metadata": {},
          "execution_count": 59
        }
      ],
      "source": [
        "# add a dimension to the tensor\n",
        "x_reshaped = x.reshape(1, 9)\n",
        "x_reshaped, x_reshaped.shape\n"
      ]
    },
    {
      "cell_type": "code",
      "execution_count": 60,
      "metadata": {
        "colab": {
          "base_uri": "https://localhost:8080/"
        },
        "id": "zmi95ibF0QlT",
        "outputId": "f0344aae-fdde-4f38-ce03-76529671b1e9"
      },
      "outputs": [
        {
          "output_type": "execute_result",
          "data": {
            "text/plain": [
              "(tensor([[1.],\n",
              "         [2.],\n",
              "         [3.],\n",
              "         [4.],\n",
              "         [5.],\n",
              "         [6.],\n",
              "         [7.],\n",
              "         [8.],\n",
              "         [9.]]),\n",
              " torch.Size([9, 1]))"
            ]
          },
          "metadata": {},
          "execution_count": 60
        }
      ],
      "source": [
        "x_reshaped2 = x.reshape(9, 1)\n",
        "x_reshaped2, x_reshaped2.shape\n"
      ]
    },
    {
      "cell_type": "code",
      "execution_count": 61,
      "metadata": {
        "colab": {
          "base_uri": "https://localhost:8080/"
        },
        "id": "Fj2yDHY40QlT",
        "outputId": "bea53ceb-60c6-4f7a-82b1-fd5e7c178093"
      },
      "outputs": [
        {
          "output_type": "execute_result",
          "data": {
            "text/plain": [
              "(tensor([[1., 2., 3., 4., 5., 6., 7., 8., 9.]]), torch.Size([1, 9]))"
            ]
          },
          "metadata": {},
          "execution_count": 61
        }
      ],
      "source": [
        "# change the view\n",
        "z = x.view(1, 9)\n",
        "z, z.shape\n"
      ]
    },
    {
      "cell_type": "code",
      "execution_count": 62,
      "metadata": {
        "colab": {
          "base_uri": "https://localhost:8080/"
        },
        "id": "sa3kXv6W0QlT",
        "outputId": "e63dbaa4-d7d5-4b70-f3a4-6c4977274abd"
      },
      "outputs": [
        {
          "output_type": "execute_result",
          "data": {
            "text/plain": [
              "(tensor([[5., 2., 3., 4., 5., 6., 7., 8., 9.]]),\n",
              " tensor([5., 2., 3., 4., 5., 6., 7., 8., 9.]))"
            ]
          },
          "metadata": {},
          "execution_count": 62
        }
      ],
      "source": [
        "# changing z changes x (because they are the same tensor and shares the same memory)\n",
        "z[:, 0] = 5\n",
        "z, x\n"
      ]
    },
    {
      "cell_type": "code",
      "execution_count": 63,
      "metadata": {
        "colab": {
          "base_uri": "https://localhost:8080/"
        },
        "id": "FPWXGIOg0QlU",
        "outputId": "5a426974-acbe-4ae7-e4e6-5cd55eff3013"
      },
      "outputs": [
        {
          "output_type": "execute_result",
          "data": {
            "text/plain": [
              "tensor([[5., 2., 3., 4., 5., 6., 7., 8., 9.],\n",
              "        [5., 2., 3., 4., 5., 6., 7., 8., 9.],\n",
              "        [5., 2., 3., 4., 5., 6., 7., 8., 9.],\n",
              "        [5., 2., 3., 4., 5., 6., 7., 8., 9.]])"
            ]
          },
          "metadata": {},
          "execution_count": 63
        }
      ],
      "source": [
        "# stack tensors on top of each other\n",
        "x_stacked = torch.stack([x, x, x, x], dim=0)\n",
        "x_stacked\n"
      ]
    },
    {
      "cell_type": "code",
      "execution_count": 64,
      "metadata": {
        "colab": {
          "base_uri": "https://localhost:8080/"
        },
        "id": "jGm9ElfP0QlU",
        "outputId": "dcf60132-ab0b-4c46-941f-1620856814ca"
      },
      "outputs": [
        {
          "output_type": "execute_result",
          "data": {
            "text/plain": [
              "tensor([[5., 5., 5., 5.],\n",
              "        [2., 2., 2., 2.],\n",
              "        [3., 3., 3., 3.],\n",
              "        [4., 4., 4., 4.],\n",
              "        [5., 5., 5., 5.],\n",
              "        [6., 6., 6., 6.],\n",
              "        [7., 7., 7., 7.],\n",
              "        [8., 8., 8., 8.],\n",
              "        [9., 9., 9., 9.]])"
            ]
          },
          "metadata": {},
          "execution_count": 64
        }
      ],
      "source": [
        "x_stacked = torch.stack([x, x, x, x], dim=1)\n",
        "x_stacked\n"
      ]
    },
    {
      "cell_type": "code",
      "execution_count": 65,
      "metadata": {
        "colab": {
          "base_uri": "https://localhost:8080/"
        },
        "id": "PjYZOjOC0QlU",
        "outputId": "32dd3f0f-2b19-48fd-86bd-5057ea4ec4c1"
      },
      "outputs": [
        {
          "output_type": "execute_result",
          "data": {
            "text/plain": [
              "(tensor([[5., 2., 3., 4., 5., 6., 7., 8., 9.]]), torch.Size([1, 9]))"
            ]
          },
          "metadata": {},
          "execution_count": 65
        }
      ],
      "source": [
        "# squeeze the tensor - remove all dimensions of size 1\n",
        "x_reshaped, x_reshaped.shape\n"
      ]
    },
    {
      "cell_type": "code",
      "execution_count": 66,
      "metadata": {
        "colab": {
          "base_uri": "https://localhost:8080/"
        },
        "id": "64ke9TiH0QlU",
        "outputId": "de561c17-569c-4d26-a281-0c2fb1d15692"
      },
      "outputs": [
        {
          "output_type": "execute_result",
          "data": {
            "text/plain": [
              "(tensor([5., 2., 3., 4., 5., 6., 7., 8., 9.]), torch.Size([9]))"
            ]
          },
          "metadata": {},
          "execution_count": 66
        }
      ],
      "source": [
        "x_reshaped.squeeze(), x_reshaped.squeeze().shape\n"
      ]
    },
    {
      "cell_type": "code",
      "execution_count": 67,
      "metadata": {
        "colab": {
          "base_uri": "https://localhost:8080/"
        },
        "id": "MgkGYU250QlU",
        "outputId": "bd33b711-7b38-41aa-a950-74112027fcac"
      },
      "outputs": [
        {
          "output_type": "execute_result",
          "data": {
            "text/plain": [
              "(tensor([[5., 2., 3., 4., 5., 6., 7., 8., 9.]]), torch.Size([1, 9]))"
            ]
          },
          "metadata": {},
          "execution_count": 67
        }
      ],
      "source": [
        "# unsqueeze the tensor - add a dimension of size 1\n",
        "\n",
        "x_reshaped, x_reshaped.shape\n"
      ]
    },
    {
      "cell_type": "code",
      "execution_count": 68,
      "metadata": {
        "colab": {
          "base_uri": "https://localhost:8080/"
        },
        "id": "uNIQXisD0QlU",
        "outputId": "c06c091f-f5d3-4b90-bbf5-448504f11994"
      },
      "outputs": [
        {
          "output_type": "execute_result",
          "data": {
            "text/plain": [
              "(tensor([[[5., 2., 3., 4., 5., 6., 7., 8., 9.]]]), torch.Size([1, 1, 9]))"
            ]
          },
          "metadata": {},
          "execution_count": 68
        }
      ],
      "source": [
        "x_reshaped.unsqueeze(dim=0), x_reshaped.unsqueeze(dim=0).shape\n"
      ]
    },
    {
      "cell_type": "code",
      "execution_count": 69,
      "metadata": {
        "colab": {
          "base_uri": "https://localhost:8080/"
        },
        "id": "ZMW6lR940QlU",
        "outputId": "c08d0a91-67d1-424b-c488-a4c4fe30fe13"
      },
      "outputs": [
        {
          "output_type": "execute_result",
          "data": {
            "text/plain": [
              "(tensor(0.5131), torch.Size([224, 224, 3]))"
            ]
          },
          "metadata": {},
          "execution_count": 69
        }
      ],
      "source": [
        "# permute  - rearranges the dimensions of a tensor in a specified order\n",
        "x_original = torch.rand(size=(224, 224, 3))  # (height, width, channels)\n",
        "x_original[0][0][0], x_original.shape\n"
      ]
    },
    {
      "cell_type": "code",
      "execution_count": 70,
      "metadata": {
        "colab": {
          "base_uri": "https://localhost:8080/"
        },
        "id": "h0kqwtEm0QlV",
        "outputId": "5aa7e9f5-1d56-4499-f529-5529fd00ada5"
      },
      "outputs": [
        {
          "output_type": "execute_result",
          "data": {
            "text/plain": [
              "(tensor(0.5131), torch.Size([3, 224, 224]))"
            ]
          },
          "metadata": {},
          "execution_count": 70
        }
      ],
      "source": [
        "# permute the tensor to rearrange the dimensions\n",
        "x_permuted = x_original.permute(2, 0, 1)  # (channels, height, width)\n",
        "x_permuted[0][0][0], x_permuted.shape\n"
      ]
    },
    {
      "cell_type": "code",
      "execution_count": 71,
      "metadata": {
        "colab": {
          "base_uri": "https://localhost:8080/"
        },
        "id": "G83XESQO0QlV",
        "outputId": "c3a9d23a-b4ea-4ccf-fdf9-83b110dd1157"
      },
      "outputs": [
        {
          "output_type": "execute_result",
          "data": {
            "text/plain": [
              "(tensor(0.5131), torch.Size([3, 224, 224]))"
            ]
          },
          "metadata": {},
          "execution_count": 71
        }
      ],
      "source": [
        "x_permuted[0, 0, 0], x_permuted.shape\n"
      ]
    },
    {
      "cell_type": "markdown",
      "metadata": {
        "id": "BZS0Xrq_0QlV"
      },
      "source": [
        "## Indexing (selecting data from tensors)\n",
        "\n",
        "-   indexing with PyTorch is similar with numpy\n"
      ]
    },
    {
      "cell_type": "code",
      "execution_count": 72,
      "metadata": {
        "colab": {
          "base_uri": "https://localhost:8080/"
        },
        "id": "N4RaIzKR0QlV",
        "outputId": "451e2294-abce-40d6-b8dd-3648d2041cdf"
      },
      "outputs": [
        {
          "output_type": "execute_result",
          "data": {
            "text/plain": [
              "(tensor([[[1, 2, 3],\n",
              "          [4, 5, 6],\n",
              "          [7, 8, 9]]]),\n",
              " torch.Size([1, 3, 3]))"
            ]
          },
          "metadata": {},
          "execution_count": 72
        }
      ],
      "source": [
        "# creating a tensor\n",
        "x = torch.arange(1, 10).reshape(1, 3, 3)\n",
        "x, x.shape\n"
      ]
    },
    {
      "cell_type": "code",
      "execution_count": 73,
      "metadata": {
        "colab": {
          "base_uri": "https://localhost:8080/"
        },
        "id": "SGYEFd6f0QlV",
        "outputId": "a96a7e3a-309c-4704-e9a1-bf0f677834ff"
      },
      "outputs": [
        {
          "output_type": "execute_result",
          "data": {
            "text/plain": [
              "tensor([[1, 2, 3],\n",
              "        [4, 5, 6],\n",
              "        [7, 8, 9]])"
            ]
          },
          "metadata": {},
          "execution_count": 73
        }
      ],
      "source": [
        "# lets index on our new tensor\n",
        "\n",
        "x[0]\n"
      ]
    },
    {
      "cell_type": "code",
      "execution_count": 74,
      "metadata": {
        "colab": {
          "base_uri": "https://localhost:8080/"
        },
        "id": "OZhx2n9U0QlV",
        "outputId": "31915232-e1ee-4761-d77b-dacab855e28e"
      },
      "outputs": [
        {
          "output_type": "execute_result",
          "data": {
            "text/plain": [
              "(tensor([1, 2, 3]), tensor([1, 2, 3]))"
            ]
          },
          "metadata": {},
          "execution_count": 74
        }
      ],
      "source": [
        "# lets index on middle bracket (dim=1)\n",
        "x[0, 0], x[0][0]  # both are same\n"
      ]
    },
    {
      "cell_type": "code",
      "execution_count": 75,
      "metadata": {
        "colab": {
          "base_uri": "https://localhost:8080/"
        },
        "id": "KldS_I040QlV",
        "outputId": "bf045849-d580-4123-d34f-5ddcb6a0489c"
      },
      "outputs": [
        {
          "output_type": "execute_result",
          "data": {
            "text/plain": [
              "(tensor(1), tensor(1))"
            ]
          },
          "metadata": {},
          "execution_count": 75
        }
      ],
      "source": [
        "#  lets index on the most inner bracket (last dimension)\n",
        "x[0, 0, 0], x[0][0][0]\n"
      ]
    },
    {
      "cell_type": "code",
      "execution_count": 76,
      "metadata": {
        "colab": {
          "base_uri": "https://localhost:8080/"
        },
        "id": "9uxh8JlH0QlW",
        "outputId": "d5658a4b-5ff8-4e09-c239-1219ce90ff7d"
      },
      "outputs": [
        {
          "output_type": "execute_result",
          "data": {
            "text/plain": [
              "(tensor([[[1, 2, 3],\n",
              "          [4, 5, 6],\n",
              "          [7, 8, 9]]]),\n",
              " tensor([[1, 2, 3]]),\n",
              " tensor([1]),\n",
              " tensor(1))"
            ]
          },
          "metadata": {},
          "execution_count": 76
        }
      ],
      "source": [
        "#  you can use \":\" to select \"all\" of a target dimension\n",
        "\n",
        "x, x[:, 0], x[:, 0, 0], x[:, 0, 0][0]\n"
      ]
    },
    {
      "cell_type": "code",
      "execution_count": 77,
      "metadata": {
        "colab": {
          "base_uri": "https://localhost:8080/"
        },
        "id": "UHFYL9nV0QlW",
        "outputId": "02fd6a57-e8d8-4ff5-ac4e-06a81eeb267f"
      },
      "outputs": [
        {
          "output_type": "execute_result",
          "data": {
            "text/plain": [
              "(tensor([[[1, 2, 3],\n",
              "          [4, 5, 6],\n",
              "          [7, 8, 9]]]),\n",
              " tensor([[2, 5, 8]]))"
            ]
          },
          "metadata": {},
          "execution_count": 77
        }
      ],
      "source": [
        "# get all values of 0th and 1st dimensions but only index 1 of 2nd dimension\n",
        "\n",
        "x, x[:, :, 1]\n"
      ]
    },
    {
      "cell_type": "code",
      "execution_count": 78,
      "metadata": {
        "colab": {
          "base_uri": "https://localhost:8080/"
        },
        "id": "g0Sjn7Hi0QlW",
        "outputId": "07e4dfb0-993c-44a8-e33c-e8f5fe6d263f"
      },
      "outputs": [
        {
          "output_type": "execute_result",
          "data": {
            "text/plain": [
              "(tensor([[[1, 2, 3],\n",
              "          [4, 5, 6],\n",
              "          [7, 8, 9]]]),\n",
              " tensor([5]),\n",
              " tensor(5))"
            ]
          },
          "metadata": {},
          "execution_count": 78
        }
      ],
      "source": [
        "#  get all values of the 0 dimension but only 1 index of 1st and 2nd dimensions\n",
        "x, x[:, 1, 1], x[0, 1, 1]\n"
      ]
    },
    {
      "cell_type": "code",
      "execution_count": 79,
      "metadata": {
        "colab": {
          "base_uri": "https://localhost:8080/"
        },
        "id": "y6KjeS4A0QlW",
        "outputId": "d3f0836a-c929-4b18-dfc9-ec5c148be8cd"
      },
      "outputs": [
        {
          "output_type": "execute_result",
          "data": {
            "text/plain": [
              "(tensor([[[1, 2, 3],\n",
              "          [4, 5, 6],\n",
              "          [7, 8, 9]]]),\n",
              " tensor([1, 2, 3]),\n",
              " tensor([1, 2, 3]),\n",
              " tensor([1, 2, 3]))"
            ]
          },
          "metadata": {},
          "execution_count": 79
        }
      ],
      "source": [
        "# get index 0 of 0th and 1st dimension and all values of 2nd dimension\n",
        "x, x[0, 0, :], x[0, 0], x[0][0]\n"
      ]
    },
    {
      "cell_type": "code",
      "execution_count": 80,
      "metadata": {
        "colab": {
          "base_uri": "https://localhost:8080/"
        },
        "id": "qtwJpLTX0QlW",
        "outputId": "83913c68-07a4-41f9-df91-ce89ed88c1b6"
      },
      "outputs": [
        {
          "output_type": "stream",
          "name": "stdout",
          "text": [
            "tensor([[[1, 2, 3],\n",
            "         [4, 5, 6],\n",
            "         [7, 8, 9]]]) tensor([9]) tensor(9)\n",
            "tensor([[[1, 2, 3],\n",
            "         [4, 5, 6],\n",
            "         [7, 8, 9]]]) tensor([[3, 6, 9]])\n"
          ]
        }
      ],
      "source": [
        "# index on x to return 9\n",
        "\n",
        "print(x, x[:, 2, 2], x[0, 2, 2])\n",
        "\n",
        "# index on x to return 3, 6, 9\n",
        "\n",
        "print(x, x[:, :, 2])\n"
      ]
    },
    {
      "cell_type": "markdown",
      "metadata": {
        "id": "_yUsbBZq0QlW"
      },
      "source": [
        "## PyTorch tensors and NumPy\n",
        "\n",
        "NumPy is a popular scientific numerical computing library for Python.\n",
        "\n",
        "And because of this, PyTorch has functionality to interact with NumPy.\n",
        "\n",
        "-   Data in NumPy, want in PyTorch tensors -> `torch.from_numpy(ndarray)`\n",
        "-   PyTorch tensor -> NumPy -> `torch.Tensor.numpy()`\n"
      ]
    },
    {
      "cell_type": "code",
      "execution_count": 81,
      "metadata": {
        "colab": {
          "base_uri": "https://localhost:8080/"
        },
        "id": "WFi7kL8H0QlW",
        "outputId": "49c84830-cd78-4e1b-f86b-f2adba705790"
      },
      "outputs": [
        {
          "output_type": "execute_result",
          "data": {
            "text/plain": [
              "(array([1., 2., 3., 4., 5., 6., 7.]),\n",
              " tensor([1., 2., 3., 4., 5., 6., 7.], dtype=torch.float64))"
            ]
          },
          "metadata": {},
          "execution_count": 81
        }
      ],
      "source": [
        "#  Numpy Array to Tensor\n",
        "\n",
        "array = np.arange(1.0, 8.0)\n",
        "tensor = torch.from_numpy(array)\n",
        "array, tensor\n"
      ]
    },
    {
      "cell_type": "code",
      "execution_count": 82,
      "metadata": {
        "colab": {
          "base_uri": "https://localhost:8080/"
        },
        "id": "lnSkwl190QlW",
        "outputId": "7b900fa2-0199-4e7f-b4ac-19ce9a5c76d0"
      },
      "outputs": [
        {
          "output_type": "stream",
          "name": "stdout",
          "text": [
            "[2. 3. 4. 5. 6. 7. 8.] tensor([1., 2., 3., 4., 5., 6., 7.], dtype=torch.float64)\n",
            "[2. 3. 4. 5. 6. 7. 8.] tensor([2., 3., 4., 5., 6., 7., 8.], dtype=torch.float64)\n"
          ]
        }
      ],
      "source": [
        "# Change th evalue of array and waht will this do to `tensor`\n",
        "\n",
        "array = array + 1\n",
        "print(array, tensor)\n",
        "\n",
        "tensor = tensor + 1\n",
        "\n",
        "print(array, tensor)\n"
      ]
    },
    {
      "cell_type": "code",
      "execution_count": 83,
      "metadata": {
        "colab": {
          "base_uri": "https://localhost:8080/"
        },
        "id": "IvdPl1ii0QlX",
        "outputId": "f6f52dfe-b958-4084-8280-47643a4fe012"
      },
      "outputs": [
        {
          "output_type": "execute_result",
          "data": {
            "text/plain": [
              "(tensor([1., 2., 3., 4., 5., 6., 7.]),\n",
              " array([1., 2., 3., 4., 5., 6., 7.], dtype=float32))"
            ]
          },
          "metadata": {},
          "execution_count": 83
        }
      ],
      "source": [
        "#  tensor to numpy array\n",
        "tensor = torch.arange(1.0, 8.0)\n",
        "array = tensor.numpy()\n",
        "tensor, array\n"
      ]
    },
    {
      "cell_type": "code",
      "execution_count": 84,
      "metadata": {
        "colab": {
          "base_uri": "https://localhost:8080/"
        },
        "id": "ehFrOSGF0QlX",
        "outputId": "53686199-3fec-465b-e298-82bc31ee9bae"
      },
      "outputs": [
        {
          "output_type": "stream",
          "name": "stdout",
          "text": [
            "tensor([2., 3., 4., 5., 6., 7., 8.]) [1. 2. 3. 4. 5. 6. 7.]\n"
          ]
        }
      ],
      "source": [
        "# Change the tensor and what will this do to `array`\n",
        "tensor = tensor + 1\n",
        "print(tensor, array)\n"
      ]
    },
    {
      "cell_type": "code",
      "execution_count": 85,
      "metadata": {
        "colab": {
          "base_uri": "https://localhost:8080/"
        },
        "id": "fk5naFrd0QlX",
        "outputId": "0640fc95-20f3-467a-ccff-eadc97270fb8"
      },
      "outputs": [
        {
          "output_type": "stream",
          "name": "stdout",
          "text": [
            "tensor([2., 3., 4., 5., 6., 7., 8.]) [2. 3. 4. 5. 6. 7. 8.]\n"
          ]
        }
      ],
      "source": [
        "# Change the array and what will this do to `tensor`\n",
        "array = array + 1\n",
        "print(tensor, array)\n"
      ]
    },
    {
      "cell_type": "markdown",
      "metadata": {
        "id": "NX6lva3P0QlX"
      },
      "source": [
        "## Reproducibility (trying to take random out of random)\n",
        "\n",
        "In short how a neural network learns:\n",
        "\n",
        "`start with random numbers -> tensor operations -> update random numbers to try and make them better representation of the data ->again -> again -> again`\n",
        "\n",
        "To reduce the randomness in neural networks and PyTorch comes the concept of a **random seed**\n",
        "\n",
        "Essentially what the random seed does is \"flavor\" the randomness.\n"
      ]
    },
    {
      "cell_type": "code",
      "execution_count": 86,
      "metadata": {
        "colab": {
          "base_uri": "https://localhost:8080/"
        },
        "id": "Nq4uHMYF0QlX",
        "outputId": "760b6587-147d-44c3-dd89-5133a50e66ce"
      },
      "outputs": [
        {
          "output_type": "execute_result",
          "data": {
            "text/plain": [
              "tensor([[0.2500, 0.5475, 0.6729],\n",
              "        [0.2359, 0.5474, 0.3266],\n",
              "        [0.2054, 0.2757, 0.4985]])"
            ]
          },
          "metadata": {},
          "execution_count": 86
        }
      ],
      "source": [
        "torch.rand(3, 3)  # will create always random numbers between 0 and 1\n"
      ]
    },
    {
      "cell_type": "code",
      "execution_count": 87,
      "metadata": {
        "colab": {
          "base_uri": "https://localhost:8080/"
        },
        "id": "2xUL5Zsu0QlX",
        "outputId": "e25ffad5-e1d2-4674-9eaf-cbad3171c631"
      },
      "outputs": [
        {
          "output_type": "execute_result",
          "data": {
            "text/plain": [
              "(tensor([[0.8204, 0.9354, 0.1051],\n",
              "         [0.2921, 0.6301, 0.0341],\n",
              "         [0.7518, 0.4443, 0.5399]]),\n",
              " tensor([[0.6435, 0.4377, 0.4016],\n",
              "         [0.8770, 0.3817, 0.4507],\n",
              "         [0.1961, 0.0586, 0.6771]]),\n",
              " tensor([[False, False, False],\n",
              "         [False, False, False],\n",
              "         [False, False, False]]))"
            ]
          },
          "metadata": {},
          "execution_count": 87
        }
      ],
      "source": [
        "# create two random tensors\n",
        "random_tensor_a = torch.rand(3, 3)\n",
        "random_tensor_b = torch.rand(3, 3)\n",
        "\n",
        "\n",
        "random_tensor_a, random_tensor_b, random_tensor_a == random_tensor_b\n"
      ]
    },
    {
      "cell_type": "code",
      "execution_count": 88,
      "metadata": {
        "colab": {
          "base_uri": "https://localhost:8080/"
        },
        "id": "Fukmn8O70QlX",
        "outputId": "094da9d5-60fe-4c1f-c915-2c72a0a0f849"
      },
      "outputs": [
        {
          "output_type": "execute_result",
          "data": {
            "text/plain": [
              "(tensor([[0.8823, 0.9150, 0.3829],\n",
              "         [0.9593, 0.3904, 0.6009],\n",
              "         [0.2566, 0.7936, 0.9408]]),\n",
              " tensor([[0.8823, 0.9150, 0.3829],\n",
              "         [0.9593, 0.3904, 0.6009],\n",
              "         [0.2566, 0.7936, 0.9408]]),\n",
              " tensor([[True, True, True],\n",
              "         [True, True, True],\n",
              "         [True, True, True]]))"
            ]
          },
          "metadata": {},
          "execution_count": 88
        }
      ],
      "source": [
        "# Let's make some random but reproducible tensors\n",
        "\n",
        "# set the random seed\n",
        "RANDOM_SEED = 42\n",
        "\n",
        "torch.manual_seed(RANDOM_SEED)\n",
        "random_tensor_c = torch.rand(3, 3)\n",
        "\n",
        "torch.manual_seed(RANDOM_SEED)\n",
        "random_tensor_d = torch.rand(3, 3)\n",
        "\n",
        "random_tensor_c, random_tensor_d, random_tensor_c == random_tensor_d\n"
      ]
    },
    {
      "cell_type": "code",
      "execution_count": 89,
      "metadata": {
        "colab": {
          "base_uri": "https://localhost:8080/"
        },
        "id": "RX9xK1BG0QlX",
        "outputId": "e8b2e758-a51b-43a2-9328-300264748b6e"
      },
      "outputs": [
        {
          "output_type": "stream",
          "name": "stdout",
          "text": [
            "Sun Apr 16 11:28:35 2023       \n",
            "+-----------------------------------------------------------------------------+\n",
            "| NVIDIA-SMI 525.85.12    Driver Version: 525.85.12    CUDA Version: 12.0     |\n",
            "|-------------------------------+----------------------+----------------------+\n",
            "| GPU  Name        Persistence-M| Bus-Id        Disp.A | Volatile Uncorr. ECC |\n",
            "| Fan  Temp  Perf  Pwr:Usage/Cap|         Memory-Usage | GPU-Util  Compute M. |\n",
            "|                               |                      |               MIG M. |\n",
            "|===============================+======================+======================|\n",
            "|   0  Tesla T4            Off  | 00000000:00:04.0 Off |                    0 |\n",
            "| N/A   50C    P8    10W /  70W |      0MiB / 15360MiB |      0%      Default |\n",
            "|                               |                      |                  N/A |\n",
            "+-------------------------------+----------------------+----------------------+\n",
            "                                                                               \n",
            "+-----------------------------------------------------------------------------+\n",
            "| Processes:                                                                  |\n",
            "|  GPU   GI   CI        PID   Type   Process name                  GPU Memory |\n",
            "|        ID   ID                                                   Usage      |\n",
            "|=============================================================================|\n",
            "|  No running processes found                                                 |\n",
            "+-----------------------------------------------------------------------------+\n"
          ]
        }
      ],
      "source": [
        "!nvidia-smi"
      ]
    },
    {
      "cell_type": "code",
      "execution_count": 89,
      "metadata": {
        "id": "VBYsv8ai0QlY"
      },
      "outputs": [],
      "source": []
    }
  ],
  "metadata": {
    "kernelspec": {
      "display_name": "env",
      "language": "python",
      "name": "python3"
    },
    "language_info": {
      "codemirror_mode": {
        "name": "ipython",
        "version": 3
      },
      "file_extension": ".py",
      "mimetype": "text/x-python",
      "name": "python",
      "nbconvert_exporter": "python",
      "pygments_lexer": "ipython3",
      "version": "3.10.6"
    },
    "orig_nbformat": 4,
    "colab": {
      "provenance": []
    },
    "accelerator": "GPU",
    "gpuClass": "standard"
  },
  "nbformat": 4,
  "nbformat_minor": 0
}