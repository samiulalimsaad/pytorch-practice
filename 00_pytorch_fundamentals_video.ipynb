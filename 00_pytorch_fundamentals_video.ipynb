{
  "cells": [
    {
      "cell_type": "code",
      "execution_count": 199,
      "metadata": {
        "colab": {
          "base_uri": "https://localhost:8080/"
        },
        "id": "aeIX6Ql10QlH",
        "outputId": "b1d918af-a3a9-42ab-b320-505f31f7ba6a"
      },
      "outputs": [
        {
          "name": "stdout",
          "output_type": "stream",
          "text": [
            "2.0.0+cpu\n"
          ]
        }
      ],
      "source": [
        "import torch\n",
        "import pandas as pd\n",
        "import numpy as np\n",
        "import matplotlib.pyplot as plt\n",
        "\n",
        "print(torch.__version__)\n"
      ]
    },
    {
      "cell_type": "markdown",
      "metadata": {
        "id": "Hv2TzYpx0QlI"
      },
      "source": [
        "## Introduction to PyTorch\n"
      ]
    },
    {
      "cell_type": "markdown",
      "metadata": {
        "id": "7k_pSFpB0QlJ"
      },
      "source": [
        "### Scaler\n"
      ]
    },
    {
      "cell_type": "code",
      "execution_count": 200,
      "metadata": {
        "colab": {
          "base_uri": "https://localhost:8080/"
        },
        "id": "dqbJhDi30QlJ",
        "outputId": "11ff699b-6488-4064-9471-b96d826ac571"
      },
      "outputs": [
        {
          "data": {
            "text/plain": [
              "tensor(7)"
            ]
          },
          "execution_count": 200,
          "metadata": {},
          "output_type": "execute_result"
        }
      ],
      "source": [
        "scaler = torch.tensor(7)\n",
        "scaler\n"
      ]
    },
    {
      "cell_type": "code",
      "execution_count": 201,
      "metadata": {
        "colab": {
          "base_uri": "https://localhost:8080/"
        },
        "id": "JBKtV-050QlJ",
        "outputId": "6bccbddb-ed64-4648-fc82-f32c31f1fd24"
      },
      "outputs": [
        {
          "data": {
            "text/plain": [
              "0"
            ]
          },
          "execution_count": 201,
          "metadata": {},
          "output_type": "execute_result"
        }
      ],
      "source": [
        "scaler.ndim\n"
      ]
    },
    {
      "cell_type": "code",
      "execution_count": 202,
      "metadata": {
        "colab": {
          "base_uri": "https://localhost:8080/"
        },
        "id": "HrSnvh5l0QlJ",
        "outputId": "f1369a77-5d75-49ea-a95e-8b88864a9619"
      },
      "outputs": [
        {
          "data": {
            "text/plain": [
              "torch.Size([])"
            ]
          },
          "execution_count": 202,
          "metadata": {},
          "output_type": "execute_result"
        }
      ],
      "source": [
        "scaler.shape\n"
      ]
    },
    {
      "cell_type": "code",
      "execution_count": 203,
      "metadata": {
        "colab": {
          "base_uri": "https://localhost:8080/"
        },
        "id": "4rb-pgqx0QlJ",
        "outputId": "337a9f06-15d5-4d02-dd52-a096a975f161"
      },
      "outputs": [
        {
          "data": {
            "text/plain": [
              "7"
            ]
          },
          "execution_count": 203,
          "metadata": {},
          "output_type": "execute_result"
        }
      ],
      "source": [
        "scaler.item()\n"
      ]
    },
    {
      "cell_type": "markdown",
      "metadata": {
        "id": "SMDPltor0QlK"
      },
      "source": [
        "### Vector\n"
      ]
    },
    {
      "cell_type": "code",
      "execution_count": 204,
      "metadata": {
        "colab": {
          "base_uri": "https://localhost:8080/"
        },
        "id": "rEFKTuiB0QlK",
        "outputId": "1c75f994-01da-4cc0-ddb1-9e60325f6abd"
      },
      "outputs": [
        {
          "data": {
            "text/plain": [
              "tensor([1, 2, 3, 4, 5])"
            ]
          },
          "execution_count": 204,
          "metadata": {},
          "output_type": "execute_result"
        }
      ],
      "source": [
        "vector = torch.tensor([1, 2, 3, 4, 5])\n",
        "vector\n"
      ]
    },
    {
      "cell_type": "code",
      "execution_count": 205,
      "metadata": {
        "colab": {
          "base_uri": "https://localhost:8080/"
        },
        "id": "W6uKjcmv0QlK",
        "outputId": "94de131b-fdba-47f9-be41-0c7b11171126"
      },
      "outputs": [
        {
          "data": {
            "text/plain": [
              "1"
            ]
          },
          "execution_count": 205,
          "metadata": {},
          "output_type": "execute_result"
        }
      ],
      "source": [
        "vector.ndim\n"
      ]
    },
    {
      "cell_type": "code",
      "execution_count": 206,
      "metadata": {
        "colab": {
          "base_uri": "https://localhost:8080/"
        },
        "id": "R53LmK-60QlK",
        "outputId": "faaa4b37-d668-4d5b-90b7-ee0185e79fc5"
      },
      "outputs": [
        {
          "data": {
            "text/plain": [
              "torch.Size([5])"
            ]
          },
          "execution_count": 206,
          "metadata": {},
          "output_type": "execute_result"
        }
      ],
      "source": [
        "vector.shape\n"
      ]
    },
    {
      "cell_type": "markdown",
      "metadata": {
        "id": "vWoNJ7Cs0QlK"
      },
      "source": [
        "### Matrix\n"
      ]
    },
    {
      "cell_type": "code",
      "execution_count": 207,
      "metadata": {
        "colab": {
          "base_uri": "https://localhost:8080/"
        },
        "id": "ShFxCPIZ0QlK",
        "outputId": "50b30540-ad55-4704-c672-e7bb2a06617c"
      },
      "outputs": [
        {
          "data": {
            "text/plain": [
              "tensor([[1, 2, 3],\n",
              "        [4, 5, 6]])"
            ]
          },
          "execution_count": 207,
          "metadata": {},
          "output_type": "execute_result"
        }
      ],
      "source": [
        "MATRIX = torch.tensor([[1, 2, 3], [4, 5, 6]])\n",
        "MATRIX\n"
      ]
    },
    {
      "cell_type": "code",
      "execution_count": 208,
      "metadata": {
        "colab": {
          "base_uri": "https://localhost:8080/"
        },
        "id": "bQlL3bSv0QlL",
        "outputId": "196352d6-26bb-4951-e815-0e730c6f857e"
      },
      "outputs": [
        {
          "data": {
            "text/plain": [
              "2"
            ]
          },
          "execution_count": 208,
          "metadata": {},
          "output_type": "execute_result"
        }
      ],
      "source": [
        "MATRIX.ndim\n"
      ]
    },
    {
      "cell_type": "code",
      "execution_count": 209,
      "metadata": {
        "colab": {
          "base_uri": "https://localhost:8080/"
        },
        "id": "g5rdmJxM0QlL",
        "outputId": "d828790f-65f0-4e70-fe4b-86a02655a236"
      },
      "outputs": [
        {
          "data": {
            "text/plain": [
              "torch.Size([2, 3])"
            ]
          },
          "execution_count": 209,
          "metadata": {},
          "output_type": "execute_result"
        }
      ],
      "source": [
        "MATRIX.shape\n"
      ]
    },
    {
      "cell_type": "code",
      "execution_count": 210,
      "metadata": {
        "colab": {
          "base_uri": "https://localhost:8080/"
        },
        "id": "2G51AB3b0QlL",
        "outputId": "76405d5b-5983-4e57-b0a6-9ea33b412c44"
      },
      "outputs": [
        {
          "data": {
            "text/plain": [
              "tensor([1, 2, 3])"
            ]
          },
          "execution_count": 210,
          "metadata": {},
          "output_type": "execute_result"
        }
      ],
      "source": [
        "MATRIX[0]\n"
      ]
    },
    {
      "cell_type": "code",
      "execution_count": 211,
      "metadata": {
        "colab": {
          "base_uri": "https://localhost:8080/"
        },
        "id": "ztVo_LYZ0QlL",
        "outputId": "4f3be7de-f28d-4448-d374-62f6e289317f"
      },
      "outputs": [
        {
          "data": {
            "text/plain": [
              "tensor([4, 5, 6])"
            ]
          },
          "execution_count": 211,
          "metadata": {},
          "output_type": "execute_result"
        }
      ],
      "source": [
        "MATRIX[1]\n"
      ]
    },
    {
      "cell_type": "markdown",
      "metadata": {
        "id": "VC_FuvRL0QlL"
      },
      "source": [
        "### Tensor\n"
      ]
    },
    {
      "cell_type": "code",
      "execution_count": 212,
      "metadata": {
        "colab": {
          "base_uri": "https://localhost:8080/"
        },
        "id": "9SEnM6ZA0QlL",
        "outputId": "e7ab1382-9827-4a5b-8641-c69efe42a783"
      },
      "outputs": [
        {
          "data": {
            "text/plain": [
              "tensor([[[ 1,  2,  3],\n",
              "         [ 4,  5,  6]],\n",
              "\n",
              "        [[ 7,  8,  9],\n",
              "         [10, 11, 12]]])"
            ]
          },
          "execution_count": 212,
          "metadata": {},
          "output_type": "execute_result"
        }
      ],
      "source": [
        "TENSOR = torch.tensor([[[1, 2, 3], [4, 5, 6]], [[7, 8, 9], [10, 11, 12]]])\n",
        "TENSOR\n"
      ]
    },
    {
      "cell_type": "code",
      "execution_count": 213,
      "metadata": {
        "colab": {
          "base_uri": "https://localhost:8080/"
        },
        "id": "2LAId9MW0QlM",
        "outputId": "36cf9fdd-7610-4e2b-9ade-5a6ad31cdbcf"
      },
      "outputs": [
        {
          "data": {
            "text/plain": [
              "3"
            ]
          },
          "execution_count": 213,
          "metadata": {},
          "output_type": "execute_result"
        }
      ],
      "source": [
        "TENSOR.ndim\n"
      ]
    },
    {
      "cell_type": "code",
      "execution_count": 214,
      "metadata": {
        "colab": {
          "base_uri": "https://localhost:8080/"
        },
        "id": "Z-EmC_uP0QlM",
        "outputId": "5fc9941e-a9f9-4573-fec3-f92544801d0b"
      },
      "outputs": [
        {
          "data": {
            "text/plain": [
              "torch.Size([2, 2, 3])"
            ]
          },
          "execution_count": 214,
          "metadata": {},
          "output_type": "execute_result"
        }
      ],
      "source": [
        "TENSOR.shape\n"
      ]
    },
    {
      "cell_type": "code",
      "execution_count": 215,
      "metadata": {
        "colab": {
          "base_uri": "https://localhost:8080/"
        },
        "id": "PNlL92hQ0QlM",
        "outputId": "02e09a2c-64a4-4dbc-f39d-2ffc94b860bd"
      },
      "outputs": [
        {
          "data": {
            "text/plain": [
              "tensor([[1, 2, 3],\n",
              "        [4, 5, 6]])"
            ]
          },
          "execution_count": 215,
          "metadata": {},
          "output_type": "execute_result"
        }
      ],
      "source": [
        "TENSOR[0]\n"
      ]
    },
    {
      "cell_type": "markdown",
      "metadata": {
        "id": "JeqPYBfY0QlM"
      },
      "source": [
        "### Random Tensors\n"
      ]
    },
    {
      "cell_type": "code",
      "execution_count": 216,
      "metadata": {
        "colab": {
          "base_uri": "https://localhost:8080/"
        },
        "id": "b3_Vfhgz0QlM",
        "outputId": "d822abc7-e752-407e-dd3a-c2afae0430f1"
      },
      "outputs": [
        {
          "data": {
            "text/plain": [
              "tensor([[0.1332, 0.9346, 0.5936, 0.8694, 0.5677],\n",
              "        [0.7411, 0.4294, 0.8854, 0.5739, 0.2666],\n",
              "        [0.6274, 0.2696, 0.4414, 0.2969, 0.8317]])"
            ]
          },
          "execution_count": 216,
          "metadata": {},
          "output_type": "execute_result"
        }
      ],
      "source": [
        "# Create a random tensor of shape (3, 5)\n",
        "X = torch.rand(3, 5)\n",
        "X\n"
      ]
    },
    {
      "cell_type": "code",
      "execution_count": 217,
      "metadata": {
        "colab": {
          "base_uri": "https://localhost:8080/"
        },
        "id": "fiwu8Zb50QlM",
        "outputId": "4409b4ea-a11c-4030-d81c-164afea60454"
      },
      "outputs": [
        {
          "data": {
            "text/plain": [
              "(torch.Size([3, 224, 224]), 3)"
            ]
          },
          "execution_count": 217,
          "metadata": {},
          "output_type": "execute_result"
        }
      ],
      "source": [
        "# create a random tensor with similar shape to an image tensor\n",
        "random_image_size_tensor = torch.rand(\n",
        "    size=(3, 224, 224)\n",
        ")  # height, width, color channels (R, G, B)\n",
        "random_image_size_tensor.shape, random_image_size_tensor.ndim\n"
      ]
    },
    {
      "cell_type": "code",
      "execution_count": 218,
      "metadata": {
        "colab": {
          "base_uri": "https://localhost:8080/"
        },
        "id": "xXi5ueib0QlN",
        "outputId": "46a7586a-bf9c-4660-eda3-600d80d14eb5"
      },
      "outputs": [
        {
          "data": {
            "text/plain": [
              "tensor([[0., 0., 0., 0., 0.],\n",
              "        [0., 0., 0., 0., 0.],\n",
              "        [0., 0., 0., 0., 0.]])"
            ]
          },
          "execution_count": 218,
          "metadata": {},
          "output_type": "execute_result"
        }
      ],
      "source": [
        "# create a tensor of all zeros\n",
        "zeros = torch.zeros(size=(3, 5))\n",
        "zeros\n"
      ]
    },
    {
      "cell_type": "code",
      "execution_count": 219,
      "metadata": {
        "colab": {
          "base_uri": "https://localhost:8080/"
        },
        "id": "Yodp-5g30QlN",
        "outputId": "7df6c633-7e4c-4e1c-a221-18c43d84e113"
      },
      "outputs": [
        {
          "data": {
            "text/plain": [
              "tensor([[1., 1., 1., 1., 1.],\n",
              "        [1., 1., 1., 1., 1.],\n",
              "        [1., 1., 1., 1., 1.]])"
            ]
          },
          "execution_count": 219,
          "metadata": {},
          "output_type": "execute_result"
        }
      ],
      "source": [
        "# create a tensor of all ones\n",
        "ones = torch.ones(size=(3, 5))\n",
        "ones\n"
      ]
    },
    {
      "cell_type": "code",
      "execution_count": 220,
      "metadata": {
        "colab": {
          "base_uri": "https://localhost:8080/"
        },
        "id": "2moJkmsb0QlN",
        "outputId": "b7cad7ca-e893-47d5-bf83-50975d130c87"
      },
      "outputs": [
        {
          "data": {
            "text/plain": [
              "torch.float32"
            ]
          },
          "execution_count": 220,
          "metadata": {},
          "output_type": "execute_result"
        }
      ],
      "source": [
        "ones.dtype\n"
      ]
    },
    {
      "cell_type": "markdown",
      "metadata": {
        "id": "OcS2nd1O0QlN"
      },
      "source": [
        "### Creating a range of tensors and tensors-like\n"
      ]
    },
    {
      "cell_type": "code",
      "execution_count": 221,
      "metadata": {
        "colab": {
          "base_uri": "https://localhost:8080/"
        },
        "id": "lo8uCCIP0QlN",
        "outputId": "106d0b95-f11a-4f0a-9b09-9204e79517ae"
      },
      "outputs": [
        {
          "data": {
            "text/plain": [
              "tensor([0, 1, 2, 3, 4, 5, 6, 7, 8, 9])"
            ]
          },
          "execution_count": 221,
          "metadata": {},
          "output_type": "execute_result"
        }
      ],
      "source": [
        "# Use torch.range and get deprecated warning, use torch.arange instead\n",
        "one_to_ten = torch.arange(0, 10)\n",
        "one_to_ten\n"
      ]
    },
    {
      "cell_type": "code",
      "execution_count": 222,
      "metadata": {
        "colab": {
          "base_uri": "https://localhost:8080/"
        },
        "id": "nq5X3UtC0QlN",
        "outputId": "44c27e57-1fbc-4280-86ba-99a3b01f86eb"
      },
      "outputs": [
        {
          "data": {
            "text/plain": [
              "tensor([0.0000, 1.1000, 2.2000, 3.3000, 4.4000, 5.5000, 6.6000, 7.7000, 8.8000,\n",
              "        9.9000])"
            ]
          },
          "execution_count": 222,
          "metadata": {},
          "output_type": "execute_result"
        }
      ],
      "source": [
        "# Use torch.range\n",
        "one_to_ten2 = torch.arange(start=0, end=10, step=1.1)\n",
        "one_to_ten2\n"
      ]
    },
    {
      "cell_type": "code",
      "execution_count": 223,
      "metadata": {
        "colab": {
          "base_uri": "https://localhost:8080/"
        },
        "id": "a1leN0hY0QlN",
        "outputId": "1ff26515-0198-49d5-ccc0-3a7cbe9bfa4c"
      },
      "outputs": [
        {
          "data": {
            "text/plain": [
              "tensor([0, 0, 0, 0, 0, 0, 0, 0, 0, 0])"
            ]
          },
          "execution_count": 223,
          "metadata": {},
          "output_type": "execute_result"
        }
      ],
      "source": [
        "# creating tensors like\n",
        "ten_zeros = torch.zeros_like(input=one_to_ten)\n",
        "ten_zeros\n"
      ]
    },
    {
      "cell_type": "markdown",
      "metadata": {
        "id": "rVD6gAFK0QlO"
      },
      "source": [
        "## Tensor Data types\n",
        "\n",
        "**Note:** Tensor data types is one of the 3 big errors you'll run into with PyTorch & Deep Learning :\n",
        "\n",
        "1. Tensor is not right data type\n",
        "2. Tensor is not right shape\n",
        "3. Tensor is not on right device\n"
      ]
    },
    {
      "cell_type": "code",
      "execution_count": 224,
      "metadata": {
        "colab": {
          "base_uri": "https://localhost:8080/"
        },
        "id": "hdOjuBkI0QlO",
        "outputId": "7090d3e3-b178-4459-962a-89a01f82166c"
      },
      "outputs": [
        {
          "data": {
            "text/plain": [
              "(torch.float32, tensor([1.1000, 2.2000, 3.3000]))"
            ]
          },
          "execution_count": 224,
          "metadata": {},
          "output_type": "execute_result"
        }
      ],
      "source": [
        "# float 32 tensor\n",
        "float_32_tensor = torch.tensor(\n",
        "    data=[1.1, 2.2, 3.3],  # the data to store in the tensor\n",
        "    dtype=torch.float32,  # the data type of the tensor\n",
        "    device=None,  # what device to store the tensor on (CPU, GPU)\n",
        "    requires_grad=False,\n",
        ")  # whether or not the tensor should be tracked by the gradient descent algorithm\n",
        "float_32_tensor.dtype, float_32_tensor\n"
      ]
    },
    {
      "cell_type": "code",
      "execution_count": 225,
      "metadata": {
        "colab": {
          "base_uri": "https://localhost:8080/"
        },
        "id": "_dlnvyGq0QlO",
        "outputId": "8cfbec89-e3aa-47f0-a1fc-d6094ba9ebbe"
      },
      "outputs": [
        {
          "data": {
            "text/plain": [
              "(torch.float16, tensor([1.0996, 2.1992, 3.3008], dtype=torch.float16))"
            ]
          },
          "execution_count": 225,
          "metadata": {},
          "output_type": "execute_result"
        }
      ],
      "source": [
        "float_16_tensor = float_32_tensor.type(torch.float16)  # convert to float 16\n",
        "float_16_tensor.dtype, float_16_tensor\n"
      ]
    },
    {
      "cell_type": "code",
      "execution_count": 226,
      "metadata": {
        "colab": {
          "base_uri": "https://localhost:8080/"
        },
        "id": "1d43wv3p0QlO",
        "outputId": "e49cd6ef-33ce-44a5-d3f5-ab971d7bbc54"
      },
      "outputs": [
        {
          "data": {
            "text/plain": [
              "tensor([ 1.2096,  4.8383, 10.8926])"
            ]
          },
          "execution_count": 226,
          "metadata": {},
          "output_type": "execute_result"
        }
      ],
      "source": [
        "float_32_tensor * float_16_tensor\n"
      ]
    },
    {
      "cell_type": "code",
      "execution_count": 227,
      "metadata": {
        "colab": {
          "base_uri": "https://localhost:8080/"
        },
        "id": "oy3Fg_iu0QlO",
        "outputId": "a8e55c72-9109-482f-a58a-f3ceabc96dac"
      },
      "outputs": [
        {
          "data": {
            "text/plain": [
              "(torch.int64, tensor([1, 2, 3]))"
            ]
          },
          "execution_count": 227,
          "metadata": {},
          "output_type": "execute_result"
        }
      ],
      "source": [
        "int_32_tensor = torch.tensor(data=[1, 2, 3])  # the data to store in the tensor\n",
        "int_32_tensor.dtype, int_32_tensor\n"
      ]
    },
    {
      "cell_type": "code",
      "execution_count": 228,
      "metadata": {
        "colab": {
          "base_uri": "https://localhost:8080/"
        },
        "id": "SyDa13dv0QlO",
        "outputId": "f068d6b3-91ed-4ee0-b7d8-c8694b718543"
      },
      "outputs": [
        {
          "data": {
            "text/plain": [
              "tensor([1.1000, 4.4000, 9.9000])"
            ]
          },
          "execution_count": 228,
          "metadata": {},
          "output_type": "execute_result"
        }
      ],
      "source": [
        "float_32_tensor * int_32_tensor\n"
      ]
    },
    {
      "cell_type": "markdown",
      "metadata": {
        "id": "i54jIwV80QlO"
      },
      "source": [
        "## Getting information from tensors\n",
        "\n",
        "1. Tensor is not right data type - to get data type form a tensor, can use `tensor.dtype`\n",
        "2. Tensor is not right shape - to get data type form a tensor, can use `tensor.shape`\n",
        "3. Tensor is not on right device - to get data type form a tensor, can use `tensor.device`\n"
      ]
    },
    {
      "cell_type": "code",
      "execution_count": 229,
      "metadata": {
        "colab": {
          "base_uri": "https://localhost:8080/"
        },
        "id": "a_U19Jzc0QlP",
        "outputId": "396ddb86-1e71-41be-cd37-c9314feea642"
      },
      "outputs": [
        {
          "data": {
            "text/plain": [
              "tensor([[6, 3, 6],\n",
              "        [7, 5, 1],\n",
              "        [2, 8, 8]])"
            ]
          },
          "execution_count": 229,
          "metadata": {},
          "output_type": "execute_result"
        }
      ],
      "source": [
        "# create a tensor of random integers\n",
        "random_int_tensor = torch.randint(low=0, high=10, size=(3, 3))\n",
        "random_int_tensor\n"
      ]
    },
    {
      "cell_type": "code",
      "execution_count": 230,
      "metadata": {
        "colab": {
          "base_uri": "https://localhost:8080/"
        },
        "id": "PLGggM-l0QlP",
        "outputId": "8626af25-fb11-4e03-9185-1f25f2f2fb17"
      },
      "outputs": [
        {
          "name": "stdout",
          "output_type": "stream",
          "text": [
            "tensor([[6, 3, 6],\n",
            "        [7, 5, 1],\n",
            "        [2, 8, 8]])\n",
            "Data type of tensor: torch.int64\n",
            "Shape of tensor: torch.Size([3, 3])\n",
            "Size of tensor: torch.Size([3, 3])\n",
            "Device tensor is stored on: cpu\n",
            "Number of dimensions: 2\n"
          ]
        }
      ],
      "source": [
        "# find out details about a tensor\n",
        "print(random_int_tensor)\n",
        "print(f\"Data type of tensor: {random_int_tensor.dtype}\")\n",
        "print(f\"Shape of tensor: {random_int_tensor.shape}\")\n",
        "print(f\"Size of tensor: {random_int_tensor.size()}\")\n",
        "print(f\"Device tensor is stored on: {random_int_tensor.device}\")\n",
        "print(f\"Number of dimensions: {random_int_tensor.ndim}\")\n"
      ]
    },
    {
      "cell_type": "markdown",
      "metadata": {
        "id": "QI1tjTkr0QlP"
      },
      "source": [
        "### Manipulating tensors (tensor operations)\n",
        "\n",
        "Tensor operations include:\n",
        "\n",
        "1. Addition\n",
        "2. Subtraction\n",
        "3. Multiplication\n",
        "4. Division\n",
        "5. Matrix Multiplication\n"
      ]
    },
    {
      "cell_type": "code",
      "execution_count": 231,
      "metadata": {
        "colab": {
          "base_uri": "https://localhost:8080/"
        },
        "id": "FAC9nK3R0QlP",
        "outputId": "fa657aa4-22f7-4835-f9e1-27f043d88f0d"
      },
      "outputs": [
        {
          "data": {
            "text/plain": [
              "(tensor([[1, 2, 3],\n",
              "         [4, 5, 6]]),\n",
              " tensor([[11, 12, 13],\n",
              "         [14, 15, 16]]))"
            ]
          },
          "execution_count": 231,
          "metadata": {},
          "output_type": "execute_result"
        }
      ],
      "source": [
        "# create a tensor\n",
        "tensor = torch.tensor(data=[[1, 2, 3], [4, 5, 6]])\n",
        "tensor, tensor + 10\n"
      ]
    },
    {
      "cell_type": "code",
      "execution_count": 232,
      "metadata": {
        "colab": {
          "base_uri": "https://localhost:8080/"
        },
        "id": "ayTd5jsr0QlP",
        "outputId": "4793dbe3-7600-475d-fc1d-db859b53b951"
      },
      "outputs": [
        {
          "data": {
            "text/plain": [
              "tensor([[-9, -8, -7],\n",
              "        [-6, -5, -4]])"
            ]
          },
          "execution_count": 232,
          "metadata": {},
          "output_type": "execute_result"
        }
      ],
      "source": [
        "tensor - 10\n"
      ]
    },
    {
      "cell_type": "code",
      "execution_count": 233,
      "metadata": {
        "colab": {
          "base_uri": "https://localhost:8080/"
        },
        "id": "2Z0PoswA0QlP",
        "outputId": "e33070f4-b823-496b-eea9-57eca9b75a48"
      },
      "outputs": [
        {
          "data": {
            "text/plain": [
              "tensor([[10, 20, 30],\n",
              "        [40, 50, 60]])"
            ]
          },
          "execution_count": 233,
          "metadata": {},
          "output_type": "execute_result"
        }
      ],
      "source": [
        "tensor * 10\n"
      ]
    },
    {
      "cell_type": "code",
      "execution_count": 234,
      "metadata": {
        "colab": {
          "base_uri": "https://localhost:8080/"
        },
        "id": "yvVAAbaJ0QlP",
        "outputId": "b602e30b-19c4-44e5-8ddf-bf6ef022d3ee"
      },
      "outputs": [
        {
          "data": {
            "text/plain": [
              "tensor([[0.1000, 0.2000, 0.3000],\n",
              "        [0.4000, 0.5000, 0.6000]])"
            ]
          },
          "execution_count": 234,
          "metadata": {},
          "output_type": "execute_result"
        }
      ],
      "source": [
        "tensor / 10\n"
      ]
    },
    {
      "cell_type": "code",
      "execution_count": 235,
      "metadata": {
        "colab": {
          "base_uri": "https://localhost:8080/"
        },
        "id": "ZrumRS_10QlQ",
        "outputId": "81b9e356-c2c3-432a-bac2-11a447b48dd9"
      },
      "outputs": [
        {
          "data": {
            "text/plain": [
              "tensor([[10, 20, 30],\n",
              "        [40, 50, 60]])"
            ]
          },
          "execution_count": 235,
          "metadata": {},
          "output_type": "execute_result"
        }
      ],
      "source": [
        "# Try out PyTorch built-in functions\n",
        "\n",
        "torch.mul(tensor, 10)\n"
      ]
    },
    {
      "cell_type": "code",
      "execution_count": 236,
      "metadata": {
        "colab": {
          "base_uri": "https://localhost:8080/"
        },
        "id": "DqZMf9D40QlQ",
        "outputId": "dd34bdb5-6a92-4707-a9a0-fa8a10a5e2af"
      },
      "outputs": [
        {
          "data": {
            "text/plain": [
              "tensor([[ 1,  4,  9],\n",
              "        [16, 25, 36]])"
            ]
          },
          "execution_count": 236,
          "metadata": {},
          "output_type": "execute_result"
        }
      ],
      "source": [
        "tensor**2\n"
      ]
    },
    {
      "cell_type": "markdown",
      "metadata": {
        "id": "uMuwz_bB0QlQ"
      },
      "source": [
        "### Matrix Multiplication\n",
        "\n",
        "Two main ways to perform matrix multiplication in PyTorch:\n",
        "\n",
        "1. Element-wise multiplication\n",
        "2. Matrix multiplication (dot product)\n",
        "\n",
        "There are two main rules that perform matrix multiplication:\n",
        "\n",
        "1. The inner dimensions must match\n",
        "    - `(3,2) @ (3,2)` won't work\n",
        "    - `(3,2) @ (2,3)` will work\n",
        "    - `(2,3) @ (3,2)` will work\n",
        "2. The resulting matrix has the shape of the outer dimensions\n",
        "    - `(3,2) @ (2,3)` will result in a `(3,3)` matrix\n",
        "    - `(2,3) @ (3,2)` will result in a `(2,2)` matrix\n"
      ]
    },
    {
      "cell_type": "code",
      "execution_count": 237,
      "metadata": {
        "colab": {
          "base_uri": "https://localhost:8080/"
        },
        "id": "TKBWop6u0QlQ",
        "outputId": "91b58eb7-e7c5-4a0a-f1a2-e05c2feafd07"
      },
      "outputs": [
        {
          "data": {
            "text/plain": [
              "tensor([[0.7493, 0.9773, 0.2240],\n",
              "        [0.5034, 0.5990, 0.1107],\n",
              "        [1.2643, 1.8168, 0.4939]])"
            ]
          },
          "execution_count": 237,
          "metadata": {},
          "output_type": "execute_result"
        }
      ],
      "source": [
        "torch.matmul(torch.rand(size=(3, 2)), torch.rand(size=(2, 3)))\n"
      ]
    },
    {
      "cell_type": "code",
      "execution_count": 238,
      "metadata": {
        "colab": {
          "base_uri": "https://localhost:8080/"
        },
        "id": "AVxBhouo0QlQ",
        "outputId": "b15e9916-2114-4ffd-a6ee-d33a9fb6c070"
      },
      "outputs": [
        {
          "name": "stdout",
          "output_type": "stream",
          "text": [
            "tensor([[1, 2, 3],\n",
            "        [4, 5, 6]]) * tensor([[1, 2, 3],\n",
            "        [4, 5, 6]]) = tensor([[ 1,  4,  9],\n",
            "        [16, 25, 36]])\n"
          ]
        }
      ],
      "source": [
        "# Element-wise multiplication\n",
        "print(tensor, \"*\", tensor, \"=\", torch.mul(tensor, tensor))\n"
      ]
    },
    {
      "cell_type": "code",
      "execution_count": 239,
      "metadata": {
        "colab": {
          "base_uri": "https://localhost:8080/"
        },
        "id": "4N9aco5Y0QlQ",
        "outputId": "5332286a-819c-48e2-f6e0-b255c523e74a"
      },
      "outputs": [
        {
          "data": {
            "text/plain": [
              "tensor([[14, 32],\n",
              "        [32, 77]])"
            ]
          },
          "execution_count": 239,
          "metadata": {},
          "output_type": "execute_result"
        }
      ],
      "source": [
        "# matrix multiplication\n",
        "torch.matmul(tensor, tensor.T)\n"
      ]
    },
    {
      "cell_type": "code",
      "execution_count": 240,
      "metadata": {
        "colab": {
          "base_uri": "https://localhost:8080/"
        },
        "id": "Ye8tezFA0QlQ",
        "outputId": "c6a2ad5f-f6be-4298-9864-19846ea7fa95"
      },
      "outputs": [
        {
          "data": {
            "text/plain": [
              "(tensor([[1, 2, 3],\n",
              "         [4, 5, 6]]),\n",
              " tensor([[1, 4],\n",
              "         [2, 5],\n",
              "         [3, 6]]))"
            ]
          },
          "execution_count": 240,
          "metadata": {},
          "output_type": "execute_result"
        }
      ],
      "source": [
        "tensor, tensor.T\n"
      ]
    },
    {
      "cell_type": "code",
      "execution_count": 241,
      "metadata": {
        "colab": {
          "base_uri": "https://localhost:8080/"
        },
        "id": "9JvllFKx0QlQ",
        "outputId": "beccca63-6753-461f-d0c4-870af28e4c1a"
      },
      "outputs": [
        {
          "data": {
            "text/plain": [
              "([14, 32], [32, 77])"
            ]
          },
          "execution_count": 241,
          "metadata": {},
          "output_type": "execute_result"
        }
      ],
      "source": [
        "# matrix multiplication by hand\n",
        "[1 * 1 + 2 * 2 + 3 * 3, 1 * 4 + 2 * 5 + 3 * 6], [\n",
        "    4 * 1 + 5 * 2 + 6 * 3,\n",
        "    4 * 4 + 5 * 5 + 6 * 6,\n",
        "]\n"
      ]
    },
    {
      "cell_type": "code",
      "execution_count": 242,
      "metadata": {
        "colab": {
          "base_uri": "https://localhost:8080/"
        },
        "id": "PvcJ363B0QlR",
        "outputId": "7594aa5b-e36d-4e54-f680-38896c8a253d"
      },
      "outputs": [
        {
          "name": "stdout",
          "output_type": "stream",
          "text": [
            "shell  0.00s user 0.01s system 2086% cpu 0.000 total\n",
            "children  0.00s user 0.00s system 0% cpu 0.000 total\n",
            "tensor(14)\n"
          ]
        }
      ],
      "source": [
        "!time\n",
        "t = torch.tensor([1,2,3])\n",
        "m =[]\n",
        "value =0\n",
        "for i in range(len(t)):\n",
        "    value += t[i]*t[i]\n",
        "    \n",
        "\n",
        "print(value)"
      ]
    },
    {
      "cell_type": "code",
      "execution_count": 243,
      "metadata": {
        "colab": {
          "base_uri": "https://localhost:8080/"
        },
        "id": "E8CYVneM0QlR",
        "outputId": "9aa2e605-c67f-4314-fa5d-d2178c201696"
      },
      "outputs": [
        {
          "name": "stdout",
          "output_type": "stream",
          "text": [
            "shell  0.00s user 0.01s system 2129% cpu 0.000 total\n",
            "children  0.00s user 0.00s system 0% cpu 0.000 total\n"
          ]
        },
        {
          "data": {
            "text/plain": [
              "tensor(14)"
            ]
          },
          "execution_count": 243,
          "metadata": {},
          "output_type": "execute_result"
        }
      ],
      "source": [
        "!time\n",
        "\n",
        "torch.matmul(t,t)"
      ]
    },
    {
      "cell_type": "code",
      "execution_count": 244,
      "metadata": {
        "colab": {
          "base_uri": "https://localhost:8080/"
        },
        "id": "UztSQ6JJ0QlR",
        "outputId": "c3871fb6-f9e9-4abf-b86e-20e9d16f915f"
      },
      "outputs": [
        {
          "name": "stdout",
          "output_type": "stream",
          "text": [
            "shell  0.00s user 0.01s system 2170% cpu 0.000 total\n",
            "children  0.00s user 0.00s system 0% cpu 0.000 total\n"
          ]
        },
        {
          "data": {
            "text/plain": [
              "tensor([[14, 32],\n",
              "        [32, 77]])"
            ]
          },
          "execution_count": 244,
          "metadata": {},
          "output_type": "execute_result"
        }
      ],
      "source": [
        "!time \n",
        "\n",
        "torch.matmul(tensor, tensor.T)"
      ]
    },
    {
      "cell_type": "code",
      "execution_count": 245,
      "metadata": {
        "colab": {
          "base_uri": "https://localhost:8080/"
        },
        "id": "zTJ0jvyr0QlR",
        "outputId": "d3327b12-1d46-4c71-e957-ea0b38859762"
      },
      "outputs": [
        {
          "data": {
            "text/plain": [
              "tensor([[14, 32],\n",
              "        [32, 77]])"
            ]
          },
          "execution_count": 245,
          "metadata": {},
          "output_type": "execute_result"
        }
      ],
      "source": [
        "# @ operator for matrix multiplication\n",
        "tensor @ tensor.T\n"
      ]
    },
    {
      "cell_type": "markdown",
      "metadata": {
        "id": "1Kfe4dur0QlR"
      },
      "source": [
        "### One of the most common error in deep learning: shape error\n"
      ]
    },
    {
      "cell_type": "code",
      "execution_count": 246,
      "metadata": {
        "colab": {
          "base_uri": "https://localhost:8080/"
        },
        "id": "4xl4ofGf0QlR",
        "outputId": "16277ab2-df1f-43b9-ec75-26fadbdba2e6"
      },
      "outputs": [
        {
          "data": {
            "text/plain": [
              "(tensor([[ 76, 103],\n",
              "         [100, 136]]),\n",
              " tensor([[ 27,  30,  33],\n",
              "         [ 61,  68,  75],\n",
              "         [ 95, 106, 117]]))"
            ]
          },
          "execution_count": 246,
          "metadata": {},
          "output_type": "execute_result"
        }
      ],
      "source": [
        "# Shape for matrix multiplication\n",
        "tensor_A = torch.tensor([[1, 2], [3, 4], [5, 6]])\n",
        "tensor_B = torch.tensor([[7, 10], [8, 11], [9, 12]])\n",
        "# torch.matmul(tensor_A, tensor_B) # error because of shape\n",
        "torch.matmul(tensor_A.T, tensor_B), torch.matmul(tensor_A, tensor_B.T)\n"
      ]
    },
    {
      "cell_type": "markdown",
      "metadata": {
        "id": "pJHYUQv70QlR"
      },
      "source": [
        "## Finding min, max, sum, mean, absolute value, standard deviation (tensor aggregation)\n"
      ]
    },
    {
      "cell_type": "code",
      "execution_count": 247,
      "metadata": {
        "colab": {
          "base_uri": "https://localhost:8080/"
        },
        "id": "JIVWqaH10QlR",
        "outputId": "f07001d1-ae7a-4b23-93c1-936e8bcf3364"
      },
      "outputs": [
        {
          "data": {
            "text/plain": [
              "tensor([ 0, 10, 20, 30, 40, 50, 60, 70, 80, 90])"
            ]
          },
          "execution_count": 247,
          "metadata": {},
          "output_type": "execute_result"
        }
      ],
      "source": [
        "# create a tensor\n",
        "x = torch.arange(0, 100, 10)\n",
        "x\n"
      ]
    },
    {
      "cell_type": "code",
      "execution_count": 248,
      "metadata": {
        "colab": {
          "base_uri": "https://localhost:8080/"
        },
        "id": "NVtMdX1M0QlS",
        "outputId": "8aa9d91d-a95b-48ae-e1a2-93f34050ac1d"
      },
      "outputs": [
        {
          "data": {
            "text/plain": [
              "(tensor(0), tensor(0))"
            ]
          },
          "execution_count": 248,
          "metadata": {},
          "output_type": "execute_result"
        }
      ],
      "source": [
        "# find the min\n",
        "torch.min(x), x.min()\n"
      ]
    },
    {
      "cell_type": "code",
      "execution_count": 249,
      "metadata": {
        "colab": {
          "base_uri": "https://localhost:8080/"
        },
        "id": "1ierlOX00QlS",
        "outputId": "f65b3009-a061-4ffa-9f21-b43e8e8b6bae"
      },
      "outputs": [
        {
          "data": {
            "text/plain": [
              "(tensor(90), tensor(90))"
            ]
          },
          "execution_count": 249,
          "metadata": {},
          "output_type": "execute_result"
        }
      ],
      "source": [
        "# find the max\n",
        "torch.max(x), x.max()\n"
      ]
    },
    {
      "cell_type": "code",
      "execution_count": 250,
      "metadata": {
        "colab": {
          "base_uri": "https://localhost:8080/"
        },
        "id": "lwsQOWbj0QlS",
        "outputId": "45d990ad-22c0-42da-ed20-9a2c99151a3d"
      },
      "outputs": [
        {
          "data": {
            "text/plain": [
              "(tensor(45.), tensor(45.))"
            ]
          },
          "execution_count": 250,
          "metadata": {},
          "output_type": "execute_result"
        }
      ],
      "source": [
        "# find the mean. note that the torch.mean() function requires a float32 tensor\n",
        "torch.mean(x.type(torch.float32)), x.type(torch.float32).mean()\n"
      ]
    },
    {
      "cell_type": "code",
      "execution_count": 251,
      "metadata": {
        "colab": {
          "base_uri": "https://localhost:8080/"
        },
        "id": "CFpJlFgE0QlS",
        "outputId": "33170a4c-6c8f-4572-9663-3b910c5a3def"
      },
      "outputs": [
        {
          "data": {
            "text/plain": [
              "(tensor(450), tensor(450))"
            ]
          },
          "execution_count": 251,
          "metadata": {},
          "output_type": "execute_result"
        }
      ],
      "source": [
        "# find the sum\n",
        "torch.sum(x), x.sum()\n"
      ]
    },
    {
      "cell_type": "markdown",
      "metadata": {
        "id": "QZSBb8_N0QlS"
      },
      "source": [
        "### finding the positional maximum and minimum\n"
      ]
    },
    {
      "cell_type": "code",
      "execution_count": 252,
      "metadata": {
        "colab": {
          "base_uri": "https://localhost:8080/"
        },
        "id": "8U2kFiuQ0QlS",
        "outputId": "719efacb-8c67-4b00-c746-cbadf7b7f504"
      },
      "outputs": [
        {
          "data": {
            "text/plain": [
              "tensor([ 0, 10, 20, 30, 40, 50, 60, 70, 80, 90])"
            ]
          },
          "execution_count": 252,
          "metadata": {},
          "output_type": "execute_result"
        }
      ],
      "source": [
        "x\n"
      ]
    },
    {
      "cell_type": "code",
      "execution_count": 253,
      "metadata": {
        "colab": {
          "base_uri": "https://localhost:8080/"
        },
        "id": "8TRf1gNd0QlS",
        "outputId": "79c33038-c9e8-455d-fcec-976605e03885"
      },
      "outputs": [
        {
          "data": {
            "text/plain": [
              "(tensor(0), tensor(0))"
            ]
          },
          "execution_count": 253,
          "metadata": {},
          "output_type": "execute_result"
        }
      ],
      "source": [
        "# find the position in tensor that has the minimum value\n",
        "\n",
        "x.argmin(), x.min()\n"
      ]
    },
    {
      "cell_type": "code",
      "execution_count": 254,
      "metadata": {
        "colab": {
          "base_uri": "https://localhost:8080/"
        },
        "id": "MN-bEO0V0QlT",
        "outputId": "7319528c-1fec-4b63-9e26-c1de183791d6"
      },
      "outputs": [
        {
          "data": {
            "text/plain": [
              "(tensor(9), tensor(90))"
            ]
          },
          "execution_count": 254,
          "metadata": {},
          "output_type": "execute_result"
        }
      ],
      "source": [
        "# find the position in tensor that has the maximum value\n",
        "\n",
        "x.argmax(), x.max()\n"
      ]
    },
    {
      "cell_type": "code",
      "execution_count": 255,
      "metadata": {
        "colab": {
          "base_uri": "https://localhost:8080/"
        },
        "id": "_gpDYkx_0QlT",
        "outputId": "3103db0b-f327-4ae3-f9bf-ee39e2de8825"
      },
      "outputs": [
        {
          "data": {
            "text/plain": [
              "(tensor([[1, 2],\n",
              "         [3, 4],\n",
              "         [5, 6]]),\n",
              " tensor(5))"
            ]
          },
          "execution_count": 255,
          "metadata": {},
          "output_type": "execute_result"
        }
      ],
      "source": [
        "tensor_A, tensor_A.argmax()\n"
      ]
    },
    {
      "cell_type": "markdown",
      "metadata": {
        "id": "i580cMOa0QlT"
      },
      "source": [
        "## Reshaping, stacking, squeezing, un-squeezing\n",
        "\n",
        "-   Reshaping - reshape an input tensor to a defined shape\n",
        "-   view - return a view of an input tensor of certain shape but keep the same memory as the original tensor\n",
        "-   stack - combine multiple tensors on top of each other (vertically - vstack) or side by side (horizontally h-stack)\n",
        "-   squeeze - remove all `1` dimensions from a tensor\n",
        "-   unsqueeze - add a dimension of size `1` to a tensor\n",
        "-   permute - return a view of an input tensor with its dimensions permuted (swapper) in a certain order\n"
      ]
    },
    {
      "cell_type": "code",
      "execution_count": 256,
      "metadata": {
        "colab": {
          "base_uri": "https://localhost:8080/"
        },
        "id": "nQor0tPf0QlT",
        "outputId": "f27377f2-d8bb-43c8-9e52-edfcd075d6c7"
      },
      "outputs": [
        {
          "data": {
            "text/plain": [
              "(tensor([1., 2., 3., 4., 5., 6., 7., 8., 9.]), torch.Size([9]))"
            ]
          },
          "execution_count": 256,
          "metadata": {},
          "output_type": "execute_result"
        }
      ],
      "source": [
        "x = torch.arange(1.0, 10.0)\n",
        "x, x.shape\n"
      ]
    },
    {
      "cell_type": "code",
      "execution_count": 257,
      "metadata": {
        "colab": {
          "base_uri": "https://localhost:8080/"
        },
        "id": "cxi-wtdE0QlT",
        "outputId": "218055fb-7e36-4291-9200-7c5533ffc2fb"
      },
      "outputs": [
        {
          "data": {
            "text/plain": [
              "(tensor([[1., 2., 3., 4., 5., 6., 7., 8., 9.]]), torch.Size([1, 9]))"
            ]
          },
          "execution_count": 257,
          "metadata": {},
          "output_type": "execute_result"
        }
      ],
      "source": [
        "# add a dimension to the tensor\n",
        "x_reshaped = x.reshape(1, 9)\n",
        "x_reshaped, x_reshaped.shape\n"
      ]
    },
    {
      "cell_type": "code",
      "execution_count": 258,
      "metadata": {
        "colab": {
          "base_uri": "https://localhost:8080/"
        },
        "id": "zmi95ibF0QlT",
        "outputId": "f0344aae-fdde-4f38-ce03-76529671b1e9"
      },
      "outputs": [
        {
          "data": {
            "text/plain": [
              "(tensor([[1.],\n",
              "         [2.],\n",
              "         [3.],\n",
              "         [4.],\n",
              "         [5.],\n",
              "         [6.],\n",
              "         [7.],\n",
              "         [8.],\n",
              "         [9.]]),\n",
              " torch.Size([9, 1]))"
            ]
          },
          "execution_count": 258,
          "metadata": {},
          "output_type": "execute_result"
        }
      ],
      "source": [
        "x_reshaped2 = x.reshape(9, 1)\n",
        "x_reshaped2, x_reshaped2.shape\n"
      ]
    },
    {
      "cell_type": "code",
      "execution_count": 259,
      "metadata": {
        "colab": {
          "base_uri": "https://localhost:8080/"
        },
        "id": "Fj2yDHY40QlT",
        "outputId": "bea53ceb-60c6-4f7a-82b1-fd5e7c178093"
      },
      "outputs": [
        {
          "data": {
            "text/plain": [
              "(tensor([[1., 2., 3., 4., 5., 6., 7., 8., 9.]]), torch.Size([1, 9]))"
            ]
          },
          "execution_count": 259,
          "metadata": {},
          "output_type": "execute_result"
        }
      ],
      "source": [
        "# change the view\n",
        "z = x.view(1, 9)\n",
        "z, z.shape\n"
      ]
    },
    {
      "cell_type": "code",
      "execution_count": 260,
      "metadata": {
        "colab": {
          "base_uri": "https://localhost:8080/"
        },
        "id": "sa3kXv6W0QlT",
        "outputId": "e63dbaa4-d7d5-4b70-f3a4-6c4977274abd"
      },
      "outputs": [
        {
          "data": {
            "text/plain": [
              "(tensor([[5., 2., 3., 4., 5., 6., 7., 8., 9.]]),\n",
              " tensor([5., 2., 3., 4., 5., 6., 7., 8., 9.]))"
            ]
          },
          "execution_count": 260,
          "metadata": {},
          "output_type": "execute_result"
        }
      ],
      "source": [
        "# changing z changes x (because they are the same tensor and shares the same memory)\n",
        "z[:, 0] = 5\n",
        "z, x\n"
      ]
    },
    {
      "cell_type": "code",
      "execution_count": 261,
      "metadata": {
        "colab": {
          "base_uri": "https://localhost:8080/"
        },
        "id": "FPWXGIOg0QlU",
        "outputId": "5a426974-acbe-4ae7-e4e6-5cd55eff3013"
      },
      "outputs": [
        {
          "data": {
            "text/plain": [
              "tensor([[5., 2., 3., 4., 5., 6., 7., 8., 9.],\n",
              "        [5., 2., 3., 4., 5., 6., 7., 8., 9.],\n",
              "        [5., 2., 3., 4., 5., 6., 7., 8., 9.],\n",
              "        [5., 2., 3., 4., 5., 6., 7., 8., 9.]])"
            ]
          },
          "execution_count": 261,
          "metadata": {},
          "output_type": "execute_result"
        }
      ],
      "source": [
        "# stack tensors on top of each other\n",
        "x_stacked = torch.stack([x, x, x, x], dim=0)\n",
        "x_stacked\n"
      ]
    },
    {
      "cell_type": "code",
      "execution_count": 262,
      "metadata": {
        "colab": {
          "base_uri": "https://localhost:8080/"
        },
        "id": "jGm9ElfP0QlU",
        "outputId": "dcf60132-ab0b-4c46-941f-1620856814ca"
      },
      "outputs": [
        {
          "data": {
            "text/plain": [
              "tensor([[5., 5., 5., 5.],\n",
              "        [2., 2., 2., 2.],\n",
              "        [3., 3., 3., 3.],\n",
              "        [4., 4., 4., 4.],\n",
              "        [5., 5., 5., 5.],\n",
              "        [6., 6., 6., 6.],\n",
              "        [7., 7., 7., 7.],\n",
              "        [8., 8., 8., 8.],\n",
              "        [9., 9., 9., 9.]])"
            ]
          },
          "execution_count": 262,
          "metadata": {},
          "output_type": "execute_result"
        }
      ],
      "source": [
        "x_stacked = torch.stack([x, x, x, x], dim=1)\n",
        "x_stacked\n"
      ]
    },
    {
      "cell_type": "code",
      "execution_count": 263,
      "metadata": {
        "colab": {
          "base_uri": "https://localhost:8080/"
        },
        "id": "PjYZOjOC0QlU",
        "outputId": "32dd3f0f-2b19-48fd-86bd-5057ea4ec4c1"
      },
      "outputs": [
        {
          "data": {
            "text/plain": [
              "(tensor([[5., 2., 3., 4., 5., 6., 7., 8., 9.]]), torch.Size([1, 9]))"
            ]
          },
          "execution_count": 263,
          "metadata": {},
          "output_type": "execute_result"
        }
      ],
      "source": [
        "# squeeze the tensor - remove all dimensions of size 1\n",
        "x_reshaped, x_reshaped.shape\n"
      ]
    },
    {
      "cell_type": "code",
      "execution_count": 264,
      "metadata": {
        "colab": {
          "base_uri": "https://localhost:8080/"
        },
        "id": "64ke9TiH0QlU",
        "outputId": "de561c17-569c-4d26-a281-0c2fb1d15692"
      },
      "outputs": [
        {
          "data": {
            "text/plain": [
              "(tensor([5., 2., 3., 4., 5., 6., 7., 8., 9.]), torch.Size([9]))"
            ]
          },
          "execution_count": 264,
          "metadata": {},
          "output_type": "execute_result"
        }
      ],
      "source": [
        "x_reshaped.squeeze(), x_reshaped.squeeze().shape\n"
      ]
    },
    {
      "cell_type": "code",
      "execution_count": 265,
      "metadata": {
        "colab": {
          "base_uri": "https://localhost:8080/"
        },
        "id": "MgkGYU250QlU",
        "outputId": "bd33b711-7b38-41aa-a950-74112027fcac"
      },
      "outputs": [
        {
          "data": {
            "text/plain": [
              "(tensor([[5., 2., 3., 4., 5., 6., 7., 8., 9.]]), torch.Size([1, 9]))"
            ]
          },
          "execution_count": 265,
          "metadata": {},
          "output_type": "execute_result"
        }
      ],
      "source": [
        "# unsqueeze the tensor - add a dimension of size 1\n",
        "\n",
        "x_reshaped, x_reshaped.shape\n"
      ]
    },
    {
      "cell_type": "code",
      "execution_count": 266,
      "metadata": {
        "colab": {
          "base_uri": "https://localhost:8080/"
        },
        "id": "uNIQXisD0QlU",
        "outputId": "c06c091f-f5d3-4b90-bbf5-448504f11994"
      },
      "outputs": [
        {
          "data": {
            "text/plain": [
              "(tensor([[[5., 2., 3., 4., 5., 6., 7., 8., 9.]]]), torch.Size([1, 1, 9]))"
            ]
          },
          "execution_count": 266,
          "metadata": {},
          "output_type": "execute_result"
        }
      ],
      "source": [
        "x_reshaped.unsqueeze(dim=0), x_reshaped.unsqueeze(dim=0).shape\n"
      ]
    },
    {
      "cell_type": "code",
      "execution_count": 267,
      "metadata": {
        "colab": {
          "base_uri": "https://localhost:8080/"
        },
        "id": "ZMW6lR940QlU",
        "outputId": "c08d0a91-67d1-424b-c488-a4c4fe30fe13"
      },
      "outputs": [
        {
          "data": {
            "text/plain": [
              "(tensor(0.1496), torch.Size([224, 224, 3]))"
            ]
          },
          "execution_count": 267,
          "metadata": {},
          "output_type": "execute_result"
        }
      ],
      "source": [
        "# permute  - rearranges the dimensions of a tensor in a specified order\n",
        "x_original = torch.rand(size=(224, 224, 3))  # (height, width, channels)\n",
        "x_original[0][0][0], x_original.shape\n"
      ]
    },
    {
      "cell_type": "code",
      "execution_count": 268,
      "metadata": {
        "colab": {
          "base_uri": "https://localhost:8080/"
        },
        "id": "h0kqwtEm0QlV",
        "outputId": "5aa7e9f5-1d56-4499-f529-5529fd00ada5"
      },
      "outputs": [
        {
          "data": {
            "text/plain": [
              "(tensor(0.1496), torch.Size([3, 224, 224]))"
            ]
          },
          "execution_count": 268,
          "metadata": {},
          "output_type": "execute_result"
        }
      ],
      "source": [
        "# permute the tensor to rearrange the dimensions\n",
        "x_permuted = x_original.permute(2, 0, 1)  # (channels, height, width)\n",
        "x_permuted[0][0][0], x_permuted.shape\n"
      ]
    },
    {
      "cell_type": "code",
      "execution_count": 269,
      "metadata": {
        "colab": {
          "base_uri": "https://localhost:8080/"
        },
        "id": "G83XESQO0QlV",
        "outputId": "c3a9d23a-b4ea-4ccf-fdf9-83b110dd1157"
      },
      "outputs": [
        {
          "data": {
            "text/plain": [
              "(tensor(0.1496), torch.Size([3, 224, 224]))"
            ]
          },
          "execution_count": 269,
          "metadata": {},
          "output_type": "execute_result"
        }
      ],
      "source": [
        "x_permuted[0, 0, 0], x_permuted.shape\n"
      ]
    },
    {
      "cell_type": "markdown",
      "metadata": {
        "id": "BZS0Xrq_0QlV"
      },
      "source": [
        "## Indexing (selecting data from tensors)\n",
        "\n",
        "-   indexing with PyTorch is similar with numpy\n"
      ]
    },
    {
      "cell_type": "code",
      "execution_count": 270,
      "metadata": {
        "colab": {
          "base_uri": "https://localhost:8080/"
        },
        "id": "N4RaIzKR0QlV",
        "outputId": "451e2294-abce-40d6-b8dd-3648d2041cdf"
      },
      "outputs": [
        {
          "data": {
            "text/plain": [
              "(tensor([[[1, 2, 3],\n",
              "          [4, 5, 6],\n",
              "          [7, 8, 9]]]),\n",
              " torch.Size([1, 3, 3]))"
            ]
          },
          "execution_count": 270,
          "metadata": {},
          "output_type": "execute_result"
        }
      ],
      "source": [
        "# creating a tensor\n",
        "x = torch.arange(1, 10).reshape(1, 3, 3)\n",
        "x, x.shape\n"
      ]
    },
    {
      "cell_type": "code",
      "execution_count": 271,
      "metadata": {
        "colab": {
          "base_uri": "https://localhost:8080/"
        },
        "id": "SGYEFd6f0QlV",
        "outputId": "a96a7e3a-309c-4704-e9a1-bf0f677834ff"
      },
      "outputs": [
        {
          "data": {
            "text/plain": [
              "tensor([[1, 2, 3],\n",
              "        [4, 5, 6],\n",
              "        [7, 8, 9]])"
            ]
          },
          "execution_count": 271,
          "metadata": {},
          "output_type": "execute_result"
        }
      ],
      "source": [
        "# lets index on our new tensor\n",
        "\n",
        "x[0]\n"
      ]
    },
    {
      "cell_type": "code",
      "execution_count": 272,
      "metadata": {
        "colab": {
          "base_uri": "https://localhost:8080/"
        },
        "id": "OZhx2n9U0QlV",
        "outputId": "31915232-e1ee-4761-d77b-dacab855e28e"
      },
      "outputs": [
        {
          "data": {
            "text/plain": [
              "(tensor([1, 2, 3]), tensor([1, 2, 3]))"
            ]
          },
          "execution_count": 272,
          "metadata": {},
          "output_type": "execute_result"
        }
      ],
      "source": [
        "# lets index on middle bracket (dim=1)\n",
        "x[0, 0], x[0][0]  # both are same\n"
      ]
    },
    {
      "cell_type": "code",
      "execution_count": 273,
      "metadata": {
        "colab": {
          "base_uri": "https://localhost:8080/"
        },
        "id": "KldS_I040QlV",
        "outputId": "bf045849-d580-4123-d34f-5ddcb6a0489c"
      },
      "outputs": [
        {
          "data": {
            "text/plain": [
              "(tensor(1), tensor(1))"
            ]
          },
          "execution_count": 273,
          "metadata": {},
          "output_type": "execute_result"
        }
      ],
      "source": [
        "#  lets index on the most inner bracket (last dimension)\n",
        "x[0, 0, 0], x[0][0][0]\n"
      ]
    },
    {
      "cell_type": "code",
      "execution_count": 274,
      "metadata": {
        "colab": {
          "base_uri": "https://localhost:8080/"
        },
        "id": "9uxh8JlH0QlW",
        "outputId": "d5658a4b-5ff8-4e09-c239-1219ce90ff7d"
      },
      "outputs": [
        {
          "data": {
            "text/plain": [
              "(tensor([[[1, 2, 3],\n",
              "          [4, 5, 6],\n",
              "          [7, 8, 9]]]),\n",
              " tensor([[1, 2, 3]]),\n",
              " tensor([1]),\n",
              " tensor(1))"
            ]
          },
          "execution_count": 274,
          "metadata": {},
          "output_type": "execute_result"
        }
      ],
      "source": [
        "#  you can use \":\" to select \"all\" of a target dimension\n",
        "\n",
        "x, x[:, 0], x[:, 0, 0], x[:, 0, 0][0]\n"
      ]
    },
    {
      "cell_type": "code",
      "execution_count": 275,
      "metadata": {
        "colab": {
          "base_uri": "https://localhost:8080/"
        },
        "id": "UHFYL9nV0QlW",
        "outputId": "02fd6a57-e8d8-4ff5-ac4e-06a81eeb267f"
      },
      "outputs": [
        {
          "data": {
            "text/plain": [
              "(tensor([[[1, 2, 3],\n",
              "          [4, 5, 6],\n",
              "          [7, 8, 9]]]),\n",
              " tensor([[2, 5, 8]]))"
            ]
          },
          "execution_count": 275,
          "metadata": {},
          "output_type": "execute_result"
        }
      ],
      "source": [
        "# get all values of 0th and 1st dimensions but only index 1 of 2nd dimension\n",
        "\n",
        "x, x[:, :, 1]\n"
      ]
    },
    {
      "cell_type": "code",
      "execution_count": 276,
      "metadata": {
        "colab": {
          "base_uri": "https://localhost:8080/"
        },
        "id": "g0Sjn7Hi0QlW",
        "outputId": "07e4dfb0-993c-44a8-e33c-e8f5fe6d263f"
      },
      "outputs": [
        {
          "data": {
            "text/plain": [
              "(tensor([[[1, 2, 3],\n",
              "          [4, 5, 6],\n",
              "          [7, 8, 9]]]),\n",
              " tensor([5]),\n",
              " tensor(5))"
            ]
          },
          "execution_count": 276,
          "metadata": {},
          "output_type": "execute_result"
        }
      ],
      "source": [
        "#  get all values of the 0 dimension but only 1 index of 1st and 2nd dimensions\n",
        "x, x[:, 1, 1], x[0, 1, 1]\n"
      ]
    },
    {
      "cell_type": "code",
      "execution_count": 277,
      "metadata": {
        "colab": {
          "base_uri": "https://localhost:8080/"
        },
        "id": "y6KjeS4A0QlW",
        "outputId": "d3f0836a-c929-4b18-dfc9-ec5c148be8cd"
      },
      "outputs": [
        {
          "data": {
            "text/plain": [
              "(tensor([[[1, 2, 3],\n",
              "          [4, 5, 6],\n",
              "          [7, 8, 9]]]),\n",
              " tensor([1, 2, 3]),\n",
              " tensor([1, 2, 3]),\n",
              " tensor([1, 2, 3]))"
            ]
          },
          "execution_count": 277,
          "metadata": {},
          "output_type": "execute_result"
        }
      ],
      "source": [
        "# get index 0 of 0th and 1st dimension and all values of 2nd dimension\n",
        "x, x[0, 0, :], x[0, 0], x[0][0]\n"
      ]
    },
    {
      "cell_type": "code",
      "execution_count": 278,
      "metadata": {
        "colab": {
          "base_uri": "https://localhost:8080/"
        },
        "id": "qtwJpLTX0QlW",
        "outputId": "83913c68-07a4-41f9-df91-ce89ed88c1b6"
      },
      "outputs": [
        {
          "name": "stdout",
          "output_type": "stream",
          "text": [
            "tensor([[[1, 2, 3],\n",
            "         [4, 5, 6],\n",
            "         [7, 8, 9]]]) tensor([9]) tensor(9)\n",
            "tensor([[[1, 2, 3],\n",
            "         [4, 5, 6],\n",
            "         [7, 8, 9]]]) tensor([[3, 6, 9]])\n"
          ]
        }
      ],
      "source": [
        "# index on x to return 9\n",
        "\n",
        "print(x, x[:, 2, 2], x[0, 2, 2])\n",
        "\n",
        "# index on x to return 3, 6, 9\n",
        "\n",
        "print(x, x[:, :, 2])\n"
      ]
    },
    {
      "cell_type": "markdown",
      "metadata": {
        "id": "_yUsbBZq0QlW"
      },
      "source": [
        "## PyTorch tensors and NumPy\n",
        "\n",
        "NumPy is a popular scientific numerical computing library for Python.\n",
        "\n",
        "And because of this, PyTorch has functionality to interact with NumPy.\n",
        "\n",
        "-   Data in NumPy, want in PyTorch tensors -> `torch.from_numpy(ndarray)`\n",
        "-   PyTorch tensor -> NumPy -> `torch.Tensor.numpy()`\n"
      ]
    },
    {
      "cell_type": "code",
      "execution_count": 279,
      "metadata": {
        "colab": {
          "base_uri": "https://localhost:8080/"
        },
        "id": "WFi7kL8H0QlW",
        "outputId": "49c84830-cd78-4e1b-f86b-f2adba705790"
      },
      "outputs": [
        {
          "data": {
            "text/plain": [
              "(array([1., 2., 3., 4., 5., 6., 7.]),\n",
              " tensor([1., 2., 3., 4., 5., 6., 7.], dtype=torch.float64))"
            ]
          },
          "execution_count": 279,
          "metadata": {},
          "output_type": "execute_result"
        }
      ],
      "source": [
        "#  Numpy Array to Tensor\n",
        "\n",
        "array = np.arange(1.0, 8.0)\n",
        "tensor = torch.from_numpy(array)\n",
        "array, tensor\n"
      ]
    },
    {
      "cell_type": "code",
      "execution_count": 280,
      "metadata": {
        "colab": {
          "base_uri": "https://localhost:8080/"
        },
        "id": "lnSkwl190QlW",
        "outputId": "7b900fa2-0199-4e7f-b4ac-19ce9a5c76d0"
      },
      "outputs": [
        {
          "name": "stdout",
          "output_type": "stream",
          "text": [
            "[2. 3. 4. 5. 6. 7. 8.] tensor([1., 2., 3., 4., 5., 6., 7.], dtype=torch.float64)\n",
            "[2. 3. 4. 5. 6. 7. 8.] tensor([2., 3., 4., 5., 6., 7., 8.], dtype=torch.float64)\n"
          ]
        }
      ],
      "source": [
        "# Change th evalue of array and waht will this do to `tensor`\n",
        "\n",
        "array = array + 1\n",
        "print(array, tensor)\n",
        "\n",
        "tensor = tensor + 1\n",
        "\n",
        "print(array, tensor)\n"
      ]
    },
    {
      "cell_type": "code",
      "execution_count": 281,
      "metadata": {
        "colab": {
          "base_uri": "https://localhost:8080/"
        },
        "id": "IvdPl1ii0QlX",
        "outputId": "f6f52dfe-b958-4084-8280-47643a4fe012"
      },
      "outputs": [
        {
          "data": {
            "text/plain": [
              "(tensor([1., 2., 3., 4., 5., 6., 7.]),\n",
              " array([1., 2., 3., 4., 5., 6., 7.], dtype=float32))"
            ]
          },
          "execution_count": 281,
          "metadata": {},
          "output_type": "execute_result"
        }
      ],
      "source": [
        "#  tensor to numpy array\n",
        "tensor = torch.arange(1.0, 8.0)\n",
        "array = tensor.numpy()\n",
        "tensor, array\n"
      ]
    },
    {
      "cell_type": "code",
      "execution_count": 282,
      "metadata": {
        "colab": {
          "base_uri": "https://localhost:8080/"
        },
        "id": "ehFrOSGF0QlX",
        "outputId": "53686199-3fec-465b-e298-82bc31ee9bae"
      },
      "outputs": [
        {
          "name": "stdout",
          "output_type": "stream",
          "text": [
            "tensor([2., 3., 4., 5., 6., 7., 8.]) [1. 2. 3. 4. 5. 6. 7.]\n"
          ]
        }
      ],
      "source": [
        "# Change the tensor and what will this do to `array`\n",
        "tensor = tensor + 1\n",
        "print(tensor, array)\n"
      ]
    },
    {
      "cell_type": "code",
      "execution_count": 283,
      "metadata": {
        "colab": {
          "base_uri": "https://localhost:8080/"
        },
        "id": "fk5naFrd0QlX",
        "outputId": "0640fc95-20f3-467a-ccff-eadc97270fb8"
      },
      "outputs": [
        {
          "name": "stdout",
          "output_type": "stream",
          "text": [
            "tensor([2., 3., 4., 5., 6., 7., 8.]) [2. 3. 4. 5. 6. 7. 8.]\n"
          ]
        }
      ],
      "source": [
        "# Change the array and what will this do to `tensor`\n",
        "array = array + 1\n",
        "print(tensor, array)\n"
      ]
    },
    {
      "cell_type": "markdown",
      "metadata": {
        "id": "NX6lva3P0QlX"
      },
      "source": [
        "## Reproducibility (trying to take random out of random)\n",
        "\n",
        "In short how a neural network learns:\n",
        "\n",
        "`start with random numbers -> tensor operations -> update random numbers to try and make them better representation of the data ->again -> again -> again`\n",
        "\n",
        "To reduce the randomness in neural networks and PyTorch comes the concept of a **random seed**\n",
        "\n",
        "Essentially what the random seed does is \"flavor\" the randomness.\n"
      ]
    },
    {
      "cell_type": "code",
      "execution_count": 284,
      "metadata": {
        "colab": {
          "base_uri": "https://localhost:8080/"
        },
        "id": "Nq4uHMYF0QlX",
        "outputId": "760b6587-147d-44c3-dd89-5133a50e66ce"
      },
      "outputs": [
        {
          "data": {
            "text/plain": [
              "tensor([[0.2706, 0.6560, 0.6614],\n",
              "        [0.3648, 0.1490, 0.8693],\n",
              "        [0.0294, 0.5449, 0.0794]])"
            ]
          },
          "execution_count": 284,
          "metadata": {},
          "output_type": "execute_result"
        }
      ],
      "source": [
        "torch.rand(3, 3)  # will create always random numbers between 0 and 1\n"
      ]
    },
    {
      "cell_type": "code",
      "execution_count": 285,
      "metadata": {
        "colab": {
          "base_uri": "https://localhost:8080/"
        },
        "id": "2xUL5Zsu0QlX",
        "outputId": "e25ffad5-e1d2-4674-9eaf-cbad3171c631"
      },
      "outputs": [
        {
          "data": {
            "text/plain": [
              "(tensor([[0.2313, 0.2927, 0.3386],\n",
              "         [0.3708, 0.0831, 0.0944],\n",
              "         [0.6568, 0.7708, 0.1053]]),\n",
              " tensor([[0.1467, 0.1932, 0.9118],\n",
              "         [0.1488, 0.0913, 0.4470],\n",
              "         [0.2440, 0.5571, 0.1928]]),\n",
              " tensor([[False, False, False],\n",
              "         [False, False, False],\n",
              "         [False, False, False]]))"
            ]
          },
          "execution_count": 285,
          "metadata": {},
          "output_type": "execute_result"
        }
      ],
      "source": [
        "# create two random tensors\n",
        "random_tensor_a = torch.rand(3, 3)\n",
        "random_tensor_b = torch.rand(3, 3)\n",
        "\n",
        "\n",
        "random_tensor_a, random_tensor_b, random_tensor_a == random_tensor_b\n"
      ]
    },
    {
      "cell_type": "code",
      "execution_count": 286,
      "metadata": {
        "colab": {
          "base_uri": "https://localhost:8080/"
        },
        "id": "Fukmn8O70QlX",
        "outputId": "094da9d5-60fe-4c1f-c915-2c72a0a0f849"
      },
      "outputs": [
        {
          "data": {
            "text/plain": [
              "(tensor([[0.8823, 0.9150, 0.3829],\n",
              "         [0.9593, 0.3904, 0.6009],\n",
              "         [0.2566, 0.7936, 0.9408]]),\n",
              " tensor([[0.8823, 0.9150, 0.3829],\n",
              "         [0.9593, 0.3904, 0.6009],\n",
              "         [0.2566, 0.7936, 0.9408]]),\n",
              " tensor([[True, True, True],\n",
              "         [True, True, True],\n",
              "         [True, True, True]]))"
            ]
          },
          "execution_count": 286,
          "metadata": {},
          "output_type": "execute_result"
        }
      ],
      "source": [
        "# Let's make some random but reproducible tensors\n",
        "\n",
        "# set the random seed\n",
        "RANDOM_SEED = 42\n",
        "\n",
        "torch.manual_seed(RANDOM_SEED)\n",
        "random_tensor_c = torch.rand(3, 3)\n",
        "\n",
        "torch.manual_seed(RANDOM_SEED)\n",
        "random_tensor_d = torch.rand(3, 3)\n",
        "\n",
        "random_tensor_c, random_tensor_d, random_tensor_c == random_tensor_d\n"
      ]
    },
    {
      "cell_type": "code",
      "execution_count": 287,
      "metadata": {
        "colab": {
          "base_uri": "https://localhost:8080/"
        },
        "id": "RX9xK1BG0QlX",
        "outputId": "e8b2e758-a51b-43a2-9328-300264748b6e"
      },
      "outputs": [
        {
          "name": "stdout",
          "output_type": "stream",
          "text": [
            "zsh:1: command not found: nvidia-smi\n"
          ]
        }
      ],
      "source": [
        "!nvidia-smi"
      ]
    },
    {
      "cell_type": "code",
      "execution_count": 288,
      "metadata": {},
      "outputs": [
        {
          "data": {
            "text/plain": [
              "False"
            ]
          },
          "execution_count": 288,
          "metadata": {},
          "output_type": "execute_result"
        }
      ],
      "source": [
        "torch.cuda.is_available()"
      ]
    },
    {
      "cell_type": "code",
      "execution_count": 289,
      "metadata": {
        "id": "VBYsv8ai0QlY"
      },
      "outputs": [
        {
          "data": {
            "text/plain": [
              "'cpu'"
            ]
          },
          "execution_count": 289,
          "metadata": {},
          "output_type": "execute_result"
        }
      ],
      "source": [
        "device = \"cuda\" if torch.cuda.is_available() else \"cpu\"\n",
        "device"
      ]
    },
    {
      "cell_type": "code",
      "execution_count": 290,
      "metadata": {},
      "outputs": [
        {
          "data": {
            "text/plain": [
              "0"
            ]
          },
          "execution_count": 290,
          "metadata": {},
          "output_type": "execute_result"
        }
      ],
      "source": [
        "#  Count number of devices\n",
        "torch.cuda.device_count()"
      ]
    },
    {
      "attachments": {},
      "cell_type": "markdown",
      "metadata": {},
      "source": [
        "### 3. putting tensors (and models) on the GPU\n"
      ]
    },
    {
      "cell_type": "code",
      "execution_count": 291,
      "metadata": {},
      "outputs": [
        {
          "data": {
            "text/plain": [
              "(tensor([1, 2, 3]), device(type='cpu'))"
            ]
          },
          "execution_count": 291,
          "metadata": {},
          "output_type": "execute_result"
        }
      ],
      "source": [
        "#  creating a tensor on GPU\n",
        "tensor = torch.tensor([1, 2, 3])\n",
        "tensor, tensor.device"
      ]
    },
    {
      "cell_type": "code",
      "execution_count": 292,
      "metadata": {},
      "outputs": [
        {
          "data": {
            "text/plain": [
              "(tensor([1, 2, 3]), device(type='cpu'))"
            ]
          },
          "execution_count": 292,
          "metadata": {},
          "output_type": "execute_result"
        }
      ],
      "source": [
        "# move tensor to GPU\n",
        "\n",
        "tensor_gpu = tensor.to(device)\n",
        "tensor_gpu, tensor_gpu.device"
      ]
    },
    {
      "attachments": {},
      "cell_type": "markdown",
      "metadata": {},
      "source": [
        "### Moving tensors back to CPU"
      ]
    },
    {
      "cell_type": "code",
      "execution_count": 293,
      "metadata": {},
      "outputs": [
        {
          "data": {
            "text/plain": [
              "array([1, 2, 3])"
            ]
          },
          "execution_count": 293,
          "metadata": {},
          "output_type": "execute_result"
        }
      ],
      "source": [
        "#  if tensor is on GPU, can't transform in to numpy array\n",
        "tensor_gpu.numpy()"
      ]
    },
    {
      "cell_type": "code",
      "execution_count": 294,
      "metadata": {},
      "outputs": [
        {
          "data": {
            "text/plain": [
              "array([1, 2, 3])"
            ]
          },
          "execution_count": 294,
          "metadata": {},
          "output_type": "execute_result"
        }
      ],
      "source": [
        "# to fix the GPU tensor with numpy issue, we can first set the tensor to CPU\n",
        "tensor_cpu = tensor_gpu.cpu().numpy()\n",
        "tensor_cpu"
      ]
    },
    {
      "cell_type": "code",
      "execution_count": null,
      "metadata": {},
      "outputs": [],
      "source": []
    }
  ],
  "metadata": {
    "accelerator": "GPU",
    "colab": {
      "provenance": []
    },
    "gpuClass": "standard",
    "kernelspec": {
      "display_name": "env",
      "language": "python",
      "name": "python3"
    },
    "language_info": {
      "codemirror_mode": {
        "name": "ipython",
        "version": 3
      },
      "file_extension": ".py",
      "mimetype": "text/x-python",
      "name": "python",
      "nbconvert_exporter": "python",
      "pygments_lexer": "ipython3",
      "version": "3.10.6"
    },
    "orig_nbformat": 4
  },
  "nbformat": 4,
  "nbformat_minor": 0
}
